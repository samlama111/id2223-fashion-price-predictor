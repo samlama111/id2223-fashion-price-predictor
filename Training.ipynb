{
 "cells": [
  {
   "cell_type": "code",
   "execution_count": 1,
   "metadata": {},
   "outputs": [],
   "source": [
    "import os\n",
    "import hopsworks\n",
    "import pandas as pd\n",
    "import numpy as np"
   ]
  },
  {
   "cell_type": "code",
   "execution_count": 2,
   "metadata": {},
   "outputs": [
    {
     "name": "stdout",
     "output_type": "stream",
     "text": [
      "2024-12-29 13:30:25,138 INFO: Initializing external client\n",
      "2024-12-29 13:30:25,139 INFO: Base URL: https://c.app.hopsworks.ai:443\n",
      "2024-12-29 13:30:27,053 INFO: Python Engine initialized.\n",
      "\n",
      "Logged in to project, explore it here https://c.app.hopsworks.ai:443/p/1159324\n"
     ]
    }
   ],
   "source": [
    "with open('data/hopsworks-api-key.txt', 'r') as file:\n",
    "    os.environ[\"HOPSWORKS_API_KEY\"] = file.read().rstrip()\n",
    "    \n",
    "project = hopsworks.login()\n",
    "fs = project.get_feature_store()"
   ]
  },
  {
   "cell_type": "code",
   "execution_count": 3,
   "metadata": {},
   "outputs": [],
   "source": [
    "grailed_items_fg = fs.get_feature_group(\n",
    "    name='grailed_items',\n",
    "    version=1,\n",
    ")"
   ]
  },
  {
   "cell_type": "code",
   "execution_count": 4,
   "metadata": {},
   "outputs": [
    {
     "data": {
      "text/plain": [
       "[Feature('id', 'bigint', None, True, False, None, None, 1394323),\n",
       " Feature('sold_at', 'timestamp', None, False, False, None, None, 1394323),\n",
       " Feature('category_path', 'string', None, False, False, None, None, 1394323),\n",
       " Feature('description', 'string', None, False, False, None, None, 1394323),\n",
       " Feature('size', 'string', None, False, False, None, None, 1394323),\n",
       " Feature('color', 'string', None, False, False, None, None, 1394323),\n",
       " Feature('sold_price', 'bigint', None, False, False, None, None, 1394323),\n",
       " Feature('designers_title', 'string', None, False, False, None, None, 1394323),\n",
       " Feature('designers_title_embedding', 'array<float>', None, False, False, None, None, 1394323),\n",
       " Feature('condition_ordinal', 'bigint', None, False, False, None, None, 1394323)]"
      ]
     },
     "execution_count": 4,
     "metadata": {},
     "output_type": "execute_result"
    }
   ],
   "source": [
    "grailed_items_fg.features"
   ]
  },
  {
   "cell_type": "markdown",
   "metadata": {},
   "source": [
    "## Create feature view"
   ]
  },
  {
   "cell_type": "code",
   "execution_count": 5,
   "metadata": {},
   "outputs": [
    {
     "name": "stdout",
     "output_type": "stream",
     "text": [
      "Finished: Reading data from Hopsworks, using Hopsworks Feature Query Service (1.04s) \n"
     ]
    },
    {
     "data": {
      "text/html": [
       "<div>\n",
       "<style scoped>\n",
       "    .dataframe tbody tr th:only-of-type {\n",
       "        vertical-align: middle;\n",
       "    }\n",
       "\n",
       "    .dataframe tbody tr th {\n",
       "        vertical-align: top;\n",
       "    }\n",
       "\n",
       "    .dataframe thead th {\n",
       "        text-align: right;\n",
       "    }\n",
       "</style>\n",
       "<table border=\"1\" class=\"dataframe\">\n",
       "  <thead>\n",
       "    <tr style=\"text-align: right;\">\n",
       "      <th></th>\n",
       "      <th>sold_price</th>\n",
       "      <th>designers_title_embedding</th>\n",
       "      <th>category_path</th>\n",
       "      <th>size</th>\n",
       "      <th>color</th>\n",
       "      <th>condition_ordinal</th>\n",
       "    </tr>\n",
       "  </thead>\n",
       "  <tbody>\n",
       "    <tr>\n",
       "      <th>0</th>\n",
       "      <td>70</td>\n",
       "      <td>[-0.0035999876, -0.014603166, -0.0431731, -0.0...</td>\n",
       "      <td>tops.short_sleeve_shirts</td>\n",
       "      <td>l</td>\n",
       "      <td>white</td>\n",
       "      <td>1</td>\n",
       "    </tr>\n",
       "    <tr>\n",
       "      <th>1</th>\n",
       "      <td>50</td>\n",
       "      <td>[-0.011395679, 0.020809747, 0.007503037, 0.022...</td>\n",
       "      <td>bottoms.casual_pants</td>\n",
       "      <td>36</td>\n",
       "      <td>black</td>\n",
       "      <td>1</td>\n",
       "    </tr>\n",
       "    <tr>\n",
       "      <th>2</th>\n",
       "      <td>150</td>\n",
       "      <td>[0.019931091, 0.018887337, 0.003918661, 0.0048...</td>\n",
       "      <td>bottoms.denim</td>\n",
       "      <td>32</td>\n",
       "      <td>brown</td>\n",
       "      <td>1</td>\n",
       "    </tr>\n",
       "    <tr>\n",
       "      <th>3</th>\n",
       "      <td>360</td>\n",
       "      <td>[-0.0048367777, 0.018785886, -0.015241521, -0....</td>\n",
       "      <td>accessories.belts</td>\n",
       "      <td>34</td>\n",
       "      <td>black</td>\n",
       "      <td>2</td>\n",
       "    </tr>\n",
       "    <tr>\n",
       "      <th>4</th>\n",
       "      <td>150</td>\n",
       "      <td>[-0.029613871, -0.04543135, 0.007882361, -0.04...</td>\n",
       "      <td>footwear.hitop_sneakers</td>\n",
       "      <td>8</td>\n",
       "      <td>grey</td>\n",
       "      <td>1</td>\n",
       "    </tr>\n",
       "    <tr>\n",
       "      <th>5</th>\n",
       "      <td>85</td>\n",
       "      <td>[-0.0017983527, -0.053600196, 0.031824138, 0.0...</td>\n",
       "      <td>accessories.hats</td>\n",
       "      <td>28</td>\n",
       "      <td>black</td>\n",
       "      <td>1</td>\n",
       "    </tr>\n",
       "    <tr>\n",
       "      <th>6</th>\n",
       "      <td>144</td>\n",
       "      <td>[-0.030162571, -0.0075903414, 0.047487054, -0....</td>\n",
       "      <td>accessories.jewelry_watches</td>\n",
       "      <td>one size</td>\n",
       "      <td>silver</td>\n",
       "      <td>3</td>\n",
       "    </tr>\n",
       "    <tr>\n",
       "      <th>7</th>\n",
       "      <td>210</td>\n",
       "      <td>[-0.012790641, 0.010913067, -0.0066601876, 0.0...</td>\n",
       "      <td>accessories.wallets</td>\n",
       "      <td>one size</td>\n",
       "      <td>black</td>\n",
       "      <td>3</td>\n",
       "    </tr>\n",
       "    <tr>\n",
       "      <th>8</th>\n",
       "      <td>75</td>\n",
       "      <td>[-0.01947031, 0.032118134, 0.04220958, -0.0403...</td>\n",
       "      <td>bottoms.sweatpants_joggers</td>\n",
       "      <td>30</td>\n",
       "      <td>black</td>\n",
       "      <td>2</td>\n",
       "    </tr>\n",
       "    <tr>\n",
       "      <th>9</th>\n",
       "      <td>125</td>\n",
       "      <td>[-0.045513783, 0.015168834, -0.005308694, 0.01...</td>\n",
       "      <td>tops.short_sleeve_shirts</td>\n",
       "      <td>m</td>\n",
       "      <td>black</td>\n",
       "      <td>2</td>\n",
       "    </tr>\n",
       "  </tbody>\n",
       "</table>\n",
       "</div>"
      ],
      "text/plain": [
       "   sold_price                          designers_title_embedding  \\\n",
       "0          70  [-0.0035999876, -0.014603166, -0.0431731, -0.0...   \n",
       "1          50  [-0.011395679, 0.020809747, 0.007503037, 0.022...   \n",
       "2         150  [0.019931091, 0.018887337, 0.003918661, 0.0048...   \n",
       "3         360  [-0.0048367777, 0.018785886, -0.015241521, -0....   \n",
       "4         150  [-0.029613871, -0.04543135, 0.007882361, -0.04...   \n",
       "5          85  [-0.0017983527, -0.053600196, 0.031824138, 0.0...   \n",
       "6         144  [-0.030162571, -0.0075903414, 0.047487054, -0....   \n",
       "7         210  [-0.012790641, 0.010913067, -0.0066601876, 0.0...   \n",
       "8          75  [-0.01947031, 0.032118134, 0.04220958, -0.0403...   \n",
       "9         125  [-0.045513783, 0.015168834, -0.005308694, 0.01...   \n",
       "\n",
       "                 category_path      size   color  condition_ordinal  \n",
       "0     tops.short_sleeve_shirts         l   white                  1  \n",
       "1         bottoms.casual_pants        36   black                  1  \n",
       "2                bottoms.denim        32   brown                  1  \n",
       "3            accessories.belts        34   black                  2  \n",
       "4      footwear.hitop_sneakers         8    grey                  1  \n",
       "5             accessories.hats        28   black                  1  \n",
       "6  accessories.jewelry_watches  one size  silver                  3  \n",
       "7          accessories.wallets  one size   black                  3  \n",
       "8   bottoms.sweatpants_joggers        30   black                  2  \n",
       "9     tops.short_sleeve_shirts         m   black                  2  "
      ]
     },
     "execution_count": 5,
     "metadata": {},
     "output_type": "execute_result"
    }
   ],
   "source": [
    "selected_features = grailed_items_fg.select(['sold_price', 'designers_title_embedding', 'category_path', 'size', 'color', 'condition_ordinal'])\n",
    "selected_features.show(10)"
   ]
  },
  {
   "cell_type": "code",
   "execution_count": 6,
   "metadata": {},
   "outputs": [],
   "source": [
    "feature_view = fs.get_or_create_feature_view(\n",
    "    name='grailed_items_fv',\n",
    "    version=2,\n",
    "    labels=['sold_price'],\n",
    "    query=selected_features,\n",
    ")"
   ]
  },
  {
   "cell_type": "code",
   "execution_count": 7,
   "metadata": {},
   "outputs": [
    {
     "name": "stdout",
     "output_type": "stream",
     "text": [
      "Finished: Reading data from Hopsworks, using Hopsworks Feature Query Service (1.34s) \n"
     ]
    },
    {
     "name": "stderr",
     "output_type": "stream",
     "text": [
      "VersionWarning: Incremented version to `3`.\n"
     ]
    }
   ],
   "source": [
    "X_train, X_test, y_train, y_test = feature_view.train_test_split(test_size=0.2)"
   ]
  },
  {
   "cell_type": "code",
   "execution_count": 8,
   "metadata": {},
   "outputs": [
    {
     "data": {
      "text/html": [
       "<div>\n",
       "<style scoped>\n",
       "    .dataframe tbody tr th:only-of-type {\n",
       "        vertical-align: middle;\n",
       "    }\n",
       "\n",
       "    .dataframe tbody tr th {\n",
       "        vertical-align: top;\n",
       "    }\n",
       "\n",
       "    .dataframe thead th {\n",
       "        text-align: right;\n",
       "    }\n",
       "</style>\n",
       "<table border=\"1\" class=\"dataframe\">\n",
       "  <thead>\n",
       "    <tr style=\"text-align: right;\">\n",
       "      <th></th>\n",
       "      <th>designers_title_embedding</th>\n",
       "      <th>category_path</th>\n",
       "      <th>size</th>\n",
       "      <th>color</th>\n",
       "      <th>condition_ordinal</th>\n",
       "    </tr>\n",
       "  </thead>\n",
       "  <tbody>\n",
       "    <tr>\n",
       "      <th>0</th>\n",
       "      <td>[-0.0035999876, -0.014603166, -0.0431731, -0.0...</td>\n",
       "      <td>tops.short_sleeve_shirts</td>\n",
       "      <td>l</td>\n",
       "      <td>white</td>\n",
       "      <td>1</td>\n",
       "    </tr>\n",
       "    <tr>\n",
       "      <th>1</th>\n",
       "      <td>[-0.011395679, 0.020809747, 0.007503037, 0.022...</td>\n",
       "      <td>bottoms.casual_pants</td>\n",
       "      <td>36</td>\n",
       "      <td>black</td>\n",
       "      <td>1</td>\n",
       "    </tr>\n",
       "    <tr>\n",
       "      <th>3</th>\n",
       "      <td>[-0.0048367777, 0.018785886, -0.015241521, -0....</td>\n",
       "      <td>accessories.belts</td>\n",
       "      <td>34</td>\n",
       "      <td>black</td>\n",
       "      <td>2</td>\n",
       "    </tr>\n",
       "    <tr>\n",
       "      <th>4</th>\n",
       "      <td>[-0.029613871, -0.04543135, 0.007882361, -0.04...</td>\n",
       "      <td>footwear.hitop_sneakers</td>\n",
       "      <td>8</td>\n",
       "      <td>grey</td>\n",
       "      <td>1</td>\n",
       "    </tr>\n",
       "    <tr>\n",
       "      <th>5</th>\n",
       "      <td>[-0.0017983527, -0.053600196, 0.031824138, 0.0...</td>\n",
       "      <td>accessories.hats</td>\n",
       "      <td>28</td>\n",
       "      <td>black</td>\n",
       "      <td>1</td>\n",
       "    </tr>\n",
       "    <tr>\n",
       "      <th>...</th>\n",
       "      <td>...</td>\n",
       "      <td>...</td>\n",
       "      <td>...</td>\n",
       "      <td>...</td>\n",
       "      <td>...</td>\n",
       "    </tr>\n",
       "    <tr>\n",
       "      <th>94</th>\n",
       "      <td>[-0.0008724189, 0.05182697, -0.020572301, -0.0...</td>\n",
       "      <td>tops.sweaters_knitwear</td>\n",
       "      <td>m</td>\n",
       "      <td>black navy</td>\n",
       "      <td>2</td>\n",
       "    </tr>\n",
       "    <tr>\n",
       "      <th>95</th>\n",
       "      <td>[-0.0068363273, -0.020503161, -0.023378907, -0...</td>\n",
       "      <td>accessories.belts</td>\n",
       "      <td>34</td>\n",
       "      <td>black</td>\n",
       "      <td>2</td>\n",
       "    </tr>\n",
       "    <tr>\n",
       "      <th>96</th>\n",
       "      <td>[-0.058070865, 0.033359855, 0.006958423, 0.032...</td>\n",
       "      <td>accessories.belts</td>\n",
       "      <td>one size</td>\n",
       "      <td>brown</td>\n",
       "      <td>3</td>\n",
       "    </tr>\n",
       "    <tr>\n",
       "      <th>97</th>\n",
       "      <td>[-0.0624573, -0.015852991, -0.00038503917, -0....</td>\n",
       "      <td>accessories.jewelry_watches</td>\n",
       "      <td>one size</td>\n",
       "      <td>white</td>\n",
       "      <td>2</td>\n",
       "    </tr>\n",
       "    <tr>\n",
       "      <th>99</th>\n",
       "      <td>[-0.01563637, 0.03461329, 0.043660328, 0.02773...</td>\n",
       "      <td>bottoms.denim</td>\n",
       "      <td>31</td>\n",
       "      <td>denim</td>\n",
       "      <td>2</td>\n",
       "    </tr>\n",
       "  </tbody>\n",
       "</table>\n",
       "<p>80 rows × 5 columns</p>\n",
       "</div>"
      ],
      "text/plain": [
       "                            designers_title_embedding  \\\n",
       "0   [-0.0035999876, -0.014603166, -0.0431731, -0.0...   \n",
       "1   [-0.011395679, 0.020809747, 0.007503037, 0.022...   \n",
       "3   [-0.0048367777, 0.018785886, -0.015241521, -0....   \n",
       "4   [-0.029613871, -0.04543135, 0.007882361, -0.04...   \n",
       "5   [-0.0017983527, -0.053600196, 0.031824138, 0.0...   \n",
       "..                                                ...   \n",
       "94  [-0.0008724189, 0.05182697, -0.020572301, -0.0...   \n",
       "95  [-0.0068363273, -0.020503161, -0.023378907, -0...   \n",
       "96  [-0.058070865, 0.033359855, 0.006958423, 0.032...   \n",
       "97  [-0.0624573, -0.015852991, -0.00038503917, -0....   \n",
       "99  [-0.01563637, 0.03461329, 0.043660328, 0.02773...   \n",
       "\n",
       "                  category_path      size       color  condition_ordinal  \n",
       "0      tops.short_sleeve_shirts         l       white                  1  \n",
       "1          bottoms.casual_pants        36       black                  1  \n",
       "3             accessories.belts        34       black                  2  \n",
       "4       footwear.hitop_sneakers         8        grey                  1  \n",
       "5              accessories.hats        28       black                  1  \n",
       "..                          ...       ...         ...                ...  \n",
       "94       tops.sweaters_knitwear         m  black navy                  2  \n",
       "95            accessories.belts        34       black                  2  \n",
       "96            accessories.belts  one size       brown                  3  \n",
       "97  accessories.jewelry_watches  one size       white                  2  \n",
       "99                bottoms.denim        31       denim                  2  \n",
       "\n",
       "[80 rows x 5 columns]"
      ]
     },
     "execution_count": 8,
     "metadata": {},
     "output_type": "execute_result"
    }
   ],
   "source": [
    "X_train"
   ]
  },
  {
   "cell_type": "markdown",
   "metadata": {},
   "source": [
    "## Create a predictive model"
   ]
  },
  {
   "cell_type": "markdown",
   "metadata": {},
   "source": [
    "Candidates include: XGBoost, CatBoost (handles categorical features natively), KNN or a neural net."
   ]
  },
  {
   "cell_type": "code",
   "execution_count": 9,
   "metadata": {},
   "outputs": [],
   "source": [
    "# Convert embeddings while preserving index\n",
    "embedding_cols = pd.DataFrame(\n",
    "    np.vstack(X_train['designers_title_embedding'].to_numpy()),\n",
    "    columns=[f'embedding_{i}' for i in range(len(X_train['designers_title_embedding'].iloc[0]))],\n",
    "    index=X_train.index  # Preserve the index\n",
    ")\n",
    "\n",
    "# Create processed dataframes with index alignment\n",
    "X_train_processed = pd.concat([\n",
    "    X_train.drop('designers_title_embedding', axis=1),\n",
    "    embedding_cols\n",
    "], axis=1)\n",
    "\n",
    "# Do the same for test data\n",
    "embedding_cols_test = pd.DataFrame(\n",
    "    np.vstack(X_test['designers_title_embedding'].to_numpy()),\n",
    "    columns=[f'embedding_{i}' for i in range(len(X_test['designers_title_embedding'].iloc[0]))],\n",
    "    index=X_test.index  # Preserve the index\n",
    ")\n",
    "X_test_processed = pd.concat([\n",
    "    X_test.drop('designers_title_embedding', axis=1),\n",
    "    embedding_cols_test\n",
    "], axis=1)\n",
    "\n",
    "# Make sure indices match\n",
    "X_train_processed = X_train_processed.loc[y_train.index]\n",
    "X_test_processed = X_test_processed.loc[y_test.index]\n",
    "\n",
    "raw_categorical_features = ['category_path', 'size', 'color']"
   ]
  },
  {
   "cell_type": "code",
   "execution_count": 10,
   "metadata": {},
   "outputs": [
    {
     "name": "stdout",
     "output_type": "stream",
     "text": [
      "Learning rate set to 0.034252\n",
      "0:\tlearn: 119.3052644\ttest: 72.1690833\tbest: 72.1690833 (0)\ttotal: 92.8ms\tremaining: 1m 32s\n",
      "Stopped by overfitting detector  (50 iterations wait)\n",
      "\n",
      "bestTest = 69.05351645\n",
      "bestIteration = 37\n",
      "\n",
      "Shrink model to first 38 iterations.\n"
     ]
    },
    {
     "data": {
      "text/plain": [
       "<catboost.core.CatBoostRegressor at 0x7fceea2a59d0>"
      ]
     },
     "execution_count": 10,
     "metadata": {},
     "output_type": "execute_result"
    }
   ],
   "source": [
    "from catboost import CatBoostRegressor, Pool\n",
    "\n",
    "# Initialize the model\n",
    "model = CatBoostRegressor(\n",
    "    cat_features=raw_categorical_features,\n",
    "    iterations=1000,\n",
    "    # learning_rate=0.1,\n",
    "    # depth=6,\n",
    "    loss_function='RMSE',\n",
    "    verbose=100  # Print training progress every 100 iterations\n",
    ")\n",
    "\n",
    "# Create CatBoost Pool objects\n",
    "train_pool = Pool(\n",
    "    data=X_train_processed,\n",
    "    label=y_train,\n",
    "    cat_features=raw_categorical_features\n",
    ")\n",
    "\n",
    "test_pool = Pool(\n",
    "    data=X_test_processed,\n",
    "    label=y_test,\n",
    "    cat_features=raw_categorical_features\n",
    ")\n",
    "\n",
    "# Train the model\n",
    "model.fit(\n",
    "    train_pool,\n",
    "    eval_set=test_pool,\n",
    "    early_stopping_rounds=50\n",
    ")"
   ]
  },
  {
   "cell_type": "code",
   "execution_count": 11,
   "metadata": {},
   "outputs": [
    {
     "name": "stdout",
     "output_type": "stream",
     "text": [
      "MSE: 4768.388133434634\n",
      "R squared: -0.27711198351637445\n"
     ]
    }
   ],
   "source": [
    "from sklearn.metrics import mean_squared_error, r2_score\n",
    "\n",
    "# Predicting target values on the test set\n",
    "y_pred = model.predict(X_test_processed)\n",
    "\n",
    "# Calculating Mean Squared Error (MSE) using sklearn\n",
    "mse = mean_squared_error(y_test.iloc[:,0], y_pred)\n",
    "print(\"MSE:\", mse)\n",
    "\n",
    "# Calculating R squared using sklearn\n",
    "r2 = r2_score(y_test.iloc[:,0], y_pred)\n",
    "print(\"R squared:\", r2)"
   ]
  },
  {
   "cell_type": "code",
   "execution_count": 12,
   "metadata": {},
   "outputs": [],
   "source": [
    "# TODO: Is the order correct?\n",
    "predicted_df = y_test\n",
    "predicted_df['predicted_price'] = y_pred"
   ]
  },
  {
   "cell_type": "code",
   "execution_count": 13,
   "metadata": {},
   "outputs": [
    {
     "data": {
      "text/html": [
       "<div>\n",
       "<style scoped>\n",
       "    .dataframe tbody tr th:only-of-type {\n",
       "        vertical-align: middle;\n",
       "    }\n",
       "\n",
       "    .dataframe tbody tr th {\n",
       "        vertical-align: top;\n",
       "    }\n",
       "\n",
       "    .dataframe thead th {\n",
       "        text-align: right;\n",
       "    }\n",
       "</style>\n",
       "<table border=\"1\" class=\"dataframe\">\n",
       "  <thead>\n",
       "    <tr style=\"text-align: right;\">\n",
       "      <th></th>\n",
       "      <th>sold_price</th>\n",
       "      <th>predicted_price</th>\n",
       "    </tr>\n",
       "  </thead>\n",
       "  <tbody>\n",
       "    <tr>\n",
       "      <th>2</th>\n",
       "      <td>150</td>\n",
       "      <td>143.808986</td>\n",
       "    </tr>\n",
       "    <tr>\n",
       "      <th>9</th>\n",
       "      <td>125</td>\n",
       "      <td>119.229408</td>\n",
       "    </tr>\n",
       "    <tr>\n",
       "      <th>25</th>\n",
       "      <td>16</td>\n",
       "      <td>114.320981</td>\n",
       "    </tr>\n",
       "    <tr>\n",
       "      <th>26</th>\n",
       "      <td>58</td>\n",
       "      <td>128.802290</td>\n",
       "    </tr>\n",
       "    <tr>\n",
       "      <th>32</th>\n",
       "      <td>70</td>\n",
       "      <td>106.582098</td>\n",
       "    </tr>\n",
       "    <tr>\n",
       "      <th>40</th>\n",
       "      <td>43</td>\n",
       "      <td>132.053062</td>\n",
       "    </tr>\n",
       "    <tr>\n",
       "      <th>52</th>\n",
       "      <td>140</td>\n",
       "      <td>113.228035</td>\n",
       "    </tr>\n",
       "    <tr>\n",
       "      <th>63</th>\n",
       "      <td>24</td>\n",
       "      <td>131.931554</td>\n",
       "    </tr>\n",
       "    <tr>\n",
       "      <th>64</th>\n",
       "      <td>90</td>\n",
       "      <td>128.370765</td>\n",
       "    </tr>\n",
       "    <tr>\n",
       "      <th>65</th>\n",
       "      <td>100</td>\n",
       "      <td>124.584424</td>\n",
       "    </tr>\n",
       "    <tr>\n",
       "      <th>66</th>\n",
       "      <td>38</td>\n",
       "      <td>121.631726</td>\n",
       "    </tr>\n",
       "    <tr>\n",
       "      <th>70</th>\n",
       "      <td>35</td>\n",
       "      <td>119.382334</td>\n",
       "    </tr>\n",
       "    <tr>\n",
       "      <th>73</th>\n",
       "      <td>90</td>\n",
       "      <td>134.328685</td>\n",
       "    </tr>\n",
       "    <tr>\n",
       "      <th>75</th>\n",
       "      <td>80</td>\n",
       "      <td>120.682755</td>\n",
       "    </tr>\n",
       "    <tr>\n",
       "      <th>77</th>\n",
       "      <td>105</td>\n",
       "      <td>129.686737</td>\n",
       "    </tr>\n",
       "    <tr>\n",
       "      <th>80</th>\n",
       "      <td>46</td>\n",
       "      <td>108.931446</td>\n",
       "    </tr>\n",
       "    <tr>\n",
       "      <th>85</th>\n",
       "      <td>35</td>\n",
       "      <td>117.626167</td>\n",
       "    </tr>\n",
       "    <tr>\n",
       "      <th>86</th>\n",
       "      <td>72</td>\n",
       "      <td>122.273662</td>\n",
       "    </tr>\n",
       "    <tr>\n",
       "      <th>92</th>\n",
       "      <td>170</td>\n",
       "      <td>118.474808</td>\n",
       "    </tr>\n",
       "    <tr>\n",
       "      <th>98</th>\n",
       "      <td>280</td>\n",
       "      <td>129.697457</td>\n",
       "    </tr>\n",
       "  </tbody>\n",
       "</table>\n",
       "</div>"
      ],
      "text/plain": [
       "    sold_price  predicted_price\n",
       "2          150       143.808986\n",
       "9          125       119.229408\n",
       "25          16       114.320981\n",
       "26          58       128.802290\n",
       "32          70       106.582098\n",
       "40          43       132.053062\n",
       "52         140       113.228035\n",
       "63          24       131.931554\n",
       "64          90       128.370765\n",
       "65         100       124.584424\n",
       "66          38       121.631726\n",
       "70          35       119.382334\n",
       "73          90       134.328685\n",
       "75          80       120.682755\n",
       "77         105       129.686737\n",
       "80          46       108.931446\n",
       "85          35       117.626167\n",
       "86          72       122.273662\n",
       "92         170       118.474808\n",
       "98         280       129.697457"
      ]
     },
     "execution_count": 13,
     "metadata": {},
     "output_type": "execute_result"
    }
   ],
   "source": [
    "predicted_df"
   ]
  },
  {
   "cell_type": "markdown",
   "metadata": {},
   "source": [
    "### \"Outdated\" models"
   ]
  },
  {
   "cell_type": "code",
   "execution_count": null,
   "metadata": {},
   "outputs": [],
   "source": [
    "import numpy as np\n",
    "from xgboost import XGBRegressor\n",
    "\n",
    "# Convert the embeddings column into a numpy array of separate columns\n",
    "X_train_array = np.vstack(X_train['designers_title_embedding'].to_numpy())\n",
    "X_test_array = np.vstack(X_test['designers_title_embedding'].to_numpy())\n",
    "\n",
    "# Now train the model with the reshaped data\n",
    "xgb_regressor = XGBRegressor()\n",
    "xgb_regressor.fit(X_train_array, y_train)"
   ]
  },
  {
   "cell_type": "code",
   "execution_count": null,
   "metadata": {},
   "outputs": [],
   "source": [
    "from sklearn.neighbors import KNeighborsRegressor\n",
    "knn_reg = KNeighborsRegressor(n_neighbors=5)\n",
    "knn_reg.fit(X_train_array, y_train)"
   ]
  },
  {
   "cell_type": "code",
   "execution_count": null,
   "metadata": {},
   "outputs": [],
   "source": [
    "# TODO: Plot performance, consider saving the plots as images"
   ]
  },
  {
   "cell_type": "code",
   "execution_count": null,
   "metadata": {},
   "outputs": [],
   "source": [
    "# TODO: Plot feature importance"
   ]
  },
  {
   "cell_type": "markdown",
   "metadata": {},
   "source": [
    "## Model registry"
   ]
  },
  {
   "cell_type": "code",
   "execution_count": null,
   "metadata": {},
   "outputs": [],
   "source": [
    "# TODO: Save the model locally"
   ]
  },
  {
   "cell_type": "code",
   "execution_count": null,
   "metadata": {},
   "outputs": [],
   "source": [
    "# TODO: Save the model to model registry"
   ]
  }
 ],
 "metadata": {
  "kernelspec": {
   "display_name": "Python 3 (ipykernel)",
   "language": "python",
   "name": "python3"
  },
  "language_info": {
   "codemirror_mode": {
    "name": "ipython",
    "version": 3
   },
   "file_extension": ".py",
   "mimetype": "text/x-python",
   "name": "python",
   "nbconvert_exporter": "python",
   "pygments_lexer": "ipython3",
   "version": "3.11.9"
  }
 },
 "nbformat": 4,
 "nbformat_minor": 4
}
