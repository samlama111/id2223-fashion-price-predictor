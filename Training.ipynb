{
 "cells": [
  {
   "cell_type": "code",
   "execution_count": 1,
   "metadata": {},
   "outputs": [],
   "source": [
    "import os\n",
    "import hopsworks\n",
    "import pandas as pd\n",
    "import numpy as np\n",
    "import matplotlib.pyplot as plt\n",
    "from dotenv import load_dotenv"
   ]
  },
  {
   "cell_type": "code",
   "execution_count": 2,
   "metadata": {},
   "outputs": [
    {
     "name": "stdout",
     "output_type": "stream",
     "text": [
      "2025-01-07 11:05:13,327 INFO: Initializing external client\n",
      "2025-01-07 11:05:13,329 INFO: Base URL: https://c.app.hopsworks.ai:443\n",
      "2025-01-07 11:05:15,349 INFO: Python Engine initialized.\n",
      "\n",
      "Logged in to project, explore it here https://c.app.hopsworks.ai:443/p/1159324\n"
     ]
    }
   ],
   "source": [
    "load_dotenv()\n",
    "    \n",
    "project = hopsworks.login()\n",
    "fs = project.get_feature_store()"
   ]
  },
  {
   "cell_type": "code",
   "execution_count": 3,
   "metadata": {},
   "outputs": [],
   "source": [
    "grailed_items_fg = fs.get_feature_group(\n",
    "    name='draft_grailed_items',\n",
    "    version=4,\n",
    ")"
   ]
  },
  {
   "cell_type": "code",
   "execution_count": 4,
   "metadata": {},
   "outputs": [
    {
     "data": {
      "text/plain": [
       "[Feature('id', 'bigint', None, True, False, None, None, 1394604),\n",
       " Feature('sold_at', 'timestamp', None, False, False, None, None, 1394604),\n",
       " Feature('designer_names', 'array<float>', None, False, False, None, None, 1394604),\n",
       " Feature('description', 'array<float>', None, False, False, None, None, 1394604),\n",
       " Feature('title', 'array<float>', None, False, False, None, None, 1394604),\n",
       " Feature('hashtags', 'array<float>', None, False, False, None, None, 1394604),\n",
       " Feature('category_path', 'bigint', None, False, False, None, None, 1394604),\n",
       " Feature('condition', 'bigint', None, False, False, None, None, 1394604),\n",
       " Feature('size', 'array<float>', None, False, False, None, None, 1394604),\n",
       " Feature('color', 'bigint', None, False, False, None, None, 1394604),\n",
       " Feature('followerno', 'bigint', None, False, False, None, None, 1394604),\n",
       " Feature('sold_price', 'bigint', None, False, False, None, None, 1394604)]"
      ]
     },
     "execution_count": 4,
     "metadata": {},
     "output_type": "execute_result"
    }
   ],
   "source": [
    "grailed_items_fg.features"
   ]
  },
  {
   "cell_type": "code",
   "execution_count": 5,
   "metadata": {},
   "outputs": [],
   "source": [
    "# Set seed\n",
    "np.random.seed(42)"
   ]
  },
  {
   "cell_type": "markdown",
   "metadata": {},
   "source": [
    "## Create feature view"
   ]
  },
  {
   "cell_type": "code",
   "execution_count": 6,
   "metadata": {},
   "outputs": [],
   "source": [
    "# Features inspired by https://github.com/kirill-rubashevskiy/graildient-descent/blob/main/notebooks/retrain_best_ml_model.ipynb\n",
    "features = ['designer_names', 'category_path', 'color', 'condition', 'followerno', 'hashtags', 'description', 'title'] # , 'size']\n",
    "labels = ['sold_price']"
   ]
  },
  {
   "cell_type": "code",
   "execution_count": 7,
   "metadata": {},
   "outputs": [
    {
     "name": "stdout",
     "output_type": "stream",
     "text": [
      "Finished: Reading data from Hopsworks, using Hopsworks Feature Query Service (5.25s) \n"
     ]
    },
    {
     "data": {
      "text/html": [
       "<div>\n",
       "<style scoped>\n",
       "    .dataframe tbody tr th:only-of-type {\n",
       "        vertical-align: middle;\n",
       "    }\n",
       "\n",
       "    .dataframe tbody tr th {\n",
       "        vertical-align: top;\n",
       "    }\n",
       "\n",
       "    .dataframe thead th {\n",
       "        text-align: right;\n",
       "    }\n",
       "</style>\n",
       "<table border=\"1\" class=\"dataframe\">\n",
       "  <thead>\n",
       "    <tr style=\"text-align: right;\">\n",
       "      <th></th>\n",
       "      <th>designer_names</th>\n",
       "      <th>category_path</th>\n",
       "      <th>color</th>\n",
       "      <th>condition</th>\n",
       "      <th>followerno</th>\n",
       "      <th>hashtags</th>\n",
       "      <th>description</th>\n",
       "      <th>title</th>\n",
       "      <th>sold_price</th>\n",
       "    </tr>\n",
       "  </thead>\n",
       "  <tbody>\n",
       "    <tr>\n",
       "      <th>0</th>\n",
       "      <td>[0.008455929, 0.0028697923, 0.06372963, -0.034...</td>\n",
       "      <td>2411092262</td>\n",
       "      <td>3896101161</td>\n",
       "      <td>1</td>\n",
       "      <td>1</td>\n",
       "      <td>[-0.03810654, -0.006580899, 0.01852548, 0.0113...</td>\n",
       "      <td>[-0.03614048, 0.015635908, 0.036675498, -0.022...</td>\n",
       "      <td>[-0.033801984, -0.0314781, 0.024480032, -0.012...</td>\n",
       "      <td>55</td>\n",
       "    </tr>\n",
       "    <tr>\n",
       "      <th>1</th>\n",
       "      <td>[0.0010593642, -0.012211309, -0.016578179, -0....</td>\n",
       "      <td>2954578893</td>\n",
       "      <td>2973695580</td>\n",
       "      <td>2</td>\n",
       "      <td>8</td>\n",
       "      <td>[0.048452068, -0.001368538, 0.016888341, -0.04...</td>\n",
       "      <td>[-0.033516455, 0.04683744, 0.007957818, 0.0407...</td>\n",
       "      <td>[-0.022699146, 0.008013024, 0.041338712, 0.035...</td>\n",
       "      <td>569</td>\n",
       "    </tr>\n",
       "    <tr>\n",
       "      <th>2</th>\n",
       "      <td>[-0.04072198, -0.0048362296, 0.048269928, 0.00...</td>\n",
       "      <td>309901687</td>\n",
       "      <td>2807742906</td>\n",
       "      <td>2</td>\n",
       "      <td>9</td>\n",
       "      <td>[-0.08957221, 0.0024209158, -0.0056982324, 0.0...</td>\n",
       "      <td>[-0.03905363, 0.008795027, -0.016913513, 0.014...</td>\n",
       "      <td>[-0.020307204, 0.027977625, 0.010602047, -0.01...</td>\n",
       "      <td>278</td>\n",
       "    </tr>\n",
       "    <tr>\n",
       "      <th>3</th>\n",
       "      <td>[0.0010593642, -0.012211309, -0.016578179, -0....</td>\n",
       "      <td>2954578893</td>\n",
       "      <td>2973695580</td>\n",
       "      <td>3</td>\n",
       "      <td>73</td>\n",
       "      <td>[-0.052392323, -0.034530703, -0.029495526, -0....</td>\n",
       "      <td>[-0.08783149, 0.023678502, 0.022103464, -0.009...</td>\n",
       "      <td>[-0.030230703, -0.031346425, 0.010791936, 0.01...</td>\n",
       "      <td>800</td>\n",
       "    </tr>\n",
       "    <tr>\n",
       "      <th>4</th>\n",
       "      <td>[-0.0413155, -0.025468638, 0.02902394, -0.0297...</td>\n",
       "      <td>1698257419</td>\n",
       "      <td>3012185078</td>\n",
       "      <td>2</td>\n",
       "      <td>42</td>\n",
       "      <td>[-0.028539332, 0.011829672, 0.05398404, 0.0019...</td>\n",
       "      <td>[-0.010625219, 0.011431177, 0.00027578892, -0....</td>\n",
       "      <td>[-0.024104822, 0.012512886, 0.033501167, 0.012...</td>\n",
       "      <td>180</td>\n",
       "    </tr>\n",
       "    <tr>\n",
       "      <th>5</th>\n",
       "      <td>[-0.023065727, 0.00799096, 0.047225375, 0.0027...</td>\n",
       "      <td>109869071</td>\n",
       "      <td>3892230005</td>\n",
       "      <td>2</td>\n",
       "      <td>7</td>\n",
       "      <td>[-0.07543781, -0.017064571, 0.007872403, 0.036...</td>\n",
       "      <td>[-0.06583838, 0.037773512, 0.04039962, -0.0096...</td>\n",
       "      <td>[-0.05441786, -0.013890245, 0.031741533, 0.016...</td>\n",
       "      <td>36</td>\n",
       "    </tr>\n",
       "    <tr>\n",
       "      <th>6</th>\n",
       "      <td>[-0.017075147, 0.007701589, 0.085046604, -0.01...</td>\n",
       "      <td>1698257419</td>\n",
       "      <td>271855843</td>\n",
       "      <td>3</td>\n",
       "      <td>65</td>\n",
       "      <td>[0.018743245, -0.024017261, -0.006219109, -0.0...</td>\n",
       "      <td>[-0.04980058, 0.027313415, 0.07170434, -0.0307...</td>\n",
       "      <td>[-0.09509616, 0.006928549, 0.010449396, -0.028...</td>\n",
       "      <td>72</td>\n",
       "    </tr>\n",
       "    <tr>\n",
       "      <th>7</th>\n",
       "      <td>[-0.021199932, -0.02255822, 0.06599677, -0.003...</td>\n",
       "      <td>991000826</td>\n",
       "      <td>2973695580</td>\n",
       "      <td>1</td>\n",
       "      <td>2</td>\n",
       "      <td>[-0.045984022, 0.04901945, 0.04931234, 0.02790...</td>\n",
       "      <td>[-0.051647905, -0.0071153087, 0.010234532, -0....</td>\n",
       "      <td>[-0.0287803, -0.0032674577, 0.0071817385, -0.0...</td>\n",
       "      <td>35</td>\n",
       "    </tr>\n",
       "    <tr>\n",
       "      <th>8</th>\n",
       "      <td>[-0.038397297, 0.02080292, 0.04160584, -0.0728...</td>\n",
       "      <td>109869071</td>\n",
       "      <td>2807742906</td>\n",
       "      <td>2</td>\n",
       "      <td>17</td>\n",
       "      <td>[-0.04747075, 0.042539764, 0.067541204, -0.058...</td>\n",
       "      <td>[-0.02839256, 0.039140027, 0.05657124, -0.0132...</td>\n",
       "      <td>[-0.04790936, 0.04338459, 0.028106825, -0.0019...</td>\n",
       "      <td>39</td>\n",
       "    </tr>\n",
       "    <tr>\n",
       "      <th>9</th>\n",
       "      <td>[-0.017563483, 0.020716926, 0.11166117, 0.0184...</td>\n",
       "      <td>1797518063</td>\n",
       "      <td>1875972108</td>\n",
       "      <td>2</td>\n",
       "      <td>22</td>\n",
       "      <td>[-0.021639548, 0.0579892, 0.10188011, 0.004635...</td>\n",
       "      <td>[-0.060781166, 0.001159273, 0.04119494, 0.0105...</td>\n",
       "      <td>[-0.08946444, 0.030398728, 0.08259076, -0.0032...</td>\n",
       "      <td>54</td>\n",
       "    </tr>\n",
       "  </tbody>\n",
       "</table>\n",
       "</div>"
      ],
      "text/plain": [
       "                                      designer_names  category_path  \\\n",
       "0  [0.008455929, 0.0028697923, 0.06372963, -0.034...     2411092262   \n",
       "1  [0.0010593642, -0.012211309, -0.016578179, -0....     2954578893   \n",
       "2  [-0.04072198, -0.0048362296, 0.048269928, 0.00...      309901687   \n",
       "3  [0.0010593642, -0.012211309, -0.016578179, -0....     2954578893   \n",
       "4  [-0.0413155, -0.025468638, 0.02902394, -0.0297...     1698257419   \n",
       "5  [-0.023065727, 0.00799096, 0.047225375, 0.0027...      109869071   \n",
       "6  [-0.017075147, 0.007701589, 0.085046604, -0.01...     1698257419   \n",
       "7  [-0.021199932, -0.02255822, 0.06599677, -0.003...      991000826   \n",
       "8  [-0.038397297, 0.02080292, 0.04160584, -0.0728...      109869071   \n",
       "9  [-0.017563483, 0.020716926, 0.11166117, 0.0184...     1797518063   \n",
       "\n",
       "        color  condition  followerno  \\\n",
       "0  3896101161          1           1   \n",
       "1  2973695580          2           8   \n",
       "2  2807742906          2           9   \n",
       "3  2973695580          3          73   \n",
       "4  3012185078          2          42   \n",
       "5  3892230005          2           7   \n",
       "6   271855843          3          65   \n",
       "7  2973695580          1           2   \n",
       "8  2807742906          2          17   \n",
       "9  1875972108          2          22   \n",
       "\n",
       "                                            hashtags  \\\n",
       "0  [-0.03810654, -0.006580899, 0.01852548, 0.0113...   \n",
       "1  [0.048452068, -0.001368538, 0.016888341, -0.04...   \n",
       "2  [-0.08957221, 0.0024209158, -0.0056982324, 0.0...   \n",
       "3  [-0.052392323, -0.034530703, -0.029495526, -0....   \n",
       "4  [-0.028539332, 0.011829672, 0.05398404, 0.0019...   \n",
       "5  [-0.07543781, -0.017064571, 0.007872403, 0.036...   \n",
       "6  [0.018743245, -0.024017261, -0.006219109, -0.0...   \n",
       "7  [-0.045984022, 0.04901945, 0.04931234, 0.02790...   \n",
       "8  [-0.04747075, 0.042539764, 0.067541204, -0.058...   \n",
       "9  [-0.021639548, 0.0579892, 0.10188011, 0.004635...   \n",
       "\n",
       "                                         description  \\\n",
       "0  [-0.03614048, 0.015635908, 0.036675498, -0.022...   \n",
       "1  [-0.033516455, 0.04683744, 0.007957818, 0.0407...   \n",
       "2  [-0.03905363, 0.008795027, -0.016913513, 0.014...   \n",
       "3  [-0.08783149, 0.023678502, 0.022103464, -0.009...   \n",
       "4  [-0.010625219, 0.011431177, 0.00027578892, -0....   \n",
       "5  [-0.06583838, 0.037773512, 0.04039962, -0.0096...   \n",
       "6  [-0.04980058, 0.027313415, 0.07170434, -0.0307...   \n",
       "7  [-0.051647905, -0.0071153087, 0.010234532, -0....   \n",
       "8  [-0.02839256, 0.039140027, 0.05657124, -0.0132...   \n",
       "9  [-0.060781166, 0.001159273, 0.04119494, 0.0105...   \n",
       "\n",
       "                                               title  sold_price  \n",
       "0  [-0.033801984, -0.0314781, 0.024480032, -0.012...          55  \n",
       "1  [-0.022699146, 0.008013024, 0.041338712, 0.035...         569  \n",
       "2  [-0.020307204, 0.027977625, 0.010602047, -0.01...         278  \n",
       "3  [-0.030230703, -0.031346425, 0.010791936, 0.01...         800  \n",
       "4  [-0.024104822, 0.012512886, 0.033501167, 0.012...         180  \n",
       "5  [-0.05441786, -0.013890245, 0.031741533, 0.016...          36  \n",
       "6  [-0.09509616, 0.006928549, 0.010449396, -0.028...          72  \n",
       "7  [-0.0287803, -0.0032674577, 0.0071817385, -0.0...          35  \n",
       "8  [-0.04790936, 0.04338459, 0.028106825, -0.0019...          39  \n",
       "9  [-0.08946444, 0.030398728, 0.08259076, -0.0032...          54  "
      ]
     },
     "execution_count": 7,
     "metadata": {},
     "output_type": "execute_result"
    }
   ],
   "source": [
    "selected_features = grailed_items_fg.select(features + labels)\n",
    "selected_features.show(10)"
   ]
  },
  {
   "cell_type": "code",
   "execution_count": 8,
   "metadata": {},
   "outputs": [],
   "source": [
    "feature_view = fs.get_or_create_feature_view(\n",
    "    name='grailed_items_fv',\n",
    "    version=15,\n",
    "    labels=['sold_price'],\n",
    "    query=selected_features,\n",
    ")"
   ]
  },
  {
   "cell_type": "code",
   "execution_count": 9,
   "metadata": {},
   "outputs": [
    {
     "name": "stdout",
     "output_type": "stream",
     "text": [
      "Finished: Reading data from Hopsworks, using Hopsworks Feature Query Service (5.90s) \n"
     ]
    },
    {
     "name": "stderr",
     "output_type": "stream",
     "text": [
      "VersionWarning: Incremented version to `2`.\n"
     ]
    }
   ],
   "source": [
    "X_train, X_test, y_train, y_test = feature_view.train_test_split(test_size=0.2)"
   ]
  },
  {
   "cell_type": "code",
   "execution_count": 10,
   "metadata": {},
   "outputs": [
    {
     "data": {
      "text/html": [
       "<div>\n",
       "<style scoped>\n",
       "    .dataframe tbody tr th:only-of-type {\n",
       "        vertical-align: middle;\n",
       "    }\n",
       "\n",
       "    .dataframe tbody tr th {\n",
       "        vertical-align: top;\n",
       "    }\n",
       "\n",
       "    .dataframe thead th {\n",
       "        text-align: right;\n",
       "    }\n",
       "</style>\n",
       "<table border=\"1\" class=\"dataframe\">\n",
       "  <thead>\n",
       "    <tr style=\"text-align: right;\">\n",
       "      <th></th>\n",
       "      <th>designer_names</th>\n",
       "      <th>category_path</th>\n",
       "      <th>color</th>\n",
       "      <th>condition</th>\n",
       "      <th>followerno</th>\n",
       "      <th>hashtags</th>\n",
       "      <th>description</th>\n",
       "      <th>title</th>\n",
       "    </tr>\n",
       "  </thead>\n",
       "  <tbody>\n",
       "    <tr>\n",
       "      <th>0</th>\n",
       "      <td>[0.008455929, 0.0028697923, 0.06372963, -0.034...</td>\n",
       "      <td>2411092262</td>\n",
       "      <td>3896101161</td>\n",
       "      <td>1</td>\n",
       "      <td>1</td>\n",
       "      <td>[-0.03810654, -0.006580899, 0.01852548, 0.0113...</td>\n",
       "      <td>[-0.03614048, 0.015635908, 0.036675498, -0.022...</td>\n",
       "      <td>[-0.033801984, -0.0314781, 0.024480032, -0.012...</td>\n",
       "    </tr>\n",
       "    <tr>\n",
       "      <th>3</th>\n",
       "      <td>[0.0010593642, -0.012211309, -0.016578179, -0....</td>\n",
       "      <td>2954578893</td>\n",
       "      <td>2973695580</td>\n",
       "      <td>3</td>\n",
       "      <td>73</td>\n",
       "      <td>[-0.052392323, -0.034530703, -0.029495526, -0....</td>\n",
       "      <td>[-0.08783149, 0.023678502, 0.022103464, -0.009...</td>\n",
       "      <td>[-0.030230703, -0.031346425, 0.010791936, 0.01...</td>\n",
       "    </tr>\n",
       "    <tr>\n",
       "      <th>4</th>\n",
       "      <td>[-0.0413155, -0.025468638, 0.02902394, -0.0297...</td>\n",
       "      <td>1698257419</td>\n",
       "      <td>3012185078</td>\n",
       "      <td>2</td>\n",
       "      <td>42</td>\n",
       "      <td>[-0.028539332, 0.011829672, 0.05398404, 0.0019...</td>\n",
       "      <td>[-0.010625219, 0.011431177, 0.00027578892, -0....</td>\n",
       "      <td>[-0.024104822, 0.012512886, 0.033501167, 0.012...</td>\n",
       "    </tr>\n",
       "    <tr>\n",
       "      <th>6</th>\n",
       "      <td>[-0.017075147, 0.007701589, 0.085046604, -0.01...</td>\n",
       "      <td>1698257419</td>\n",
       "      <td>271855843</td>\n",
       "      <td>3</td>\n",
       "      <td>65</td>\n",
       "      <td>[0.018743245, -0.024017261, -0.006219109, -0.0...</td>\n",
       "      <td>[-0.04980058, 0.027313415, 0.07170434, -0.0307...</td>\n",
       "      <td>[-0.09509616, 0.006928549, 0.010449396, -0.028...</td>\n",
       "    </tr>\n",
       "    <tr>\n",
       "      <th>7</th>\n",
       "      <td>[-0.021199932, -0.02255822, 0.06599677, -0.003...</td>\n",
       "      <td>991000826</td>\n",
       "      <td>2973695580</td>\n",
       "      <td>1</td>\n",
       "      <td>2</td>\n",
       "      <td>[-0.045984022, 0.04901945, 0.04931234, 0.02790...</td>\n",
       "      <td>[-0.051647905, -0.0071153087, 0.010234532, -0....</td>\n",
       "      <td>[-0.0287803, -0.0032674577, 0.0071817385, -0.0...</td>\n",
       "    </tr>\n",
       "    <tr>\n",
       "      <th>...</th>\n",
       "      <td>...</td>\n",
       "      <td>...</td>\n",
       "      <td>...</td>\n",
       "      <td>...</td>\n",
       "      <td>...</td>\n",
       "      <td>...</td>\n",
       "      <td>...</td>\n",
       "      <td>...</td>\n",
       "    </tr>\n",
       "    <tr>\n",
       "      <th>4394</th>\n",
       "      <td>[-0.025274495, 0.0010497975, 0.053141244, -0.0...</td>\n",
       "      <td>2439847014</td>\n",
       "      <td>544529139</td>\n",
       "      <td>2</td>\n",
       "      <td>18</td>\n",
       "      <td>[-0.0013401, 0.030045042, 0.025810326, 0.01712...</td>\n",
       "      <td>[-0.0030270237, 0.041582543, 0.069787756, 0.02...</td>\n",
       "      <td>[0.0016218204, 0.009383448, 0.08645275, 0.0003...</td>\n",
       "    </tr>\n",
       "    <tr>\n",
       "      <th>4395</th>\n",
       "      <td>[-0.04147483, 0.028349547, 0.11329191, -0.0364...</td>\n",
       "      <td>213099661</td>\n",
       "      <td>544529139</td>\n",
       "      <td>2</td>\n",
       "      <td>12</td>\n",
       "      <td>[0.007938212, 0.042753413, 0.08338112, -0.0713...</td>\n",
       "      <td>[-0.0672609, 0.028741678, -0.03132037, 0.01345...</td>\n",
       "      <td>[-0.06440051, 0.03652368, 0.0042372243, 0.0030...</td>\n",
       "    </tr>\n",
       "    <tr>\n",
       "      <th>4396</th>\n",
       "      <td>[-0.027507838, 0.011527851, 0.045448884, -0.01...</td>\n",
       "      <td>587904758</td>\n",
       "      <td>544529139</td>\n",
       "      <td>2</td>\n",
       "      <td>22</td>\n",
       "      <td>[-0.048325386, 0.035777833, 0.026999878, -0.03...</td>\n",
       "      <td>[0.0152626205, 0.01683006, 0.059722144, -0.008...</td>\n",
       "      <td>[-0.04005181, 0.018931154, 0.022669323, 0.0220...</td>\n",
       "    </tr>\n",
       "    <tr>\n",
       "      <th>4397</th>\n",
       "      <td>[-0.021539267, 0.011837971, 0.03036466, 0.0202...</td>\n",
       "      <td>587904758</td>\n",
       "      <td>1400250576</td>\n",
       "      <td>2</td>\n",
       "      <td>70</td>\n",
       "      <td>[-0.00030905046, 0.008539519, 0.0492153, 0.001...</td>\n",
       "      <td>[0.0024358982, 0.013881283, 0.05117388, 0.0166...</td>\n",
       "      <td>[-0.010571089, -0.043827776, 0.016205898, 0.01...</td>\n",
       "    </tr>\n",
       "    <tr>\n",
       "      <th>4398</th>\n",
       "      <td>[0.0021926316, -0.013537689, -0.00013621642, -...</td>\n",
       "      <td>587904758</td>\n",
       "      <td>544529139</td>\n",
       "      <td>3</td>\n",
       "      <td>16</td>\n",
       "      <td>[-0.07801008, -0.0035053983, 0.019582339, -0.0...</td>\n",
       "      <td>[-0.008229924, 0.0298543, 0.029694365, -0.0157...</td>\n",
       "      <td>[-0.047234263, -0.015528891, 0.03325165, 0.023...</td>\n",
       "    </tr>\n",
       "  </tbody>\n",
       "</table>\n",
       "<p>3519 rows × 8 columns</p>\n",
       "</div>"
      ],
      "text/plain": [
       "                                         designer_names  category_path  \\\n",
       "0     [0.008455929, 0.0028697923, 0.06372963, -0.034...     2411092262   \n",
       "3     [0.0010593642, -0.012211309, -0.016578179, -0....     2954578893   \n",
       "4     [-0.0413155, -0.025468638, 0.02902394, -0.0297...     1698257419   \n",
       "6     [-0.017075147, 0.007701589, 0.085046604, -0.01...     1698257419   \n",
       "7     [-0.021199932, -0.02255822, 0.06599677, -0.003...      991000826   \n",
       "...                                                 ...            ...   \n",
       "4394  [-0.025274495, 0.0010497975, 0.053141244, -0.0...     2439847014   \n",
       "4395  [-0.04147483, 0.028349547, 0.11329191, -0.0364...      213099661   \n",
       "4396  [-0.027507838, 0.011527851, 0.045448884, -0.01...      587904758   \n",
       "4397  [-0.021539267, 0.011837971, 0.03036466, 0.0202...      587904758   \n",
       "4398  [0.0021926316, -0.013537689, -0.00013621642, -...      587904758   \n",
       "\n",
       "           color  condition  followerno  \\\n",
       "0     3896101161          1           1   \n",
       "3     2973695580          3          73   \n",
       "4     3012185078          2          42   \n",
       "6      271855843          3          65   \n",
       "7     2973695580          1           2   \n",
       "...          ...        ...         ...   \n",
       "4394   544529139          2          18   \n",
       "4395   544529139          2          12   \n",
       "4396   544529139          2          22   \n",
       "4397  1400250576          2          70   \n",
       "4398   544529139          3          16   \n",
       "\n",
       "                                               hashtags  \\\n",
       "0     [-0.03810654, -0.006580899, 0.01852548, 0.0113...   \n",
       "3     [-0.052392323, -0.034530703, -0.029495526, -0....   \n",
       "4     [-0.028539332, 0.011829672, 0.05398404, 0.0019...   \n",
       "6     [0.018743245, -0.024017261, -0.006219109, -0.0...   \n",
       "7     [-0.045984022, 0.04901945, 0.04931234, 0.02790...   \n",
       "...                                                 ...   \n",
       "4394  [-0.0013401, 0.030045042, 0.025810326, 0.01712...   \n",
       "4395  [0.007938212, 0.042753413, 0.08338112, -0.0713...   \n",
       "4396  [-0.048325386, 0.035777833, 0.026999878, -0.03...   \n",
       "4397  [-0.00030905046, 0.008539519, 0.0492153, 0.001...   \n",
       "4398  [-0.07801008, -0.0035053983, 0.019582339, -0.0...   \n",
       "\n",
       "                                            description  \\\n",
       "0     [-0.03614048, 0.015635908, 0.036675498, -0.022...   \n",
       "3     [-0.08783149, 0.023678502, 0.022103464, -0.009...   \n",
       "4     [-0.010625219, 0.011431177, 0.00027578892, -0....   \n",
       "6     [-0.04980058, 0.027313415, 0.07170434, -0.0307...   \n",
       "7     [-0.051647905, -0.0071153087, 0.010234532, -0....   \n",
       "...                                                 ...   \n",
       "4394  [-0.0030270237, 0.041582543, 0.069787756, 0.02...   \n",
       "4395  [-0.0672609, 0.028741678, -0.03132037, 0.01345...   \n",
       "4396  [0.0152626205, 0.01683006, 0.059722144, -0.008...   \n",
       "4397  [0.0024358982, 0.013881283, 0.05117388, 0.0166...   \n",
       "4398  [-0.008229924, 0.0298543, 0.029694365, -0.0157...   \n",
       "\n",
       "                                                  title  \n",
       "0     [-0.033801984, -0.0314781, 0.024480032, -0.012...  \n",
       "3     [-0.030230703, -0.031346425, 0.010791936, 0.01...  \n",
       "4     [-0.024104822, 0.012512886, 0.033501167, 0.012...  \n",
       "6     [-0.09509616, 0.006928549, 0.010449396, -0.028...  \n",
       "7     [-0.0287803, -0.0032674577, 0.0071817385, -0.0...  \n",
       "...                                                 ...  \n",
       "4394  [0.0016218204, 0.009383448, 0.08645275, 0.0003...  \n",
       "4395  [-0.06440051, 0.03652368, 0.0042372243, 0.0030...  \n",
       "4396  [-0.04005181, 0.018931154, 0.022669323, 0.0220...  \n",
       "4397  [-0.010571089, -0.043827776, 0.016205898, 0.01...  \n",
       "4398  [-0.047234263, -0.015528891, 0.03325165, 0.023...  \n",
       "\n",
       "[3519 rows x 8 columns]"
      ]
     },
     "execution_count": 10,
     "metadata": {},
     "output_type": "execute_result"
    }
   ],
   "source": [
    "X_train"
   ]
  },
  {
   "cell_type": "markdown",
   "metadata": {},
   "source": [
    "## Create a predictive model"
   ]
  },
  {
   "cell_type": "markdown",
   "metadata": {},
   "source": [
    "Candidates include: XGBoost, CatBoost (handles categorical features natively), KNN or a neural net."
   ]
  },
  {
   "cell_type": "code",
   "execution_count": 11,
   "metadata": {},
   "outputs": [
    {
     "name": "stdout",
     "output_type": "stream",
     "text": [
      "Learning rate set to 0.062042\n",
      "0:\tlearn: 276.1926066\ttest: 217.1494763\tbest: 217.1494763 (0)\ttotal: 50.9ms\tremaining: 50.9s\n",
      "100:\tlearn: 180.7552552\ttest: 172.2667037\tbest: 171.9870652 (96)\ttotal: 205ms\tremaining: 1.82s\n",
      "Stopped by overfitting detector  (50 iterations wait)\n",
      "\n",
      "bestTest = 171.9870652\n",
      "bestIteration = 96\n",
      "\n",
      "Shrink model to first 97 iterations.\n"
     ]
    },
    {
     "data": {
      "text/plain": [
       "<catboost.core.CatBoostRegressor at 0x7f9c8dc688d0>"
      ]
     },
     "execution_count": 11,
     "metadata": {},
     "output_type": "execute_result"
    }
   ],
   "source": [
    "from catboost import CatBoostRegressor, Pool\n",
    "\n",
    "embedding_features= ['designer_names', 'description', 'title', 'hashtags'] #, 'size']\n",
    "\n",
    "# Initialize the model\n",
    "model = CatBoostRegressor(\n",
    "    embedding_features=embedding_features,\n",
    "    iterations=1000, # Number of trees\n",
    "    # learning_rate=0.05,\n",
    "    # depth=6, \n",
    "    loss_function='RMSE', # LogCosh or RMSE\n",
    "    verbose=100  # Print training progress every 100 iterations\n",
    ")\n",
    "\n",
    "# Create CatBoost Pool objects\n",
    "train_pool = Pool(\n",
    "    data=X_train,\n",
    "    label=y_train,\n",
    "    embedding_features=embedding_features,\n",
    ")\n",
    "\n",
    "test_pool = Pool(\n",
    "    data=X_test,\n",
    "    label=y_test,\n",
    "    embedding_features=embedding_features,\n",
    ")\n",
    "\n",
    "# Train the model\n",
    "model.fit(\n",
    "    train_pool,\n",
    "    eval_set=test_pool,\n",
    "    early_stopping_rounds=50\n",
    ")"
   ]
  },
  {
   "cell_type": "code",
   "execution_count": 12,
   "metadata": {},
   "outputs": [
    {
     "name": "stdout",
     "output_type": "stream",
     "text": [
      "MSE: 29579.55058842608\n",
      "RMSLE: 0.830304560803696\n",
      "R squared: 0.3927258203735853\n"
     ]
    }
   ],
   "source": [
    "from sklearn.metrics import mean_squared_error, r2_score\n",
    "\n",
    "# Predicting target values on the test set\n",
    "y_pred = model.predict(X_test)\n",
    "\n",
    "# Calculating Mean Squared Error (MSE) using sklearn\n",
    "mse = mean_squared_error(y_test.iloc[:,0], y_pred)\n",
    "print(\"MSE:\", mse)\n",
    "\n",
    "# RMSLE\n",
    "from sklearn.metrics import mean_squared_log_error\n",
    "rmsle = np.sqrt(mean_squared_log_error(y_test.iloc[:,0], y_pred))\n",
    "print(\"RMSLE:\", rmsle)\n",
    "\n",
    "# Calculating R squared using sklearn\n",
    "r2 = r2_score(y_test.iloc[:,0], y_pred)\n",
    "print(\"R squared:\", r2)"
   ]
  },
  {
   "cell_type": "markdown",
   "metadata": {},
   "source": [
    "Best RMSLE on this problem: 0.64 (https://github.com/kirill-rubashevskiy/graildient-descent/blob/main/README.md)"
   ]
  },
  {
   "cell_type": "markdown",
   "metadata": {},
   "source": [
    "Depth 6:\n",
    "MSE: 29579.55058842608\n",
    "RMSLE: 0.830304560803696\n",
    "R squared: 0.3927258203735853"
   ]
  },
  {
   "cell_type": "code",
   "execution_count": 13,
   "metadata": {},
   "outputs": [],
   "source": [
    "# TODO: Is the order correct?\n",
    "predicted_df = y_test\n",
    "predicted_df['predicted_price'] = y_pred"
   ]
  },
  {
   "cell_type": "code",
   "execution_count": 14,
   "metadata": {},
   "outputs": [
    {
     "data": {
      "text/html": [
       "<div>\n",
       "<style scoped>\n",
       "    .dataframe tbody tr th:only-of-type {\n",
       "        vertical-align: middle;\n",
       "    }\n",
       "\n",
       "    .dataframe tbody tr th {\n",
       "        vertical-align: top;\n",
       "    }\n",
       "\n",
       "    .dataframe thead th {\n",
       "        text-align: right;\n",
       "    }\n",
       "</style>\n",
       "<table border=\"1\" class=\"dataframe\">\n",
       "  <thead>\n",
       "    <tr style=\"text-align: right;\">\n",
       "      <th></th>\n",
       "      <th>sold_price</th>\n",
       "      <th>predicted_price</th>\n",
       "    </tr>\n",
       "  </thead>\n",
       "  <tbody>\n",
       "    <tr>\n",
       "      <th>1</th>\n",
       "      <td>569</td>\n",
       "      <td>384.195698</td>\n",
       "    </tr>\n",
       "    <tr>\n",
       "      <th>2</th>\n",
       "      <td>278</td>\n",
       "      <td>240.572276</td>\n",
       "    </tr>\n",
       "    <tr>\n",
       "      <th>5</th>\n",
       "      <td>36</td>\n",
       "      <td>62.594053</td>\n",
       "    </tr>\n",
       "    <tr>\n",
       "      <th>10</th>\n",
       "      <td>360</td>\n",
       "      <td>626.955000</td>\n",
       "    </tr>\n",
       "    <tr>\n",
       "      <th>11</th>\n",
       "      <td>150</td>\n",
       "      <td>293.616085</td>\n",
       "    </tr>\n",
       "    <tr>\n",
       "      <th>...</th>\n",
       "      <td>...</td>\n",
       "      <td>...</td>\n",
       "    </tr>\n",
       "    <tr>\n",
       "      <th>4335</th>\n",
       "      <td>48</td>\n",
       "      <td>58.539021</td>\n",
       "    </tr>\n",
       "    <tr>\n",
       "      <th>4346</th>\n",
       "      <td>48</td>\n",
       "      <td>128.507335</td>\n",
       "    </tr>\n",
       "    <tr>\n",
       "      <th>4362</th>\n",
       "      <td>60</td>\n",
       "      <td>75.572839</td>\n",
       "    </tr>\n",
       "    <tr>\n",
       "      <th>4380</th>\n",
       "      <td>70</td>\n",
       "      <td>132.201451</td>\n",
       "    </tr>\n",
       "    <tr>\n",
       "      <th>4385</th>\n",
       "      <td>150</td>\n",
       "      <td>288.511457</td>\n",
       "    </tr>\n",
       "  </tbody>\n",
       "</table>\n",
       "<p>880 rows × 2 columns</p>\n",
       "</div>"
      ],
      "text/plain": [
       "      sold_price  predicted_price\n",
       "1            569       384.195698\n",
       "2            278       240.572276\n",
       "5             36        62.594053\n",
       "10           360       626.955000\n",
       "11           150       293.616085\n",
       "...          ...              ...\n",
       "4335          48        58.539021\n",
       "4346          48       128.507335\n",
       "4362          60        75.572839\n",
       "4380          70       132.201451\n",
       "4385         150       288.511457\n",
       "\n",
       "[880 rows x 2 columns]"
      ]
     },
     "execution_count": 14,
     "metadata": {},
     "output_type": "execute_result"
    }
   ],
   "source": [
    "predicted_df"
   ]
  },
  {
   "cell_type": "markdown",
   "metadata": {},
   "source": [
    "### \"Outdated\" models"
   ]
  },
  {
   "cell_type": "code",
   "execution_count": 15,
   "metadata": {},
   "outputs": [],
   "source": [
    "# import numpy as np\n",
    "# from xgboost import XGBRegressor\n",
    "\n",
    "# # Convert the embeddings column into a numpy array of separate columns\n",
    "# X_train_array = np.vstack(X_train['designers_title_embedding'].to_numpy())\n",
    "# X_test_array = np.vstack(X_test['designers_title_embedding'].to_numpy())\n",
    "\n",
    "# # Now train the model with the reshaped data\n",
    "# xgb_regressor = XGBRegressor()\n",
    "# xgb_regressor.fit(X_train_array, y_train)"
   ]
  },
  {
   "cell_type": "code",
   "execution_count": 16,
   "metadata": {},
   "outputs": [],
   "source": [
    "# from sklearn.neighbors import KNeighborsRegressor\n",
    "# knn_reg = KNeighborsRegressor(n_neighbors=5)\n",
    "# knn_reg.fit(X_train_array, y_train)"
   ]
  },
  {
   "cell_type": "markdown",
   "metadata": {},
   "source": [
    "## Evaluate model"
   ]
  },
  {
   "cell_type": "code",
   "execution_count": 17,
   "metadata": {},
   "outputs": [],
   "source": [
    "# TODO: Plot performance, consider saving the plots as images"
   ]
  },
  {
   "cell_type": "code",
   "execution_count": 18,
   "metadata": {},
   "outputs": [
    {
     "data": {
      "image/png": "[encoded data removed]",
      "text/plain": [
       "<Figure size 1000x600 with 1 Axes>"
      ]
     },
     "metadata": {},
     "output_type": "display_data"
    }
   ],
   "source": [
    "def plot_grouped_feature_importance(model, X_test, original_feature_names=features, embedding_prefix='embedding_'):\n",
    "    # Get feature importance scores\n",
    "    feature_importance = model.get_feature_importance()\n",
    "\n",
    "    # Create the plot\n",
    "    fig, ax = plt.figure(figsize=(10, 6)), plt.axes()\n",
    "    \n",
    "    # Plot horizontal bar chart\n",
    "    y_pos = np.arange(len(feature_importance))\n",
    "    ax.barh(y_pos, list(feature_importance))\n",
    "    ax.set_yticks(y_pos)\n",
    "    ax.set_yticklabels(features)\n",
    "    \n",
    "    plt.title('Grouped Feature Importance')\n",
    "    plt.xlabel('Mean Importance Score')\n",
    "    \n",
    "    # Add value labels on the bars\n",
    "    for i, v in enumerate(feature_importance):\n",
    "        ax.text(v, i, f'{v:.3f}', va='center')\n",
    "    \n",
    "    plt.tight_layout()\n",
    "    return plt\n",
    "\n",
    "# Usage:\n",
    "plot_grouped_feature_importance(model, X_test)\n",
    "plt.show()"
   ]
  },
  {
   "cell_type": "markdown",
   "metadata": {},
   "source": [
    "## Model registry"
   ]
  },
  {
   "cell_type": "code",
   "execution_count": 19,
   "metadata": {},
   "outputs": [],
   "source": [
    "# Creating a directory for the model artifacts if it doesn't exist\n",
    "model_dir = \"price_predictor_model\"\n",
    "if not os.path.exists(model_dir):\n",
    "    os.mkdir(model_dir)"
   ]
  },
  {
   "cell_type": "code",
   "execution_count": 20,
   "metadata": {},
   "outputs": [],
   "source": [
    "# Save the model locally\n",
    "model.save_model(os.path.join(model_dir, \"catboost_model\"))"
   ]
  },
  {
   "cell_type": "code",
   "execution_count": 21,
   "metadata": {},
   "outputs": [],
   "source": [
    "# TODO: Save the model to model registry"
   ]
  },
  {
   "cell_type": "code",
   "execution_count": null,
   "metadata": {},
   "outputs": [],
   "source": []
  }
 ],
 "metadata": {
  "kernelspec": {
   "display_name": "Python 3 (ipykernel)",
   "language": "python",
   "name": "python3"
  },
  "language_info": {
   "codemirror_mode": {
    "name": "ipython",
    "version": 3
   },
   "file_extension": ".py",
   "mimetype": "text/x-python",
   "name": "python",
   "nbconvert_exporter": "python",
   "pygments_lexer": "ipython3",
   "version": "3.11.9"
  }
 },
 "nbformat": 4,
 "nbformat_minor": 4
}
