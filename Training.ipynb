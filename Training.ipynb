{
 "cells": [
  {
   "cell_type": "code",
   "execution_count": 1,
   "metadata": {},
   "outputs": [],
   "source": [
    "import os\n",
    "import hopsworks\n",
    "import pandas as pd\n",
    "import numpy as np\n",
    "import matplotlib.pyplot as plt\n",
    "from dotenv import load_dotenv"
   ]
  },
  {
   "cell_type": "code",
   "execution_count": 2,
   "metadata": {},
   "outputs": [
    {
     "name": "stdout",
     "output_type": "stream",
     "text": [
      "2025-01-07 16:26:14,332 INFO: Initializing external client\n",
      "2025-01-07 16:26:14,334 INFO: Base URL: https://c.app.hopsworks.ai:443\n",
      "2025-01-07 16:26:16,508 INFO: Python Engine initialized.\n",
      "\n",
      "Logged in to project, explore it here https://c.app.hopsworks.ai:443/p/1159324\n"
     ]
    }
   ],
   "source": [
    "load_dotenv()\n",
    "    \n",
    "project = hopsworks.login()\n",
    "fs = project.get_feature_store()"
   ]
  },
  {
   "cell_type": "code",
   "execution_count": 3,
   "metadata": {},
   "outputs": [],
   "source": [
    "grailed_items_fg = fs.get_feature_group(\n",
    "    name='draft_grailed_items',\n",
    "    version=4,\n",
    ")"
   ]
  },
  {
   "cell_type": "code",
   "execution_count": 4,
   "metadata": {},
   "outputs": [
    {
     "data": {
      "text/plain": [
       "[Feature('id', 'bigint', None, True, False, None, None, 1394604),\n",
       " Feature('sold_at', 'timestamp', None, False, False, None, None, 1394604),\n",
       " Feature('designer_names', 'array<float>', None, False, False, None, None, 1394604),\n",
       " Feature('description', 'array<float>', None, False, False, None, None, 1394604),\n",
       " Feature('title', 'array<float>', None, False, False, None, None, 1394604),\n",
       " Feature('hashtags', 'array<float>', None, False, False, None, None, 1394604),\n",
       " Feature('category_path', 'bigint', None, False, False, None, None, 1394604),\n",
       " Feature('condition', 'bigint', None, False, False, None, None, 1394604),\n",
       " Feature('size', 'array<float>', None, False, False, None, None, 1394604),\n",
       " Feature('color', 'bigint', None, False, False, None, None, 1394604),\n",
       " Feature('followerno', 'bigint', None, False, False, None, None, 1394604),\n",
       " Feature('sold_price', 'bigint', None, False, False, None, None, 1394604)]"
      ]
     },
     "execution_count": 4,
     "metadata": {},
     "output_type": "execute_result"
    }
   ],
   "source": [
    "grailed_items_fg.features"
   ]
  },
  {
   "cell_type": "code",
   "execution_count": 5,
   "metadata": {},
   "outputs": [],
   "source": [
    "# Set seed\n",
    "np.random.seed(42)"
   ]
  },
  {
   "cell_type": "markdown",
   "metadata": {},
   "source": [
    "## Create feature view"
   ]
  },
  {
   "cell_type": "code",
   "execution_count": 6,
   "metadata": {},
   "outputs": [],
   "source": [
    "# Features inspired by https://github.com/kirill-rubashevskiy/graildient-descent/blob/main/notebooks/retrain_best_ml_model.ipynb\n",
    "features = ['designer_names', 'category_path', 'color', 'condition', 'followerno', 'hashtags', 'description', 'title'] # , 'size']\n",
    "labels = ['sold_price']"
   ]
  },
  {
   "cell_type": "code",
   "execution_count": 7,
   "metadata": {},
   "outputs": [
    {
     "name": "stdout",
     "output_type": "stream",
     "text": [
      "Finished: Reading data from Hopsworks, using Hopsworks Feature Query Service (7.08s) \n"
     ]
    },
    {
     "data": {
      "text/html": [
       "<div>\n",
       "<style scoped>\n",
       "    .dataframe tbody tr th:only-of-type {\n",
       "        vertical-align: middle;\n",
       "    }\n",
       "\n",
       "    .dataframe tbody tr th {\n",
       "        vertical-align: top;\n",
       "    }\n",
       "\n",
       "    .dataframe thead th {\n",
       "        text-align: right;\n",
       "    }\n",
       "</style>\n",
       "<table border=\"1\" class=\"dataframe\">\n",
       "  <thead>\n",
       "    <tr style=\"text-align: right;\">\n",
       "      <th></th>\n",
       "      <th>designer_names</th>\n",
       "      <th>category_path</th>\n",
       "      <th>color</th>\n",
       "      <th>condition</th>\n",
       "      <th>followerno</th>\n",
       "      <th>hashtags</th>\n",
       "      <th>description</th>\n",
       "      <th>title</th>\n",
       "      <th>sold_price</th>\n",
       "    </tr>\n",
       "  </thead>\n",
       "  <tbody>\n",
       "    <tr>\n",
       "      <th>0</th>\n",
       "      <td>[0.008455929, 0.0028697923, 0.06372963, -0.034...</td>\n",
       "      <td>2411092262</td>\n",
       "      <td>3896101161</td>\n",
       "      <td>1</td>\n",
       "      <td>1</td>\n",
       "      <td>[-0.03810654, -0.006580899, 0.01852548, 0.0113...</td>\n",
       "      <td>[-0.03614048, 0.015635908, 0.036675498, -0.022...</td>\n",
       "      <td>[-0.033801984, -0.0314781, 0.024480032, -0.012...</td>\n",
       "      <td>55</td>\n",
       "    </tr>\n",
       "    <tr>\n",
       "      <th>1</th>\n",
       "      <td>[0.0010593642, -0.012211309, -0.016578179, -0....</td>\n",
       "      <td>2954578893</td>\n",
       "      <td>2973695580</td>\n",
       "      <td>2</td>\n",
       "      <td>8</td>\n",
       "      <td>[0.048452068, -0.001368538, 0.016888341, -0.04...</td>\n",
       "      <td>[-0.033516455, 0.04683744, 0.007957818, 0.0407...</td>\n",
       "      <td>[-0.022699146, 0.008013024, 0.041338712, 0.035...</td>\n",
       "      <td>569</td>\n",
       "    </tr>\n",
       "    <tr>\n",
       "      <th>2</th>\n",
       "      <td>[-0.04072198, -0.0048362296, 0.048269928, 0.00...</td>\n",
       "      <td>309901687</td>\n",
       "      <td>2807742906</td>\n",
       "      <td>2</td>\n",
       "      <td>9</td>\n",
       "      <td>[-0.08957221, 0.0024209158, -0.0056982324, 0.0...</td>\n",
       "      <td>[-0.03905363, 0.008795027, -0.016913513, 0.014...</td>\n",
       "      <td>[-0.020307204, 0.027977625, 0.010602047, -0.01...</td>\n",
       "      <td>278</td>\n",
       "    </tr>\n",
       "    <tr>\n",
       "      <th>3</th>\n",
       "      <td>[0.0010593642, -0.012211309, -0.016578179, -0....</td>\n",
       "      <td>2954578893</td>\n",
       "      <td>2973695580</td>\n",
       "      <td>3</td>\n",
       "      <td>73</td>\n",
       "      <td>[-0.052392323, -0.034530703, -0.029495526, -0....</td>\n",
       "      <td>[-0.08783149, 0.023678502, 0.022103464, -0.009...</td>\n",
       "      <td>[-0.030230703, -0.031346425, 0.010791936, 0.01...</td>\n",
       "      <td>800</td>\n",
       "    </tr>\n",
       "    <tr>\n",
       "      <th>4</th>\n",
       "      <td>[-0.0413155, -0.025468638, 0.02902394, -0.0297...</td>\n",
       "      <td>1698257419</td>\n",
       "      <td>3012185078</td>\n",
       "      <td>2</td>\n",
       "      <td>42</td>\n",
       "      <td>[-0.028539332, 0.011829672, 0.05398404, 0.0019...</td>\n",
       "      <td>[-0.010625219, 0.011431177, 0.00027578892, -0....</td>\n",
       "      <td>[-0.024104822, 0.012512886, 0.033501167, 0.012...</td>\n",
       "      <td>180</td>\n",
       "    </tr>\n",
       "    <tr>\n",
       "      <th>5</th>\n",
       "      <td>[-0.023065727, 0.00799096, 0.047225375, 0.0027...</td>\n",
       "      <td>109869071</td>\n",
       "      <td>3892230005</td>\n",
       "      <td>2</td>\n",
       "      <td>7</td>\n",
       "      <td>[-0.07543781, -0.017064571, 0.007872403, 0.036...</td>\n",
       "      <td>[-0.06583838, 0.037773512, 0.04039962, -0.0096...</td>\n",
       "      <td>[-0.05441786, -0.013890245, 0.031741533, 0.016...</td>\n",
       "      <td>36</td>\n",
       "    </tr>\n",
       "    <tr>\n",
       "      <th>6</th>\n",
       "      <td>[-0.017075147, 0.007701589, 0.085046604, -0.01...</td>\n",
       "      <td>1698257419</td>\n",
       "      <td>271855843</td>\n",
       "      <td>3</td>\n",
       "      <td>65</td>\n",
       "      <td>[0.018743245, -0.024017261, -0.006219109, -0.0...</td>\n",
       "      <td>[-0.04980058, 0.027313415, 0.07170434, -0.0307...</td>\n",
       "      <td>[-0.09509616, 0.006928549, 0.010449396, -0.028...</td>\n",
       "      <td>72</td>\n",
       "    </tr>\n",
       "    <tr>\n",
       "      <th>7</th>\n",
       "      <td>[-0.021199932, -0.02255822, 0.06599677, -0.003...</td>\n",
       "      <td>991000826</td>\n",
       "      <td>2973695580</td>\n",
       "      <td>1</td>\n",
       "      <td>2</td>\n",
       "      <td>[-0.045984022, 0.04901945, 0.04931234, 0.02790...</td>\n",
       "      <td>[-0.051647905, -0.0071153087, 0.010234532, -0....</td>\n",
       "      <td>[-0.0287803, -0.0032674577, 0.0071817385, -0.0...</td>\n",
       "      <td>35</td>\n",
       "    </tr>\n",
       "    <tr>\n",
       "      <th>8</th>\n",
       "      <td>[-0.038397297, 0.02080292, 0.04160584, -0.0728...</td>\n",
       "      <td>109869071</td>\n",
       "      <td>2807742906</td>\n",
       "      <td>2</td>\n",
       "      <td>17</td>\n",
       "      <td>[-0.04747075, 0.042539764, 0.067541204, -0.058...</td>\n",
       "      <td>[-0.02839256, 0.039140027, 0.05657124, -0.0132...</td>\n",
       "      <td>[-0.04790936, 0.04338459, 0.028106825, -0.0019...</td>\n",
       "      <td>39</td>\n",
       "    </tr>\n",
       "    <tr>\n",
       "      <th>9</th>\n",
       "      <td>[-0.017563483, 0.020716926, 0.11166117, 0.0184...</td>\n",
       "      <td>1797518063</td>\n",
       "      <td>1875972108</td>\n",
       "      <td>2</td>\n",
       "      <td>22</td>\n",
       "      <td>[-0.021639548, 0.0579892, 0.10188011, 0.004635...</td>\n",
       "      <td>[-0.060781166, 0.001159273, 0.04119494, 0.0105...</td>\n",
       "      <td>[-0.08946444, 0.030398728, 0.08259076, -0.0032...</td>\n",
       "      <td>54</td>\n",
       "    </tr>\n",
       "  </tbody>\n",
       "</table>\n",
       "</div>"
      ],
      "text/plain": [
       "                                      designer_names  category_path  \\\n",
       "0  [0.008455929, 0.0028697923, 0.06372963, -0.034...     2411092262   \n",
       "1  [0.0010593642, -0.012211309, -0.016578179, -0....     2954578893   \n",
       "2  [-0.04072198, -0.0048362296, 0.048269928, 0.00...      309901687   \n",
       "3  [0.0010593642, -0.012211309, -0.016578179, -0....     2954578893   \n",
       "4  [-0.0413155, -0.025468638, 0.02902394, -0.0297...     1698257419   \n",
       "5  [-0.023065727, 0.00799096, 0.047225375, 0.0027...      109869071   \n",
       "6  [-0.017075147, 0.007701589, 0.085046604, -0.01...     1698257419   \n",
       "7  [-0.021199932, -0.02255822, 0.06599677, -0.003...      991000826   \n",
       "8  [-0.038397297, 0.02080292, 0.04160584, -0.0728...      109869071   \n",
       "9  [-0.017563483, 0.020716926, 0.11166117, 0.0184...     1797518063   \n",
       "\n",
       "        color  condition  followerno  \\\n",
       "0  3896101161          1           1   \n",
       "1  2973695580          2           8   \n",
       "2  2807742906          2           9   \n",
       "3  2973695580          3          73   \n",
       "4  3012185078          2          42   \n",
       "5  3892230005          2           7   \n",
       "6   271855843          3          65   \n",
       "7  2973695580          1           2   \n",
       "8  2807742906          2          17   \n",
       "9  1875972108          2          22   \n",
       "\n",
       "                                            hashtags  \\\n",
       "0  [-0.03810654, -0.006580899, 0.01852548, 0.0113...   \n",
       "1  [0.048452068, -0.001368538, 0.016888341, -0.04...   \n",
       "2  [-0.08957221, 0.0024209158, -0.0056982324, 0.0...   \n",
       "3  [-0.052392323, -0.034530703, -0.029495526, -0....   \n",
       "4  [-0.028539332, 0.011829672, 0.05398404, 0.0019...   \n",
       "5  [-0.07543781, -0.017064571, 0.007872403, 0.036...   \n",
       "6  [0.018743245, -0.024017261, -0.006219109, -0.0...   \n",
       "7  [-0.045984022, 0.04901945, 0.04931234, 0.02790...   \n",
       "8  [-0.04747075, 0.042539764, 0.067541204, -0.058...   \n",
       "9  [-0.021639548, 0.0579892, 0.10188011, 0.004635...   \n",
       "\n",
       "                                         description  \\\n",
       "0  [-0.03614048, 0.015635908, 0.036675498, -0.022...   \n",
       "1  [-0.033516455, 0.04683744, 0.007957818, 0.0407...   \n",
       "2  [-0.03905363, 0.008795027, -0.016913513, 0.014...   \n",
       "3  [-0.08783149, 0.023678502, 0.022103464, -0.009...   \n",
       "4  [-0.010625219, 0.011431177, 0.00027578892, -0....   \n",
       "5  [-0.06583838, 0.037773512, 0.04039962, -0.0096...   \n",
       "6  [-0.04980058, 0.027313415, 0.07170434, -0.0307...   \n",
       "7  [-0.051647905, -0.0071153087, 0.010234532, -0....   \n",
       "8  [-0.02839256, 0.039140027, 0.05657124, -0.0132...   \n",
       "9  [-0.060781166, 0.001159273, 0.04119494, 0.0105...   \n",
       "\n",
       "                                               title  sold_price  \n",
       "0  [-0.033801984, -0.0314781, 0.024480032, -0.012...          55  \n",
       "1  [-0.022699146, 0.008013024, 0.041338712, 0.035...         569  \n",
       "2  [-0.020307204, 0.027977625, 0.010602047, -0.01...         278  \n",
       "3  [-0.030230703, -0.031346425, 0.010791936, 0.01...         800  \n",
       "4  [-0.024104822, 0.012512886, 0.033501167, 0.012...         180  \n",
       "5  [-0.05441786, -0.013890245, 0.031741533, 0.016...          36  \n",
       "6  [-0.09509616, 0.006928549, 0.010449396, -0.028...          72  \n",
       "7  [-0.0287803, -0.0032674577, 0.0071817385, -0.0...          35  \n",
       "8  [-0.04790936, 0.04338459, 0.028106825, -0.0019...          39  \n",
       "9  [-0.08946444, 0.030398728, 0.08259076, -0.0032...          54  "
      ]
     },
     "execution_count": 7,
     "metadata": {},
     "output_type": "execute_result"
    }
   ],
   "source": [
    "selected_features = grailed_items_fg.select(features + labels)\n",
    "selected_features.show(10)"
   ]
  },
  {
   "cell_type": "code",
   "execution_count": 8,
   "metadata": {},
   "outputs": [],
   "source": [
    "feature_view = fs.get_or_create_feature_view(\n",
    "    name='grailed_items_fv',\n",
    "    version=15,\n",
    "    labels=['sold_price'],\n",
    "    query=selected_features,\n",
    ")"
   ]
  },
  {
   "cell_type": "code",
   "execution_count": 9,
   "metadata": {},
   "outputs": [
    {
     "name": "stdout",
     "output_type": "stream",
     "text": [
      "Finished: Reading data from Hopsworks, using Hopsworks Feature Query Service (7.61s) \n"
     ]
    },
    {
     "name": "stderr",
     "output_type": "stream",
     "text": [
      "VersionWarning: Incremented version to `6`.\n"
     ]
    }
   ],
   "source": [
    "X_train, X_test, y_train, y_test = feature_view.train_test_split(test_size=0.2)"
   ]
  },
  {
   "cell_type": "code",
   "execution_count": 10,
   "metadata": {},
   "outputs": [
    {
     "data": {
      "text/html": [
       "<div>\n",
       "<style scoped>\n",
       "    .dataframe tbody tr th:only-of-type {\n",
       "        vertical-align: middle;\n",
       "    }\n",
       "\n",
       "    .dataframe tbody tr th {\n",
       "        vertical-align: top;\n",
       "    }\n",
       "\n",
       "    .dataframe thead th {\n",
       "        text-align: right;\n",
       "    }\n",
       "</style>\n",
       "<table border=\"1\" class=\"dataframe\">\n",
       "  <thead>\n",
       "    <tr style=\"text-align: right;\">\n",
       "      <th></th>\n",
       "      <th>designer_names</th>\n",
       "      <th>category_path</th>\n",
       "      <th>color</th>\n",
       "      <th>condition</th>\n",
       "      <th>followerno</th>\n",
       "      <th>hashtags</th>\n",
       "      <th>description</th>\n",
       "      <th>title</th>\n",
       "    </tr>\n",
       "  </thead>\n",
       "  <tbody>\n",
       "    <tr>\n",
       "      <th>0</th>\n",
       "      <td>[0.008455929, 0.0028697923, 0.06372963, -0.034...</td>\n",
       "      <td>2411092262</td>\n",
       "      <td>3896101161</td>\n",
       "      <td>1</td>\n",
       "      <td>1</td>\n",
       "      <td>[-0.03810654, -0.006580899, 0.01852548, 0.0113...</td>\n",
       "      <td>[-0.03614048, 0.015635908, 0.036675498, -0.022...</td>\n",
       "      <td>[-0.033801984, -0.0314781, 0.024480032, -0.012...</td>\n",
       "    </tr>\n",
       "    <tr>\n",
       "      <th>3</th>\n",
       "      <td>[0.0010593642, -0.012211309, -0.016578179, -0....</td>\n",
       "      <td>2954578893</td>\n",
       "      <td>2973695580</td>\n",
       "      <td>3</td>\n",
       "      <td>73</td>\n",
       "      <td>[-0.052392323, -0.034530703, -0.029495526, -0....</td>\n",
       "      <td>[-0.08783149, 0.023678502, 0.022103464, -0.009...</td>\n",
       "      <td>[-0.030230703, -0.031346425, 0.010791936, 0.01...</td>\n",
       "    </tr>\n",
       "    <tr>\n",
       "      <th>4</th>\n",
       "      <td>[-0.0413155, -0.025468638, 0.02902394, -0.0297...</td>\n",
       "      <td>1698257419</td>\n",
       "      <td>3012185078</td>\n",
       "      <td>2</td>\n",
       "      <td>42</td>\n",
       "      <td>[-0.028539332, 0.011829672, 0.05398404, 0.0019...</td>\n",
       "      <td>[-0.010625219, 0.011431177, 0.00027578892, -0....</td>\n",
       "      <td>[-0.024104822, 0.012512886, 0.033501167, 0.012...</td>\n",
       "    </tr>\n",
       "    <tr>\n",
       "      <th>6</th>\n",
       "      <td>[-0.017075147, 0.007701589, 0.085046604, -0.01...</td>\n",
       "      <td>1698257419</td>\n",
       "      <td>271855843</td>\n",
       "      <td>3</td>\n",
       "      <td>65</td>\n",
       "      <td>[0.018743245, -0.024017261, -0.006219109, -0.0...</td>\n",
       "      <td>[-0.04980058, 0.027313415, 0.07170434, -0.0307...</td>\n",
       "      <td>[-0.09509616, 0.006928549, 0.010449396, -0.028...</td>\n",
       "    </tr>\n",
       "    <tr>\n",
       "      <th>7</th>\n",
       "      <td>[-0.021199932, -0.02255822, 0.06599677, -0.003...</td>\n",
       "      <td>991000826</td>\n",
       "      <td>2973695580</td>\n",
       "      <td>1</td>\n",
       "      <td>2</td>\n",
       "      <td>[-0.045984022, 0.04901945, 0.04931234, 0.02790...</td>\n",
       "      <td>[-0.051647905, -0.0071153087, 0.010234532, -0....</td>\n",
       "      <td>[-0.0287803, -0.0032674577, 0.0071817385, -0.0...</td>\n",
       "    </tr>\n",
       "    <tr>\n",
       "      <th>...</th>\n",
       "      <td>...</td>\n",
       "      <td>...</td>\n",
       "      <td>...</td>\n",
       "      <td>...</td>\n",
       "      <td>...</td>\n",
       "      <td>...</td>\n",
       "      <td>...</td>\n",
       "      <td>...</td>\n",
       "    </tr>\n",
       "    <tr>\n",
       "      <th>4879</th>\n",
       "      <td>[0.015425474, 0.039175384, 0.015797812, -0.013...</td>\n",
       "      <td>2293673942</td>\n",
       "      <td>848381206</td>\n",
       "      <td>3</td>\n",
       "      <td>7</td>\n",
       "      <td>[0.043237276, 0.012485029, 0.023698373, -0.037...</td>\n",
       "      <td>[-0.0058725853, 0.06217317, 0.00075473345, -0....</td>\n",
       "      <td>[-0.038198672, 0.03346352, 0.07629153, -0.1127...</td>\n",
       "    </tr>\n",
       "    <tr>\n",
       "      <th>4880</th>\n",
       "      <td>[-0.03686816, -0.03222629, -0.020995108, -0.00...</td>\n",
       "      <td>3210354350</td>\n",
       "      <td>985068137</td>\n",
       "      <td>3</td>\n",
       "      <td>23</td>\n",
       "      <td>[-0.08246534, 0.004458034, 0.055737026, -0.072...</td>\n",
       "      <td>[-0.06587334, -0.044411045, 0.06696862, -0.006...</td>\n",
       "      <td>[-0.06685267, 0.0020543542, 0.06075587, -0.021...</td>\n",
       "    </tr>\n",
       "    <tr>\n",
       "      <th>4881</th>\n",
       "      <td>[0.0014109132, -0.02922986, 0.07501799, -0.080...</td>\n",
       "      <td>2782766459</td>\n",
       "      <td>2102778594</td>\n",
       "      <td>2</td>\n",
       "      <td>12</td>\n",
       "      <td>[-0.06781121, -0.031531412, 0.047270443, -0.04...</td>\n",
       "      <td>[-0.036403824, 0.024345394, 0.046297923, -0.01...</td>\n",
       "      <td>[-0.08032765, 0.030658389, 0.060620602, -0.032...</td>\n",
       "    </tr>\n",
       "    <tr>\n",
       "      <th>4882</th>\n",
       "      <td>[-0.03592609, 0.056066874, 0.043369997, -0.025...</td>\n",
       "      <td>3713029988</td>\n",
       "      <td>192829683</td>\n",
       "      <td>2</td>\n",
       "      <td>7</td>\n",
       "      <td>[-0.031281125, 0.05565223, -0.011786899, -0.01...</td>\n",
       "      <td>[-0.024685418, -0.022813914, 0.052955694, 0.00...</td>\n",
       "      <td>[-0.006481837, 0.01953503, 0.054427538, 0.0260...</td>\n",
       "    </tr>\n",
       "    <tr>\n",
       "      <th>4883</th>\n",
       "      <td>[-0.009710276, 0.03663754, 0.05814218, 0.00911...</td>\n",
       "      <td>3713029988</td>\n",
       "      <td>3285543214</td>\n",
       "      <td>2</td>\n",
       "      <td>29</td>\n",
       "      <td>[0.04845283, -0.0013604711, 0.016888607, -0.04...</td>\n",
       "      <td>[-0.0030233115, -0.020262193, 0.059051346, 0.0...</td>\n",
       "      <td>[-0.020616807, 0.06273646, -0.012867321, 0.043...</td>\n",
       "    </tr>\n",
       "  </tbody>\n",
       "</table>\n",
       "<p>3907 rows × 8 columns</p>\n",
       "</div>"
      ],
      "text/plain": [
       "                                         designer_names  category_path  \\\n",
       "0     [0.008455929, 0.0028697923, 0.06372963, -0.034...     2411092262   \n",
       "3     [0.0010593642, -0.012211309, -0.016578179, -0....     2954578893   \n",
       "4     [-0.0413155, -0.025468638, 0.02902394, -0.0297...     1698257419   \n",
       "6     [-0.017075147, 0.007701589, 0.085046604, -0.01...     1698257419   \n",
       "7     [-0.021199932, -0.02255822, 0.06599677, -0.003...      991000826   \n",
       "...                                                 ...            ...   \n",
       "4879  [0.015425474, 0.039175384, 0.015797812, -0.013...     2293673942   \n",
       "4880  [-0.03686816, -0.03222629, -0.020995108, -0.00...     3210354350   \n",
       "4881  [0.0014109132, -0.02922986, 0.07501799, -0.080...     2782766459   \n",
       "4882  [-0.03592609, 0.056066874, 0.043369997, -0.025...     3713029988   \n",
       "4883  [-0.009710276, 0.03663754, 0.05814218, 0.00911...     3713029988   \n",
       "\n",
       "           color  condition  followerno  \\\n",
       "0     3896101161          1           1   \n",
       "3     2973695580          3          73   \n",
       "4     3012185078          2          42   \n",
       "6      271855843          3          65   \n",
       "7     2973695580          1           2   \n",
       "...          ...        ...         ...   \n",
       "4879   848381206          3           7   \n",
       "4880   985068137          3          23   \n",
       "4881  2102778594          2          12   \n",
       "4882   192829683          2           7   \n",
       "4883  3285543214          2          29   \n",
       "\n",
       "                                               hashtags  \\\n",
       "0     [-0.03810654, -0.006580899, 0.01852548, 0.0113...   \n",
       "3     [-0.052392323, -0.034530703, -0.029495526, -0....   \n",
       "4     [-0.028539332, 0.011829672, 0.05398404, 0.0019...   \n",
       "6     [0.018743245, -0.024017261, -0.006219109, -0.0...   \n",
       "7     [-0.045984022, 0.04901945, 0.04931234, 0.02790...   \n",
       "...                                                 ...   \n",
       "4879  [0.043237276, 0.012485029, 0.023698373, -0.037...   \n",
       "4880  [-0.08246534, 0.004458034, 0.055737026, -0.072...   \n",
       "4881  [-0.06781121, -0.031531412, 0.047270443, -0.04...   \n",
       "4882  [-0.031281125, 0.05565223, -0.011786899, -0.01...   \n",
       "4883  [0.04845283, -0.0013604711, 0.016888607, -0.04...   \n",
       "\n",
       "                                            description  \\\n",
       "0     [-0.03614048, 0.015635908, 0.036675498, -0.022...   \n",
       "3     [-0.08783149, 0.023678502, 0.022103464, -0.009...   \n",
       "4     [-0.010625219, 0.011431177, 0.00027578892, -0....   \n",
       "6     [-0.04980058, 0.027313415, 0.07170434, -0.0307...   \n",
       "7     [-0.051647905, -0.0071153087, 0.010234532, -0....   \n",
       "...                                                 ...   \n",
       "4879  [-0.0058725853, 0.06217317, 0.00075473345, -0....   \n",
       "4880  [-0.06587334, -0.044411045, 0.06696862, -0.006...   \n",
       "4881  [-0.036403824, 0.024345394, 0.046297923, -0.01...   \n",
       "4882  [-0.024685418, -0.022813914, 0.052955694, 0.00...   \n",
       "4883  [-0.0030233115, -0.020262193, 0.059051346, 0.0...   \n",
       "\n",
       "                                                  title  \n",
       "0     [-0.033801984, -0.0314781, 0.024480032, -0.012...  \n",
       "3     [-0.030230703, -0.031346425, 0.010791936, 0.01...  \n",
       "4     [-0.024104822, 0.012512886, 0.033501167, 0.012...  \n",
       "6     [-0.09509616, 0.006928549, 0.010449396, -0.028...  \n",
       "7     [-0.0287803, -0.0032674577, 0.0071817385, -0.0...  \n",
       "...                                                 ...  \n",
       "4879  [-0.038198672, 0.03346352, 0.07629153, -0.1127...  \n",
       "4880  [-0.06685267, 0.0020543542, 0.06075587, -0.021...  \n",
       "4881  [-0.08032765, 0.030658389, 0.060620602, -0.032...  \n",
       "4882  [-0.006481837, 0.01953503, 0.054427538, 0.0260...  \n",
       "4883  [-0.020616807, 0.06273646, -0.012867321, 0.043...  \n",
       "\n",
       "[3907 rows x 8 columns]"
      ]
     },
     "execution_count": 10,
     "metadata": {},
     "output_type": "execute_result"
    }
   ],
   "source": [
    "X_train"
   ]
  },
  {
   "cell_type": "markdown",
   "metadata": {},
   "source": [
    "## Create a predictive model"
   ]
  },
  {
   "cell_type": "markdown",
   "metadata": {},
   "source": [
    "Candidates include: XGBoost, CatBoost (handles categorical features natively), KNN or a neural net."
   ]
  },
  {
   "cell_type": "code",
   "execution_count": 11,
   "metadata": {},
   "outputs": [
    {
     "name": "stdout",
     "output_type": "stream",
     "text": [
      "0:\tlearn: 148.7260425\ttest: 160.1102285\tbest: 160.1102285 (0)\ttotal: 50.3ms\tremaining: 50.2s\n",
      "100:\tlearn: 84.1968006\ttest: 95.3279393\tbest: 95.3279393 (100)\ttotal: 457ms\tremaining: 4.07s\n",
      "200:\tlearn: 79.5859541\ttest: 93.4061430\tbest: 93.4061430 (200)\ttotal: 948ms\tremaining: 3.77s\n",
      "300:\tlearn: 76.3709957\ttest: 93.0285022\tbest: 93.0094554 (297)\ttotal: 1.34s\tremaining: 3.12s\n",
      "Stopped by overfitting detector  (50 iterations wait)\n",
      "\n",
      "bestTest = 93.00651914\n",
      "bestIteration = 301\n",
      "\n",
      "Shrink model to first 302 iterations.\n"
     ]
    },
    {
     "data": {
      "text/plain": [
       "<catboost.core.CatBoostRegressor at 0x7fa24c10aed0>"
      ]
     },
     "execution_count": 11,
     "metadata": {},
     "output_type": "execute_result"
    }
   ],
   "source": [
    "from catboost import CatBoostRegressor, Pool\n",
    "\n",
    "embedding_features= ['designer_names', 'description', 'title', 'hashtags'] #, 'size']\n",
    "\n",
    "# Initialize the model\n",
    "model = CatBoostRegressor(\n",
    "    embedding_features=embedding_features,\n",
    "    iterations=1000, # Number of trees\n",
    "    # learning_rate=0.05,\n",
    "    # depth=6, \n",
    "    loss_function='LogCosh', # LogCosh or RMSE\n",
    "    verbose=100  # Print training progress every 100 iterations\n",
    ")\n",
    "\n",
    "# Create CatBoost Pool objects\n",
    "train_pool = Pool(\n",
    "    data=X_train,\n",
    "    label=y_train,\n",
    "    embedding_features=embedding_features,\n",
    ")\n",
    "\n",
    "test_pool = Pool(\n",
    "    data=X_test,\n",
    "    label=y_test,\n",
    "    embedding_features=embedding_features,\n",
    ")\n",
    "\n",
    "# Train the model\n",
    "model.fit(\n",
    "    train_pool,\n",
    "    eval_set=test_pool,\n",
    "    early_stopping_rounds=50\n",
    ")"
   ]
  },
  {
   "cell_type": "code",
   "execution_count": 12,
   "metadata": {},
   "outputs": [
    {
     "name": "stdout",
     "output_type": "stream",
     "text": [
      "MSE: 117207.36644691402\n",
      "RMSLE: 0.769731617085105\n",
      "R squared: 0.1562048356920377\n"
     ]
    }
   ],
   "source": [
    "from sklearn.metrics import mean_squared_error, r2_score\n",
    "\n",
    "# Predicting target values on the test set\n",
    "y_pred = model.predict(X_test)\n",
    "\n",
    "# Calculating Mean Squared Error (MSE) using sklearn\n",
    "mse = mean_squared_error(y_test.iloc[:,0], y_pred)\n",
    "print(\"MSE:\", mse)\n",
    "\n",
    "# RMSLE\n",
    "from sklearn.metrics import mean_squared_log_error\n",
    "rmsle = np.sqrt(mean_squared_log_error(y_test.iloc[:,0], y_pred))\n",
    "print(\"RMSLE:\", rmsle)\n",
    "\n",
    "# Calculating R squared using sklearn\n",
    "r2 = r2_score(y_test.iloc[:,0], y_pred)\n",
    "print(\"R squared:\", r2)"
   ]
  },
  {
   "cell_type": "markdown",
   "metadata": {},
   "source": [
    "Best RMSLE on this problem: 0.64 (https://github.com/kirill-rubashevskiy/graildient-descent/blob/main/README.md)"
   ]
  },
  {
   "cell_type": "markdown",
   "metadata": {},
   "source": [
    "Depth 6:\n",
    "MSE: 29579.55058842608\n",
    "RMSLE: 0.830304560803696\n",
    "R squared: 0.3927258203735853"
   ]
  },
  {
   "cell_type": "code",
   "execution_count": 13,
   "metadata": {},
   "outputs": [],
   "source": [
    "# TODO: Is the order correct?\n",
    "predicted_df = y_test\n",
    "predicted_df['predicted_price'] = y_pred"
   ]
  },
  {
   "cell_type": "code",
   "execution_count": 14,
   "metadata": {},
   "outputs": [
    {
     "data": {
      "text/html": [
       "<div>\n",
       "<style scoped>\n",
       "    .dataframe tbody tr th:only-of-type {\n",
       "        vertical-align: middle;\n",
       "    }\n",
       "\n",
       "    .dataframe tbody tr th {\n",
       "        vertical-align: top;\n",
       "    }\n",
       "\n",
       "    .dataframe thead th {\n",
       "        text-align: right;\n",
       "    }\n",
       "</style>\n",
       "<table border=\"1\" class=\"dataframe\">\n",
       "  <thead>\n",
       "    <tr style=\"text-align: right;\">\n",
       "      <th></th>\n",
       "      <th>sold_price</th>\n",
       "      <th>predicted_price</th>\n",
       "    </tr>\n",
       "  </thead>\n",
       "  <tbody>\n",
       "    <tr>\n",
       "      <th>1</th>\n",
       "      <td>569</td>\n",
       "      <td>268.464620</td>\n",
       "    </tr>\n",
       "    <tr>\n",
       "      <th>2</th>\n",
       "      <td>278</td>\n",
       "      <td>162.674856</td>\n",
       "    </tr>\n",
       "    <tr>\n",
       "      <th>5</th>\n",
       "      <td>36</td>\n",
       "      <td>43.219697</td>\n",
       "    </tr>\n",
       "    <tr>\n",
       "      <th>9</th>\n",
       "      <td>54</td>\n",
       "      <td>215.413096</td>\n",
       "    </tr>\n",
       "    <tr>\n",
       "      <th>10</th>\n",
       "      <td>360</td>\n",
       "      <td>173.898739</td>\n",
       "    </tr>\n",
       "    <tr>\n",
       "      <th>...</th>\n",
       "      <td>...</td>\n",
       "      <td>...</td>\n",
       "    </tr>\n",
       "    <tr>\n",
       "      <th>4864</th>\n",
       "      <td>85</td>\n",
       "      <td>39.544614</td>\n",
       "    </tr>\n",
       "    <tr>\n",
       "      <th>4866</th>\n",
       "      <td>150</td>\n",
       "      <td>158.194878</td>\n",
       "    </tr>\n",
       "    <tr>\n",
       "      <th>4868</th>\n",
       "      <td>95</td>\n",
       "      <td>204.204564</td>\n",
       "    </tr>\n",
       "    <tr>\n",
       "      <th>4875</th>\n",
       "      <td>120</td>\n",
       "      <td>62.039762</td>\n",
       "    </tr>\n",
       "    <tr>\n",
       "      <th>4877</th>\n",
       "      <td>49</td>\n",
       "      <td>122.953619</td>\n",
       "    </tr>\n",
       "  </tbody>\n",
       "</table>\n",
       "<p>977 rows × 2 columns</p>\n",
       "</div>"
      ],
      "text/plain": [
       "      sold_price  predicted_price\n",
       "1            569       268.464620\n",
       "2            278       162.674856\n",
       "5             36        43.219697\n",
       "9             54       215.413096\n",
       "10           360       173.898739\n",
       "...          ...              ...\n",
       "4864          85        39.544614\n",
       "4866         150       158.194878\n",
       "4868          95       204.204564\n",
       "4875         120        62.039762\n",
       "4877          49       122.953619\n",
       "\n",
       "[977 rows x 2 columns]"
      ]
     },
     "execution_count": 14,
     "metadata": {},
     "output_type": "execute_result"
    }
   ],
   "source": [
    "predicted_df"
   ]
  },
  {
   "cell_type": "markdown",
   "metadata": {},
   "source": [
    "### \"Outdated\" models"
   ]
  },
  {
   "cell_type": "code",
   "execution_count": 15,
   "metadata": {},
   "outputs": [],
   "source": [
    "# import numpy as np\n",
    "# from xgboost import XGBRegressor\n",
    "\n",
    "# # Convert the embeddings column into a numpy array of separate columns\n",
    "# X_train_array = np.vstack(X_train['designers_title_embedding'].to_numpy())\n",
    "# X_test_array = np.vstack(X_test['designers_title_embedding'].to_numpy())\n",
    "\n",
    "# # Now train the model with the reshaped data\n",
    "# xgb_regressor = XGBRegressor()\n",
    "# xgb_regressor.fit(X_train_array, y_train)"
   ]
  },
  {
   "cell_type": "code",
   "execution_count": 16,
   "metadata": {},
   "outputs": [],
   "source": [
    "# from sklearn.neighbors import KNeighborsRegressor\n",
    "# knn_reg = KNeighborsRegressor(n_neighbors=5)\n",
    "# knn_reg.fit(X_train_array, y_train)"
   ]
  },
  {
   "cell_type": "markdown",
   "metadata": {},
   "source": [
    "## Evaluate model"
   ]
  },
  {
   "cell_type": "code",
   "execution_count": 17,
   "metadata": {},
   "outputs": [],
   "source": [
    "# TODO: Plot performance, consider saving the plots as images"
   ]
  },
  {
   "cell_type": "code",
   "execution_count": 18,
   "metadata": {},
   "outputs": [
    {
     "data": {
      "image/png": "[encoded data removed]",
      "text/plain": [
       "<Figure size 1000x600 with 1 Axes>"
      ]
     },
     "metadata": {},
     "output_type": "display_data"
    }
   ],
   "source": [
    "def plot_grouped_feature_importance(model, X_test, original_feature_names=features, embedding_prefix='embedding_'):\n",
    "    # Get feature importance scores\n",
    "    feature_importance = model.get_feature_importance()\n",
    "\n",
    "    # Create the plot\n",
    "    fig, ax = plt.figure(figsize=(10, 6)), plt.axes()\n",
    "    \n",
    "    # Plot horizontal bar chart\n",
    "    y_pos = np.arange(len(feature_importance))\n",
    "    ax.barh(y_pos, list(feature_importance))\n",
    "    ax.set_yticks(y_pos)\n",
    "    ax.set_yticklabels(features)\n",
    "    \n",
    "    plt.title('Grouped Feature Importance')\n",
    "    plt.xlabel('Mean Importance Score')\n",
    "    \n",
    "    # Add value labels on the bars\n",
    "    for i, v in enumerate(feature_importance):\n",
    "        ax.text(v, i, f'{v:.3f}', va='center')\n",
    "    \n",
    "    plt.tight_layout()\n",
    "    return plt\n",
    "\n",
    "# Usage:\n",
    "plot_grouped_feature_importance(model, X_test)\n",
    "plt.show()"
   ]
  },
  {
   "cell_type": "markdown",
   "metadata": {},
   "source": [
    "## Model registry"
   ]
  },
  {
   "cell_type": "markdown",
   "metadata": {},
   "source": [
    "### Save locally"
   ]
  },
  {
   "cell_type": "code",
   "execution_count": 19,
   "metadata": {},
   "outputs": [],
   "source": [
    "# Creating a directory for the model artifacts if it doesn't exist\n",
    "model_dir = \"price_predictor_model\"\n",
    "if not os.path.exists(model_dir):\n",
    "    os.mkdir(model_dir)"
   ]
  },
  {
   "cell_type": "code",
   "execution_count": 20,
   "metadata": {},
   "outputs": [],
   "source": [
    "# Save the model locally\n",
    "model.save_model(model_dir + \"/model.json\")"
   ]
  },
  {
   "cell_type": "markdown",
   "metadata": {},
   "source": [
    "### Save to modal registry"
   ]
  },
  {
   "cell_type": "code",
   "execution_count": 21,
   "metadata": {},
   "outputs": [],
   "source": [
    "from hsml.schema import Schema\n",
    "from hsml.model_schema import ModelSchema\n",
    "\n",
    "input_example = {}\n",
    "for col in X_test.columns:\n",
    "    sample_value = X_test[col].iloc[0]\n",
    "    if isinstance(sample_value, (list, np.ndarray)):\n",
    "        # Convert embedding to a simple list of floats\n",
    "        input_example[col] = [float(x) for x in sample_value]\n",
    "    else:\n",
    "        # For regular columns, convert to basic Python types\n",
    "        value = sample_value\n",
    "        if isinstance(value, (np.int64, np.int32)):\n",
    "            value = int(value)\n",
    "        elif isinstance(value, (np.float64, np.float32)):\n",
    "            value = float(value)\n",
    "        input_example[col] = value\n",
    "\n",
    "# Creating input and output schemas\n",
    "input_schema = Schema(X_train)\n",
    "output_schema = Schema(y_train)\n",
    "model_schema = ModelSchema(input_schema=input_schema, output_schema=output_schema)"
   ]
  },
  {
   "cell_type": "code",
   "execution_count": 22,
   "metadata": {},
   "outputs": [
    {
     "data": {
      "text/plain": [
       "ModelSchema(input: 'columnar', output: 'columnar')"
      ]
     },
     "execution_count": 22,
     "metadata": {},
     "output_type": "execute_result"
    }
   ],
   "source": [
    "model_schema"
   ]
  },
  {
   "cell_type": "code",
   "execution_count": 23,
   "metadata": {},
   "outputs": [],
   "source": [
    "res_dict = { \n",
    "    \"MSE\": str(mse),\n",
    "    \"RMSLE\": str(rmsle),\n",
    "    \"R squared\": str(r2),\n",
    "}"
   ]
  },
  {
   "cell_type": "code",
   "execution_count": 24,
   "metadata": {},
   "outputs": [],
   "source": [
    "mr = project.get_model_registry()"
   ]
  },
  {
   "cell_type": "code",
   "execution_count": 31,
   "metadata": {},
   "outputs": [],
   "source": [
    "grailed_model = mr.python.create_model(\n",
    "    name=\"grailed_prediction_catboost_model\", \n",
    "    metrics=res_dict,\n",
    "    model_schema=model_schema,\n",
    "    # input_example=X_test.sample().values, # Bugged\n",
    "    description=\"Grailed (fashion) price predictor\",\n",
    ")"
   ]
  },
  {
   "cell_type": "code",
   "execution_count": 32,
   "metadata": {},
   "outputs": [
    {
     "data": {
      "application/vnd.jupyter.widget-view+json": {
       "model_id": "38c7b3098eef47d9a8f1b39dbf20a229",
       "version_major": 2,
       "version_minor": 0
      },
      "text/plain": [
       "  0%|          | 0/6 [00:00<?, ?it/s]"
      ]
     },
     "metadata": {},
     "output_type": "display_data"
    },
    {
     "data": {
      "application/vnd.jupyter.widget-view+json": {
       "model_id": "2f3a6b6a24a2426d8365f775c48fb096",
       "version_major": 2,
       "version_minor": 0
      },
      "text/plain": [
       "Uploading: 0.000%|          | 0/23075984 elapsed<00:00 remaining<?"
      ]
     },
     "metadata": {},
     "output_type": "display_data"
    },
    {
     "data": {
      "application/vnd.jupyter.widget-view+json": {
       "model_id": "e2aecc58e054496cb45c7f190a60ef54",
       "version_major": 2,
       "version_minor": 0
      },
      "text/plain": [
       "Uploading: 0.000%|          | 0/751 elapsed<00:00 remaining<?"
      ]
     },
     "metadata": {},
     "output_type": "display_data"
    },
    {
     "name": "stdout",
     "output_type": "stream",
     "text": [
      "Model created, explore it at https://c.app.hopsworks.ai:443/p/1159324/models/grailed_prediction_catboost_model/2\n"
     ]
    },
    {
     "data": {
      "text/plain": [
       "Model(name: 'grailed_prediction_catboost_model', version: 2)"
      ]
     },
     "execution_count": 32,
     "metadata": {},
     "output_type": "execute_result"
    }
   ],
   "source": [
    "grailed_model.save(model_dir)"
   ]
  },
  {
   "cell_type": "code",
   "execution_count": null,
   "metadata": {},
   "outputs": [],
   "source": []
  }
 ],
 "metadata": {
  "kernelspec": {
   "display_name": "Python 3 (ipykernel)",
   "language": "python",
   "name": "python3"
  },
  "language_info": {
   "codemirror_mode": {
    "name": "ipython",
    "version": 3
   },
   "file_extension": ".py",
   "mimetype": "text/x-python",
   "name": "python",
   "nbconvert_exporter": "python",
   "pygments_lexer": "ipython3",
   "version": "3.11.9"
  }
 },
 "nbformat": 4,
 "nbformat_minor": 4
}
