{
 "cells": [
  {
   "cell_type": "code",
   "execution_count": 1,
   "metadata": {},
   "outputs": [],
   "source": [
    "import os\n",
    "import hopsworks\n",
    "import pandas as pd\n",
    "import numpy as np\n",
    "import matplotlib.pyplot as plt"
   ]
  },
  {
   "cell_type": "code",
   "execution_count": 2,
   "metadata": {},
   "outputs": [
    {
     "name": "stdout",
     "output_type": "stream",
     "text": [
      "2025-01-05 17:06:19,731 INFO: Initializing external client\n",
      "2025-01-05 17:06:19,732 INFO: Base URL: https://c.app.hopsworks.ai:443\n",
      "2025-01-05 17:06:21,773 INFO: Python Engine initialized.\n",
      "\n",
      "Logged in to project, explore it here https://c.app.hopsworks.ai:443/p/1159324\n"
     ]
    }
   ],
   "source": [
    "with open('data/hopsworks-api-key.txt', 'r') as file:\n",
    "    os.environ[\"HOPSWORKS_API_KEY\"] = file.read().rstrip()\n",
    "    \n",
    "project = hopsworks.login()\n",
    "fs = project.get_feature_store()"
   ]
  },
  {
   "cell_type": "code",
   "execution_count": 3,
   "metadata": {},
   "outputs": [],
   "source": [
    "grailed_items_fg = fs.get_feature_group(\n",
    "    name='draft_grailed_items',\n",
    "    version=2,\n",
    ")"
   ]
  },
  {
   "cell_type": "code",
   "execution_count": 4,
   "metadata": {},
   "outputs": [
    {
     "data": {
      "text/plain": [
       "[Feature('id', 'bigint', None, True, False, None, None, 1393568),\n",
       " Feature('sold_at', 'timestamp', None, False, False, None, None, 1393568),\n",
       " Feature('designer_names', 'array<float>', None, False, False, None, None, 1393568),\n",
       " Feature('description', 'array<float>', None, False, False, None, None, 1393568),\n",
       " Feature('title', 'array<float>', None, False, False, None, None, 1393568),\n",
       " Feature('hashtags', 'array<string>', None, False, False, None, None, 1393568),\n",
       " Feature('category_path', 'string', None, False, False, None, None, 1393568),\n",
       " Feature('condition', 'bigint', None, False, False, None, None, 1393568),\n",
       " Feature('size', 'string', None, False, False, None, None, 1393568),\n",
       " Feature('color', 'string', None, False, False, None, None, 1393568),\n",
       " Feature('followerno', 'bigint', None, False, False, None, None, 1393568),\n",
       " Feature('sold_price', 'bigint', None, False, False, None, None, 1393568),\n",
       " Feature('embedded_hashtags', 'array<float>', None, False, False, None, None, 1393568)]"
      ]
     },
     "execution_count": 4,
     "metadata": {},
     "output_type": "execute_result"
    }
   ],
   "source": [
    "grailed_items_fg.features"
   ]
  },
  {
   "cell_type": "markdown",
   "metadata": {},
   "source": [
    "## Create feature view"
   ]
  },
  {
   "cell_type": "code",
   "execution_count": 5,
   "metadata": {},
   "outputs": [],
   "source": [
    "features = ['designer_names', 'title', 'category_path', 'size', 'color', 'condition']\n",
    "labels = ['sold_price']"
   ]
  },
  {
   "cell_type": "code",
   "execution_count": 6,
   "metadata": {},
   "outputs": [
    {
     "name": "stdout",
     "output_type": "stream",
     "text": [
      "Finished: Reading data from Hopsworks, using Hopsworks Feature Query Service (2.18s) \n"
     ]
    },
    {
     "data": {
      "text/html": [
       "<div>\n",
       "<style scoped>\n",
       "    .dataframe tbody tr th:only-of-type {\n",
       "        vertical-align: middle;\n",
       "    }\n",
       "\n",
       "    .dataframe tbody tr th {\n",
       "        vertical-align: top;\n",
       "    }\n",
       "\n",
       "    .dataframe thead th {\n",
       "        text-align: right;\n",
       "    }\n",
       "</style>\n",
       "<table border=\"1\" class=\"dataframe\">\n",
       "  <thead>\n",
       "    <tr style=\"text-align: right;\">\n",
       "      <th></th>\n",
       "      <th>designer_names</th>\n",
       "      <th>title</th>\n",
       "      <th>category_path</th>\n",
       "      <th>size</th>\n",
       "      <th>color</th>\n",
       "      <th>condition</th>\n",
       "      <th>sold_price</th>\n",
       "    </tr>\n",
       "  </thead>\n",
       "  <tbody>\n",
       "    <tr>\n",
       "      <th>0</th>\n",
       "      <td>[-0.031601675, 0.0020146728, 0.05064709, 0.033...</td>\n",
       "      <td>[-0.07234231, 0.02547096, 0.043225057, 0.00155...</td>\n",
       "      <td>bottoms.casual_pants</td>\n",
       "      <td>32</td>\n",
       "      <td>camo</td>\n",
       "      <td>2</td>\n",
       "      <td>90</td>\n",
       "    </tr>\n",
       "    <tr>\n",
       "      <th>1</th>\n",
       "      <td>[-0.05352693, 0.08712817, 0.04073282, -0.02293...</td>\n",
       "      <td>[-0.086579934, 0.009786084, 0.015373386, -0.02...</td>\n",
       "      <td>tops.sweaters_knitwear</td>\n",
       "      <td>l</td>\n",
       "      <td>grey</td>\n",
       "      <td>2</td>\n",
       "      <td>100</td>\n",
       "    </tr>\n",
       "    <tr>\n",
       "      <th>2</th>\n",
       "      <td>[0.026256513, -0.051035274, 0.0006324983, 0.00...</td>\n",
       "      <td>[-0.038383428, 0.05010801, 0.0024536746, -0.00...</td>\n",
       "      <td>tops.jerseys</td>\n",
       "      <td>l</td>\n",
       "      <td>navy</td>\n",
       "      <td>2</td>\n",
       "      <td>110</td>\n",
       "    </tr>\n",
       "    <tr>\n",
       "      <th>3</th>\n",
       "      <td>[-0.03837172, 0.020790162, 0.041606624, -0.072...</td>\n",
       "      <td>[-0.0470728, 0.053835522, 0.06837271, -0.02697...</td>\n",
       "      <td>bottoms.leggings</td>\n",
       "      <td>26</td>\n",
       "      <td>camo</td>\n",
       "      <td>1</td>\n",
       "      <td>65</td>\n",
       "    </tr>\n",
       "    <tr>\n",
       "      <th>4</th>\n",
       "      <td>[-0.002615375, -0.008588393, 0.04519368, -0.07...</td>\n",
       "      <td>[-0.019977197, 3.8269107e-05, 0.06975493, -0.0...</td>\n",
       "      <td>accessories.misc</td>\n",
       "      <td>one size</td>\n",
       "      <td>white</td>\n",
       "      <td>3</td>\n",
       "      <td>39</td>\n",
       "    </tr>\n",
       "    <tr>\n",
       "      <th>5</th>\n",
       "      <td>[-0.040750112, -0.004846334, 0.0482456, 0.0030...</td>\n",
       "      <td>[-0.045855638, -0.0119385505, 0.05753709, -0.0...</td>\n",
       "      <td>tops.sweatshirts_hoodies</td>\n",
       "      <td>s</td>\n",
       "      <td>grey</td>\n",
       "      <td>2</td>\n",
       "      <td>248</td>\n",
       "    </tr>\n",
       "    <tr>\n",
       "      <th>6</th>\n",
       "      <td>[-0.019721668, -0.011818303, 0.007883322, -0.0...</td>\n",
       "      <td>[-0.08649137, -0.011142856, 0.027363302, -0.04...</td>\n",
       "      <td>accessories.misc</td>\n",
       "      <td>one size</td>\n",
       "      <td>black</td>\n",
       "      <td>3</td>\n",
       "      <td>26</td>\n",
       "    </tr>\n",
       "    <tr>\n",
       "      <th>7</th>\n",
       "      <td>[-0.042743836, -0.042903032, 0.044866435, -0.0...</td>\n",
       "      <td>[-0.048609685, 0.0006830724, 0.018770076, 0.01...</td>\n",
       "      <td>outerwear.light_jackets</td>\n",
       "      <td>l</td>\n",
       "      <td>blue black</td>\n",
       "      <td>1</td>\n",
       "      <td>135</td>\n",
       "    </tr>\n",
       "    <tr>\n",
       "      <th>8</th>\n",
       "      <td>[-0.047228426, 0.074170455, -0.03471582, -0.03...</td>\n",
       "      <td>[-0.05823493, 0.10624947, 0.047216073, -0.0419...</td>\n",
       "      <td>footwear.boots</td>\n",
       "      <td>8</td>\n",
       "      <td>black</td>\n",
       "      <td>2</td>\n",
       "      <td>220</td>\n",
       "    </tr>\n",
       "    <tr>\n",
       "      <th>9</th>\n",
       "      <td>[-0.050281346, 0.025167605, 0.027281737, 0.020...</td>\n",
       "      <td>[-0.05827724, 0.017197656, 0.037410572, 0.0104...</td>\n",
       "      <td>tops.button_ups</td>\n",
       "      <td>m</td>\n",
       "      <td>blue</td>\n",
       "      <td>2</td>\n",
       "      <td>60</td>\n",
       "    </tr>\n",
       "  </tbody>\n",
       "</table>\n",
       "</div>"
      ],
      "text/plain": [
       "                                      designer_names  \\\n",
       "0  [-0.031601675, 0.0020146728, 0.05064709, 0.033...   \n",
       "1  [-0.05352693, 0.08712817, 0.04073282, -0.02293...   \n",
       "2  [0.026256513, -0.051035274, 0.0006324983, 0.00...   \n",
       "3  [-0.03837172, 0.020790162, 0.041606624, -0.072...   \n",
       "4  [-0.002615375, -0.008588393, 0.04519368, -0.07...   \n",
       "5  [-0.040750112, -0.004846334, 0.0482456, 0.0030...   \n",
       "6  [-0.019721668, -0.011818303, 0.007883322, -0.0...   \n",
       "7  [-0.042743836, -0.042903032, 0.044866435, -0.0...   \n",
       "8  [-0.047228426, 0.074170455, -0.03471582, -0.03...   \n",
       "9  [-0.050281346, 0.025167605, 0.027281737, 0.020...   \n",
       "\n",
       "                                               title  \\\n",
       "0  [-0.07234231, 0.02547096, 0.043225057, 0.00155...   \n",
       "1  [-0.086579934, 0.009786084, 0.015373386, -0.02...   \n",
       "2  [-0.038383428, 0.05010801, 0.0024536746, -0.00...   \n",
       "3  [-0.0470728, 0.053835522, 0.06837271, -0.02697...   \n",
       "4  [-0.019977197, 3.8269107e-05, 0.06975493, -0.0...   \n",
       "5  [-0.045855638, -0.0119385505, 0.05753709, -0.0...   \n",
       "6  [-0.08649137, -0.011142856, 0.027363302, -0.04...   \n",
       "7  [-0.048609685, 0.0006830724, 0.018770076, 0.01...   \n",
       "8  [-0.05823493, 0.10624947, 0.047216073, -0.0419...   \n",
       "9  [-0.05827724, 0.017197656, 0.037410572, 0.0104...   \n",
       "\n",
       "              category_path      size       color  condition  sold_price  \n",
       "0      bottoms.casual_pants        32        camo          2          90  \n",
       "1    tops.sweaters_knitwear         l        grey          2         100  \n",
       "2              tops.jerseys         l        navy          2         110  \n",
       "3          bottoms.leggings        26        camo          1          65  \n",
       "4          accessories.misc  one size       white          3          39  \n",
       "5  tops.sweatshirts_hoodies         s        grey          2         248  \n",
       "6          accessories.misc  one size       black          3          26  \n",
       "7   outerwear.light_jackets         l  blue black          1         135  \n",
       "8            footwear.boots         8       black          2         220  \n",
       "9           tops.button_ups         m        blue          2          60  "
      ]
     },
     "execution_count": 6,
     "metadata": {},
     "output_type": "execute_result"
    }
   ],
   "source": [
    "selected_features = grailed_items_fg.select(features + labels)\n",
    "selected_features.show(10)"
   ]
  },
  {
   "cell_type": "code",
   "execution_count": 7,
   "metadata": {},
   "outputs": [],
   "source": [
    "feature_view = fs.get_or_create_feature_view(\n",
    "    name='draft_grailed_items_fv',\n",
    "    version=1,\n",
    "    labels=['sold_price'],\n",
    "    query=selected_features,\n",
    ")"
   ]
  },
  {
   "cell_type": "code",
   "execution_count": 8,
   "metadata": {},
   "outputs": [
    {
     "name": "stdout",
     "output_type": "stream",
     "text": [
      "Finished: Reading data from Hopsworks, using Hopsworks Feature Query Service (1.73s) \n"
     ]
    },
    {
     "name": "stderr",
     "output_type": "stream",
     "text": [
      "VersionWarning: Incremented version to `2`.\n"
     ]
    }
   ],
   "source": [
    "X_train, X_test, y_train, y_test = feature_view.train_test_split(test_size=0.2)"
   ]
  },
  {
   "cell_type": "code",
   "execution_count": 9,
   "metadata": {},
   "outputs": [
    {
     "data": {
      "text/html": [
       "<div>\n",
       "<style scoped>\n",
       "    .dataframe tbody tr th:only-of-type {\n",
       "        vertical-align: middle;\n",
       "    }\n",
       "\n",
       "    .dataframe tbody tr th {\n",
       "        vertical-align: top;\n",
       "    }\n",
       "\n",
       "    .dataframe thead th {\n",
       "        text-align: right;\n",
       "    }\n",
       "</style>\n",
       "<table border=\"1\" class=\"dataframe\">\n",
       "  <thead>\n",
       "    <tr style=\"text-align: right;\">\n",
       "      <th></th>\n",
       "      <th>designer_names</th>\n",
       "      <th>title</th>\n",
       "      <th>category_path</th>\n",
       "      <th>size</th>\n",
       "      <th>color</th>\n",
       "      <th>condition</th>\n",
       "    </tr>\n",
       "  </thead>\n",
       "  <tbody>\n",
       "    <tr>\n",
       "      <th>1</th>\n",
       "      <td>[-0.05352693, 0.08712817, 0.04073282, -0.02293...</td>\n",
       "      <td>[-0.086579934, 0.009786084, 0.015373386, -0.02...</td>\n",
       "      <td>tops.sweaters_knitwear</td>\n",
       "      <td>l</td>\n",
       "      <td>grey</td>\n",
       "      <td>2</td>\n",
       "    </tr>\n",
       "    <tr>\n",
       "      <th>2</th>\n",
       "      <td>[0.026256513, -0.051035274, 0.0006324983, 0.00...</td>\n",
       "      <td>[-0.038383428, 0.05010801, 0.0024536746, -0.00...</td>\n",
       "      <td>tops.jerseys</td>\n",
       "      <td>l</td>\n",
       "      <td>navy</td>\n",
       "      <td>2</td>\n",
       "    </tr>\n",
       "    <tr>\n",
       "      <th>3</th>\n",
       "      <td>[-0.03837172, 0.020790162, 0.041606624, -0.072...</td>\n",
       "      <td>[-0.0470728, 0.053835522, 0.06837271, -0.02697...</td>\n",
       "      <td>bottoms.leggings</td>\n",
       "      <td>26</td>\n",
       "      <td>camo</td>\n",
       "      <td>1</td>\n",
       "    </tr>\n",
       "    <tr>\n",
       "      <th>5</th>\n",
       "      <td>[-0.040750112, -0.004846334, 0.0482456, 0.0030...</td>\n",
       "      <td>[-0.045855638, -0.0119385505, 0.05753709, -0.0...</td>\n",
       "      <td>tops.sweatshirts_hoodies</td>\n",
       "      <td>s</td>\n",
       "      <td>grey</td>\n",
       "      <td>2</td>\n",
       "    </tr>\n",
       "    <tr>\n",
       "      <th>6</th>\n",
       "      <td>[-0.019721668, -0.011818303, 0.007883322, -0.0...</td>\n",
       "      <td>[-0.08649137, -0.011142856, 0.027363302, -0.04...</td>\n",
       "      <td>accessories.misc</td>\n",
       "      <td>one size</td>\n",
       "      <td>black</td>\n",
       "      <td>3</td>\n",
       "    </tr>\n",
       "    <tr>\n",
       "      <th>...</th>\n",
       "      <td>...</td>\n",
       "      <td>...</td>\n",
       "      <td>...</td>\n",
       "      <td>...</td>\n",
       "      <td>...</td>\n",
       "      <td>...</td>\n",
       "    </tr>\n",
       "    <tr>\n",
       "      <th>297</th>\n",
       "      <td>[-0.037526954, -0.018776597, 0.01180262, -0.00...</td>\n",
       "      <td>[-0.06365315, 0.0016540838, 0.026793046, -0.02...</td>\n",
       "      <td>tops.jerseys</td>\n",
       "      <td>m</td>\n",
       "      <td>blue</td>\n",
       "      <td>3</td>\n",
       "    </tr>\n",
       "    <tr>\n",
       "      <th>298</th>\n",
       "      <td>[-0.036511738, 0.04379813, 0.04534051, -2.0139...</td>\n",
       "      <td>[-0.08380285, 0.033425484, -0.0054137064, 0.00...</td>\n",
       "      <td>outerwear.vests</td>\n",
       "      <td>m</td>\n",
       "      <td>biege</td>\n",
       "      <td>1</td>\n",
       "    </tr>\n",
       "    <tr>\n",
       "      <th>299</th>\n",
       "      <td>[-0.044179566, -0.008883646, 0.009805159, 0.03...</td>\n",
       "      <td>[-0.04587763, -0.016004134, 0.045851115, 0.032...</td>\n",
       "      <td>tops.short_sleeve_shirts</td>\n",
       "      <td>l</td>\n",
       "      <td>white</td>\n",
       "      <td>2</td>\n",
       "    </tr>\n",
       "    <tr>\n",
       "      <th>300</th>\n",
       "      <td>[-0.0206885, -0.01642324, 0.060750045, 0.00773...</td>\n",
       "      <td>[-0.032583278, -0.03534502, 0.0036314286, -0.0...</td>\n",
       "      <td>accessories.belts</td>\n",
       "      <td>one size</td>\n",
       "      <td>beige</td>\n",
       "      <td>2</td>\n",
       "    </tr>\n",
       "    <tr>\n",
       "      <th>301</th>\n",
       "      <td>[-0.07701134, -0.039058764, -0.017922783, -0.0...</td>\n",
       "      <td>[-0.1033631, 0.09072806, 0.015461994, -0.01730...</td>\n",
       "      <td>footwear.boots</td>\n",
       "      <td>10</td>\n",
       "      <td>black</td>\n",
       "      <td>3</td>\n",
       "    </tr>\n",
       "  </tbody>\n",
       "</table>\n",
       "<p>241 rows × 6 columns</p>\n",
       "</div>"
      ],
      "text/plain": [
       "                                        designer_names  \\\n",
       "1    [-0.05352693, 0.08712817, 0.04073282, -0.02293...   \n",
       "2    [0.026256513, -0.051035274, 0.0006324983, 0.00...   \n",
       "3    [-0.03837172, 0.020790162, 0.041606624, -0.072...   \n",
       "5    [-0.040750112, -0.004846334, 0.0482456, 0.0030...   \n",
       "6    [-0.019721668, -0.011818303, 0.007883322, -0.0...   \n",
       "..                                                 ...   \n",
       "297  [-0.037526954, -0.018776597, 0.01180262, -0.00...   \n",
       "298  [-0.036511738, 0.04379813, 0.04534051, -2.0139...   \n",
       "299  [-0.044179566, -0.008883646, 0.009805159, 0.03...   \n",
       "300  [-0.0206885, -0.01642324, 0.060750045, 0.00773...   \n",
       "301  [-0.07701134, -0.039058764, -0.017922783, -0.0...   \n",
       "\n",
       "                                                 title  \\\n",
       "1    [-0.086579934, 0.009786084, 0.015373386, -0.02...   \n",
       "2    [-0.038383428, 0.05010801, 0.0024536746, -0.00...   \n",
       "3    [-0.0470728, 0.053835522, 0.06837271, -0.02697...   \n",
       "5    [-0.045855638, -0.0119385505, 0.05753709, -0.0...   \n",
       "6    [-0.08649137, -0.011142856, 0.027363302, -0.04...   \n",
       "..                                                 ...   \n",
       "297  [-0.06365315, 0.0016540838, 0.026793046, -0.02...   \n",
       "298  [-0.08380285, 0.033425484, -0.0054137064, 0.00...   \n",
       "299  [-0.04587763, -0.016004134, 0.045851115, 0.032...   \n",
       "300  [-0.032583278, -0.03534502, 0.0036314286, -0.0...   \n",
       "301  [-0.1033631, 0.09072806, 0.015461994, -0.01730...   \n",
       "\n",
       "                category_path      size  color  condition  \n",
       "1      tops.sweaters_knitwear         l   grey          2  \n",
       "2                tops.jerseys         l   navy          2  \n",
       "3            bottoms.leggings        26   camo          1  \n",
       "5    tops.sweatshirts_hoodies         s   grey          2  \n",
       "6            accessories.misc  one size  black          3  \n",
       "..                        ...       ...    ...        ...  \n",
       "297              tops.jerseys         m   blue          3  \n",
       "298           outerwear.vests         m  biege          1  \n",
       "299  tops.short_sleeve_shirts         l  white          2  \n",
       "300         accessories.belts  one size  beige          2  \n",
       "301            footwear.boots        10  black          3  \n",
       "\n",
       "[241 rows x 6 columns]"
      ]
     },
     "execution_count": 9,
     "metadata": {},
     "output_type": "execute_result"
    }
   ],
   "source": [
    "X_train"
   ]
  },
  {
   "cell_type": "markdown",
   "metadata": {},
   "source": [
    "## Create a predictive model"
   ]
  },
  {
   "cell_type": "markdown",
   "metadata": {},
   "source": [
    "Candidates include: XGBoost, CatBoost (handles categorical features natively), KNN or a neural net."
   ]
  },
  {
   "cell_type": "code",
   "execution_count": 11,
   "metadata": {},
   "outputs": [],
   "source": [
    "def process_embeddings(df, embedding_columns):\n",
    "    # Process all embedding columns and concatenate results\n",
    "    processed_embeddings = pd.concat([\n",
    "        pd.DataFrame(\n",
    "            np.vstack(df[col].to_numpy()),\n",
    "            columns=[f'{col}_{i}' for i in range(len(df[col].iloc[0]))],\n",
    "            index=df.index\n",
    "        ) for col in embedding_columns\n",
    "    ], axis=1)\n",
    "    \n",
    "    # Combine with non-embedding columns\n",
    "    return pd.concat([\n",
    "        df.drop(embedding_columns, axis=1),\n",
    "        processed_embeddings\n",
    "    ], axis=1)\n",
    "\n",
    "# Define embedding columns to process\n",
    "embedding_cols = ['designer_names', 'title']\n",
    "\n",
    "# Process train and test data\n",
    "X_train_processed = process_embeddings(X_train, embedding_cols)\n",
    "X_test_processed = process_embeddings(X_test, embedding_cols)\n",
    "\n",
    "# Make sure indices match\n",
    "X_train_processed = X_train_processed.loc[y_train.index]\n",
    "X_test_processed = X_test_processed.loc[y_test.index]\n"
   ]
  },
  {
   "cell_type": "code",
   "execution_count": 14,
   "metadata": {},
   "outputs": [
    {
     "name": "stdout",
     "output_type": "stream",
     "text": [
      "Learning rate set to 0.040726\n",
      "0:\tlearn: 170.4529355\ttest: 128.9193094\tbest: 128.9193094 (0)\ttotal: 172ms\tremaining: 2m 52s\n",
      "100:\tlearn: 100.8632435\ttest: 124.6079119\tbest: 124.6079119 (100)\ttotal: 4.89s\tremaining: 43.5s\n",
      "200:\tlearn: 40.5612080\ttest: 115.9932200\tbest: 115.9417839 (199)\ttotal: 11.2s\tremaining: 44.3s\n",
      "300:\tlearn: 13.6795626\ttest: 112.6862799\tbest: 112.5686026 (292)\ttotal: 16.4s\tremaining: 38s\n",
      "400:\tlearn: 5.0384650\ttest: 111.8987219\tbest: 111.8987219 (400)\ttotal: 20.8s\tremaining: 31s\n",
      "500:\tlearn: 1.9817956\ttest: 111.7035639\tbest: 111.7000808 (484)\ttotal: 25s\tremaining: 24.9s\n",
      "600:\tlearn: 0.7779023\ttest: 111.6193257\tbest: 111.6145953 (598)\ttotal: 31.6s\tremaining: 21s\n",
      "700:\tlearn: 0.3110839\ttest: 111.5916966\tbest: 111.5881945 (693)\ttotal: 38s\tremaining: 16.2s\n",
      "800:\tlearn: 0.1585366\ttest: 111.5839623\tbest: 111.5839623 (800)\ttotal: 43.7s\tremaining: 10.8s\n",
      "Stopped by overfitting detector  (50 iterations wait)\n",
      "\n",
      "bestTest = 111.5831149\n",
      "bestIteration = 812\n",
      "\n",
      "Shrink model to first 813 iterations.\n"
     ]
    },
    {
     "data": {
      "text/plain": [
       "<catboost.core.CatBoostRegressor at 0x7fcad18b7d90>"
      ]
     },
     "execution_count": 14,
     "metadata": {},
     "output_type": "execute_result"
    }
   ],
   "source": [
    "from catboost import CatBoostRegressor, Pool\n",
    "\n",
    "raw_categorical_features = ['category_path', 'size', 'color']\n",
    "\n",
    "# Initialize the model\n",
    "model = CatBoostRegressor(\n",
    "    cat_features=raw_categorical_features,\n",
    "    iterations=1000,\n",
    "    # learning_rate=0.1,\n",
    "    # depth=6,\n",
    "    loss_function='RMSE',\n",
    "    verbose=100  # Print training progress every 100 iterations\n",
    ")\n",
    "\n",
    "# Create CatBoost Pool objects\n",
    "train_pool = Pool(\n",
    "    data=X_train_processed,\n",
    "    label=y_train,\n",
    "    cat_features=raw_categorical_features\n",
    ")\n",
    "\n",
    "test_pool = Pool(\n",
    "    data=X_test_processed,\n",
    "    label=y_test,\n",
    "    cat_features=raw_categorical_features\n",
    ")\n",
    "\n",
    "# Train the model\n",
    "model.fit(\n",
    "    train_pool,\n",
    "    eval_set=test_pool,\n",
    "    early_stopping_rounds=50\n",
    ")"
   ]
  },
  {
   "cell_type": "code",
   "execution_count": 15,
   "metadata": {},
   "outputs": [
    {
     "name": "stdout",
     "output_type": "stream",
     "text": [
      "MSE: 12450.791527496467\n",
      "R squared: 0.24833134399243018\n"
     ]
    }
   ],
   "source": [
    "from sklearn.metrics import mean_squared_error, r2_score\n",
    "\n",
    "# Predicting target values on the test set\n",
    "y_pred = model.predict(X_test_processed)\n",
    "\n",
    "# Calculating Mean Squared Error (MSE) using sklearn\n",
    "mse = mean_squared_error(y_test.iloc[:,0], y_pred)\n",
    "print(\"MSE:\", mse)\n",
    "\n",
    "# Calculating R squared using sklearn\n",
    "r2 = r2_score(y_test.iloc[:,0], y_pred)\n",
    "print(\"R squared:\", r2)"
   ]
  },
  {
   "cell_type": "code",
   "execution_count": 16,
   "metadata": {},
   "outputs": [],
   "source": [
    "# TODO: Is the order correct?\n",
    "predicted_df = y_test\n",
    "predicted_df['predicted_price'] = y_pred"
   ]
  },
  {
   "cell_type": "code",
   "execution_count": 17,
   "metadata": {},
   "outputs": [
    {
     "data": {
      "text/html": [
       "<div>\n",
       "<style scoped>\n",
       "    .dataframe tbody tr th:only-of-type {\n",
       "        vertical-align: middle;\n",
       "    }\n",
       "\n",
       "    .dataframe tbody tr th {\n",
       "        vertical-align: top;\n",
       "    }\n",
       "\n",
       "    .dataframe thead th {\n",
       "        text-align: right;\n",
       "    }\n",
       "</style>\n",
       "<table border=\"1\" class=\"dataframe\">\n",
       "  <thead>\n",
       "    <tr style=\"text-align: right;\">\n",
       "      <th></th>\n",
       "      <th>sold_price</th>\n",
       "      <th>predicted_price</th>\n",
       "    </tr>\n",
       "  </thead>\n",
       "  <tbody>\n",
       "    <tr>\n",
       "      <th>0</th>\n",
       "      <td>90</td>\n",
       "      <td>102.771162</td>\n",
       "    </tr>\n",
       "    <tr>\n",
       "      <th>4</th>\n",
       "      <td>39</td>\n",
       "      <td>122.110249</td>\n",
       "    </tr>\n",
       "    <tr>\n",
       "      <th>15</th>\n",
       "      <td>5</td>\n",
       "      <td>51.420425</td>\n",
       "    </tr>\n",
       "    <tr>\n",
       "      <th>17</th>\n",
       "      <td>65</td>\n",
       "      <td>53.292713</td>\n",
       "    </tr>\n",
       "    <tr>\n",
       "      <th>18</th>\n",
       "      <td>35</td>\n",
       "      <td>94.235553</td>\n",
       "    </tr>\n",
       "    <tr>\n",
       "      <th>...</th>\n",
       "      <td>...</td>\n",
       "      <td>...</td>\n",
       "    </tr>\n",
       "    <tr>\n",
       "      <th>275</th>\n",
       "      <td>300</td>\n",
       "      <td>112.709449</td>\n",
       "    </tr>\n",
       "    <tr>\n",
       "      <th>277</th>\n",
       "      <td>30</td>\n",
       "      <td>120.322980</td>\n",
       "    </tr>\n",
       "    <tr>\n",
       "      <th>284</th>\n",
       "      <td>90</td>\n",
       "      <td>96.959071</td>\n",
       "    </tr>\n",
       "    <tr>\n",
       "      <th>287</th>\n",
       "      <td>115</td>\n",
       "      <td>89.456302</td>\n",
       "    </tr>\n",
       "    <tr>\n",
       "      <th>295</th>\n",
       "      <td>200</td>\n",
       "      <td>104.689213</td>\n",
       "    </tr>\n",
       "  </tbody>\n",
       "</table>\n",
       "<p>61 rows × 2 columns</p>\n",
       "</div>"
      ],
      "text/plain": [
       "     sold_price  predicted_price\n",
       "0            90       102.771162\n",
       "4            39       122.110249\n",
       "15            5        51.420425\n",
       "17           65        53.292713\n",
       "18           35        94.235553\n",
       "..          ...              ...\n",
       "275         300       112.709449\n",
       "277          30       120.322980\n",
       "284          90        96.959071\n",
       "287         115        89.456302\n",
       "295         200       104.689213\n",
       "\n",
       "[61 rows x 2 columns]"
      ]
     },
     "execution_count": 17,
     "metadata": {},
     "output_type": "execute_result"
    }
   ],
   "source": [
    "predicted_df"
   ]
  },
  {
   "cell_type": "markdown",
   "metadata": {},
   "source": [
    "### \"Outdated\" models"
   ]
  },
  {
   "cell_type": "code",
   "execution_count": null,
   "metadata": {},
   "outputs": [],
   "source": [
    "import numpy as np\n",
    "from xgboost import XGBRegressor\n",
    "\n",
    "# Convert the embeddings column into a numpy array of separate columns\n",
    "X_train_array = np.vstack(X_train['designers_title_embedding'].to_numpy())\n",
    "X_test_array = np.vstack(X_test['designers_title_embedding'].to_numpy())\n",
    "\n",
    "# Now train the model with the reshaped data\n",
    "xgb_regressor = XGBRegressor()\n",
    "xgb_regressor.fit(X_train_array, y_train)"
   ]
  },
  {
   "cell_type": "code",
   "execution_count": null,
   "metadata": {},
   "outputs": [],
   "source": [
    "from sklearn.neighbors import KNeighborsRegressor\n",
    "knn_reg = KNeighborsRegressor(n_neighbors=5)\n",
    "knn_reg.fit(X_train_array, y_train)"
   ]
  },
  {
   "cell_type": "markdown",
   "metadata": {},
   "source": [
    "## Evaluate model"
   ]
  },
  {
   "cell_type": "code",
   "execution_count": 17,
   "metadata": {},
   "outputs": [],
   "source": [
    "# TODO: Plot performance, consider saving the plots as images"
   ]
  },
  {
   "cell_type": "code",
   "execution_count": 18,
   "metadata": {},
   "outputs": [
    {
     "name": "stderr",
     "output_type": "stream",
     "text": [
      "RuntimeWarning: Mean of empty slice.\n",
      "RuntimeWarning: invalid value encountered in scalar divide\n"
     ]
    },
    {
     "data": {
      "image/png": "[encoded data removed]",
      "text/plain": [
       "<Figure size 1000x600 with 1 Axes>"
      ]
     },
     "metadata": {},
     "output_type": "display_data"
    }
   ],
   "source": [
    "# TODO: Why is feature importance exactly 0 for unprocessed categorical features?\n",
    "def plot_grouped_feature_importance(model, X_test_processed, original_feature_names=features, embedding_prefix='embedding_'):\n",
    "    # Get feature importance scores\n",
    "    feature_importance = model.get_feature_importance()\n",
    "    feature_names = X_test_processed.columns\n",
    "    \n",
    "    # Create a dictionary to store grouped importance scores\n",
    "    grouped_importance = {}\n",
    "    \n",
    "    # Group embedding features\n",
    "    embedding_importance = np.mean([\n",
    "        imp for name, imp in zip(feature_names, feature_importance)\n",
    "        if name.startswith(embedding_prefix)\n",
    "    ])\n",
    "    grouped_importance['embeddings'] = embedding_importance\n",
    "    \n",
    "    # Group categorical features\n",
    "    for feature in original_feature_names:\n",
    "        feature_cols = [\n",
    "            (name, imp) for name, imp in zip(feature_names, feature_importance)\n",
    "            if name.startswith(feature)\n",
    "        ]\n",
    "        if feature_cols:  # If we found any columns for this feature\n",
    "            grouped_importance[feature] = np.mean([imp for _, imp in feature_cols])\n",
    "    \n",
    "    # Create the plot\n",
    "    fig, ax = plt.figure(figsize=(10, 6)), plt.axes()\n",
    "    \n",
    "    # Sort by importance\n",
    "    sorted_importance = dict(sorted(grouped_importance.items(), key=lambda x: x[1]))\n",
    "    \n",
    "    # Plot horizontal bar chart\n",
    "    y_pos = np.arange(len(sorted_importance))\n",
    "    ax.barh(y_pos, list(sorted_importance.values()))\n",
    "    ax.set_yticks(y_pos)\n",
    "    ax.set_yticklabels(list(sorted_importance.keys()))\n",
    "    \n",
    "    plt.title('Grouped Feature Importance')\n",
    "    plt.xlabel('Mean Importance Score')\n",
    "    \n",
    "    # Add value labels on the bars\n",
    "    for i, v in enumerate(sorted_importance.values()):\n",
    "        ax.text(v, i, f'{v:.3f}', va='center')\n",
    "    \n",
    "    plt.tight_layout()\n",
    "    return plt\n",
    "\n",
    "# Usage:\n",
    "plot_grouped_feature_importance(model, X_test_processed)\n",
    "plt.show()"
   ]
  },
  {
   "cell_type": "markdown",
   "metadata": {},
   "source": [
    "## Model registry"
   ]
  },
  {
   "cell_type": "code",
   "execution_count": 23,
   "metadata": {},
   "outputs": [],
   "source": [
    "# Creating a directory for the model artifacts if it doesn't exist\n",
    "model_dir = \"price_predictor_model\"\n",
    "if not os.path.exists(model_dir):\n",
    "    os.mkdir(model_dir)"
   ]
  },
  {
   "cell_type": "code",
   "execution_count": 24,
   "metadata": {},
   "outputs": [],
   "source": [
    "# Save the model locally\n",
    "model.save_model(os.path.join(model_dir, \"catboost_model\"))"
   ]
  },
  {
   "cell_type": "code",
   "execution_count": 25,
   "metadata": {},
   "outputs": [],
   "source": [
    "# TODO: Save the model to model registry"
   ]
  },
  {
   "cell_type": "code",
   "execution_count": null,
   "metadata": {},
   "outputs": [],
   "source": []
  }
 ],
 "metadata": {
  "kernelspec": {
   "display_name": "Python 3 (ipykernel)",
   "language": "python",
   "name": "python3"
  },
  "language_info": {
   "codemirror_mode": {
    "name": "ipython",
    "version": 3
   },
   "file_extension": ".py",
   "mimetype": "text/x-python",
   "name": "python",
   "nbconvert_exporter": "python",
   "pygments_lexer": "ipython3",
   "version": "3.11.9"
  }
 },
 "nbformat": 4,
 "nbformat_minor": 4
}
