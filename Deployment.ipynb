{
 "cells": [
  {
   "cell_type": "code",
   "execution_count": 15,
   "id": "43541d60-ad3c-4659-9936-f96e5a4d59c8",
   "metadata": {},
   "outputs": [
    {
     "name": "stdout",
     "output_type": "stream",
     "text": [
      "2025-01-07 15:17:22,313 INFO: Closing external client and cleaning up certificates.\n",
      "Connection closed.\n",
      "2025-01-07 15:17:22,320 INFO: Initializing external client\n",
      "2025-01-07 15:17:22,321 INFO: Base URL: https://c.app.hopsworks.ai:443\n",
      "2025-01-07 15:17:23,833 INFO: Python Engine initialized.\n",
      "\n",
      "Logged in to project, explore it here https://c.app.hopsworks.ai:443/p/1159324\n"
     ]
    }
   ],
   "source": [
    "import hopsworks\n",
    "\n",
    "project = hopsworks.login()"
   ]
  },
  {
   "cell_type": "code",
   "execution_count": 16,
   "id": "d55cf3d6-764c-4558-a93f-fc83f61e3252",
   "metadata": {},
   "outputs": [],
   "source": [
    "# get Hopsworks Model Registry handle\n",
    "mr = project.get_model_registry()\n",
    "\n",
    "# get Hopsworks Model Serving handle\n",
    "ms = project.get_model_serving()"
   ]
  },
  {
   "cell_type": "markdown",
   "id": "6b764ad9-e295-40ff-8310-0ffc9631adf4",
   "metadata": {},
   "source": [
    "## Upload feature engineering script"
   ]
  },
  {
   "cell_type": "code",
   "execution_count": 17,
   "id": "18198d32-11cd-489d-9b68-a2939fd2322f",
   "metadata": {},
   "outputs": [
    {
     "data": {
      "application/vnd.jupyter.widget-view+json": {
       "model_id": "e6b27fc324814d6ca06bc8660a948867",
       "version_major": 2,
       "version_minor": 0
      },
      "text/plain": [
       "Uploading: 0.000%|          | 0/5948 elapsed<00:00 remaining<?"
      ]
     },
     "metadata": {},
     "output_type": "display_data"
    }
   ],
   "source": [
    "dataset_api = project.get_dataset_api()\n",
    "uploaded_file_path = dataset_api.upload(\"utils/feature_engineering.py\", \"Resources\", overwrite=True)"
   ]
  },
  {
   "cell_type": "markdown",
   "id": "8dc24771-9c2f-43c6-88f4-45fcd765750a",
   "metadata": {},
   "source": [
    "## Create Predict class"
   ]
  },
  {
   "cell_type": "code",
   "execution_count": 25,
   "id": "ae93c29d-a7f2-4957-89e3-ba6fd7998b7d",
   "metadata": {},
   "outputs": [
    {
     "name": "stdout",
     "output_type": "stream",
     "text": [
      "Overwriting my_predictor.py\n"
     ]
    }
   ],
   "source": [
    "%%writefile my_predictor.py\n",
    "import os\n",
    "import hopsworks\n",
    "from catboost import CatBoostRegressor\n",
    "\n",
    "class Predict:\n",
    "    def __init__(self):\n",
    "        \"\"\" Initialization code goes here:\n",
    "            - Download the model artifact\n",
    "            - Load the model\n",
    "        \"\"\"\n",
    "        project = hopsworks.login()\n",
    "        mr = project.get_model_registry()\n",
    "        \n",
    "        dataset_api = project.get_dataset_api()\n",
    "        \n",
    "        # Download model\n",
    "        my_model = mr.get_best_model(\"grailed_prediction_catboost_model\", \"RMSLE\", 'max')\n",
    "        model_dir = my_model.download()\n",
    "        \n",
    "        # Download feature engineering file\n",
    "        current_dir = os.getcwd()\n",
    "        feature_engineering_file = dataset_api.download(\n",
    "            \"Resources/feature_engineering.py\", overwrite=True\n",
    "        )\n",
    "        # Load the feature engineering file into the current path\n",
    "        import sys\n",
    "        sys.path.append(current_dir)\n",
    "        \n",
    "        # Load the feature engineering file\n",
    "        from feature_engineering import engineering_all_features\n",
    "        self.engineering_all_features = engineering_all_features\n",
    "        # Print the feature engineering parameters\n",
    "        print(self.engineering_all_features)\n",
    "        \n",
    "        # Load the saved model\n",
    "        self.model = CatBoostRegressor()\n",
    "        self.model.load_model(f\"{model_dir}/model.json\")\n",
    "        \n",
    "        # Define the embedding features (same as in training)\n",
    "        self.embedding_features = ['designer_names', 'hashtags', 'description', 'title']\n",
    "        \n",
    "    def predict(self, inputs):\n",
    "        \"\"\" Serve predictions using the trained model\"\"\"\n",
    "        \"\"\"\n",
    "        Expects inputs as a dictionary with the same features used in training:\n",
    "        - designer_names (list of strings, in original API it's just a string)\n",
    "        - category_path (string)\n",
    "        - color (string)\n",
    "        - condition (string)\n",
    "        - followerno (int)\n",
    "        - hashtags (list of strings)\n",
    "        - description (string)\n",
    "        - title (string)\n",
    "        \"\"\"\n",
    "        labels = [\"designer_names\", \"category_path\", \"color\", \"condition\", \"followerno\", \"hashtags\", \"description\", \"title\", \"size\"]\n",
    "        transformed_features = self.engineering_all_features([inputs], labels) \n",
    "        polars_df = transformed_features[0]\n",
    "        pandas_df = polars_df.to_pandas()\n",
    "        print(f\"{pandas_df}=\")\n",
    "\n",
    "        # Drop size column\n",
    "        pandas_df = pandas_df.drop(columns=[\"size\"])\n",
    "\n",
    "        # Make prediction\n",
    "        prediction = self.model.predict(pandas_df)\n",
    "        \n",
    "        return float(prediction[0])  # Return single prediction value"
   ]
  },
  {
   "cell_type": "markdown",
   "id": "1b0543fd-9630-4979-903c-121227365c42",
   "metadata": {},
   "source": [
    "### Test it"
   ]
  },
  {
   "cell_type": "code",
   "execution_count": 5,
   "id": "c7535c2c-66ee-4c17-9558-39145d3943a6",
   "metadata": {},
   "outputs": [],
   "source": [
    "from utils.feature_engineering import get_latest_listed_products, transform_features\n",
    "product = get_latest_listed_products(no_of_hits=1)[0]"
   ]
  },
  {
   "cell_type": "code",
   "execution_count": 6,
   "id": "4de1a9a2-fd8a-4b70-b8b5-f0842a12d02e",
   "metadata": {},
   "outputs": [
    {
     "ename": "NameError",
     "evalue": "name 'Predict' is not defined",
     "output_type": "error",
     "traceback": [
      "\u001b[0;31m---------------------------------------------------------------------------\u001b[0m",
      "\u001b[0;31mNameError\u001b[0m                                 Traceback (most recent call last)",
      "Cell \u001b[0;32mIn[6], line 1\u001b[0m\n\u001b[0;32m----> 1\u001b[0m predictor \u001b[38;5;241m=\u001b[39m \u001b[43mPredict\u001b[49m()\n",
      "\u001b[0;31mNameError\u001b[0m: name 'Predict' is not defined"
     ]
    }
   ],
   "source": [
    "predictor = Predict()"
   ]
  },
  {
   "cell_type": "code",
   "execution_count": null,
   "id": "fde97e41-bf9a-41c1-a4bd-11f0aef72fb0",
   "metadata": {},
   "outputs": [],
   "source": [
    "predictor.predict(product), product['price']"
   ]
  },
  {
   "cell_type": "markdown",
   "id": "556a63d9-f52a-4fd0-bb35-8d9d75cd64be",
   "metadata": {},
   "source": [
    "## (Doesn't work ATM) Deploy the predictor "
   ]
  },
  {
   "cell_type": "code",
   "execution_count": 26,
   "id": "9b62c6d3",
   "metadata": {},
   "outputs": [],
   "source": [
    "import os"
   ]
  },
  {
   "cell_type": "markdown",
   "id": "d2cf956d-ecc4-4992-ada7-c23a2ff19b0c",
   "metadata": {},
   "source": [
    "### Upload it"
   ]
  },
  {
   "cell_type": "code",
   "execution_count": 27,
   "id": "8d0d5a0e-5f2a-4fc4-9263-63e5f9fe6b58",
   "metadata": {},
   "outputs": [
    {
     "data": {
      "application/vnd.jupyter.widget-view+json": {
       "model_id": "6386a1890c0d4e15a7633514795b8927",
       "version_major": 2,
       "version_minor": 0
      },
      "text/plain": [
       "Uploading: 0.000%|          | 0/2488 elapsed<00:00 remaining<?"
      ]
     },
     "metadata": {},
     "output_type": "display_data"
    }
   ],
   "source": [
    "uploaded_file_path = dataset_api.upload(\"my_predictor.py\", \"Resources\", overwrite=True)\n",
    "predictor_script_path = os.path.join(\"/Projects\", project.name, uploaded_file_path)"
   ]
  },
  {
   "cell_type": "markdown",
   "id": "7acb8bc7-0b57-4229-9640-cf62695b689c",
   "metadata": {},
   "source": [
    "### Deployment"
   ]
  },
  {
   "cell_type": "code",
   "execution_count": 28,
   "id": "34bc2bba-73e8-476d-88b1-824fec8fe1a8",
   "metadata": {},
   "outputs": [
    {
     "data": {
      "text/plain": [
       "Model(name: 'grailed_prediction_catboost_model', version: 2)"
      ]
     },
     "execution_count": 28,
     "metadata": {},
     "output_type": "execute_result"
    }
   ],
   "source": [
    "my_model = mr.get_best_model(\"grailed_prediction_catboost_model\", \"RMSLE\", 'max')\n",
    "my_model"
   ]
  },
  {
   "cell_type": "code",
   "execution_count": 29,
   "id": "14aa91b7-fb2b-48ab-a9f9-cb71bda379a1",
   "metadata": {},
   "outputs": [],
   "source": [
    "my_predictor = ms.create_predictor(my_model,\n",
    "   # optional\n",
    "   # model_server=\"PYTHON\",\n",
    "   serving_tool=\"KSERVE\",\n",
    "   script_file=predictor_script_path\n",
    ")"
   ]
  },
  {
   "cell_type": "markdown",
   "id": "dcd169c5-ae22-411d-bdb6-6ec6198bf6e2",
   "metadata": {},
   "source": [
    "## Create an entire deployment"
   ]
  },
  {
   "cell_type": "code",
   "execution_count": null,
   "id": "11526c32-1981-4e2f-8981-637590c456ad",
   "metadata": {},
   "outputs": [],
   "source": [
    "my_deployment = ms.create_deployment(my_predictor, name=\"grailed05\")\n",
    "my_deployment.save()"
   ]
  },
  {
   "cell_type": "code",
   "execution_count": null,
   "id": "e7dad5e1-914a-4787-b990-0ea5ab8741ed",
   "metadata": {},
   "outputs": [],
   "source": [
    "my_deployment.get_state()"
   ]
  },
  {
   "cell_type": "code",
   "execution_count": 34,
   "id": "5ac2a07c-edea-47c0-a5da-092a908299b8",
   "metadata": {},
   "outputs": [],
   "source": [
    "deps = ms.get_deployments()"
   ]
  },
  {
   "cell_type": "code",
   "execution_count": 37,
   "id": "54b3cfbc-d178-4351-ad87-71772cec071f",
   "metadata": {},
   "outputs": [
    {
     "data": {
      "application/vnd.jupyter.widget-view+json": {
       "model_id": "5fc173b87dfa4d1db3f09d223f51a8ef",
       "version_major": 2,
       "version_minor": 0
      },
      "text/plain": [
       "  0%|          | 0/2 [00:00<?, ?it/s]"
      ]
     },
     "metadata": {},
     "output_type": "display_data"
    },
    {
     "ename": "RestAPIError",
     "evalue": "Metadata operation error: (url: https://c.app.hopsworks.ai/hopsworks-api/api/project/1159324/serving/353360). Server response: \nHTTP code: 400, HTTP reason: Bad Request, body: b'{\"errorCode\":240003,\"usrMsg\":\"Deployment is starting. Please, try again later\",\"errorMsg\":\"Serving instance could not be started/stopped\"}', error code: 240003, error msg: Serving instance could not be started/stopped, user msg: Deployment is starting. Please, try again later",
     "output_type": "error",
     "traceback": [
      "\u001b[0;31m---------------------------------------------------------------------------\u001b[0m",
      "\u001b[0;31mRestAPIError\u001b[0m                              Traceback (most recent call last)",
      "Cell \u001b[0;32mIn[37], line 1\u001b[0m\n\u001b[0;32m----> 1\u001b[0m \u001b[43mdeps\u001b[49m\u001b[43m[\u001b[49m\u001b[38;5;241;43m1\u001b[39;49m\u001b[43m]\u001b[49m\u001b[38;5;241;43m.\u001b[39;49m\u001b[43mstop\u001b[49m\u001b[43m(\u001b[49m\u001b[43m)\u001b[49m\n",
      "File \u001b[0;32m~/py-env/grailed/lib/python3.11/site-packages/hopsworks_common/usage.py:246\u001b[0m, in \u001b[0;36mmethod_logger.<locals>.wrapper\u001b[0;34m(*args, **kwargs)\u001b[0m\n\u001b[1;32m    244\u001b[0m \u001b[38;5;28;01mexcept\u001b[39;00m \u001b[38;5;167;01mException\u001b[39;00m \u001b[38;5;28;01mas\u001b[39;00m e:\n\u001b[1;32m    245\u001b[0m     exception \u001b[38;5;241m=\u001b[39m e\n\u001b[0;32m--> 246\u001b[0m     \u001b[38;5;28;01mraise\u001b[39;00m e\n\u001b[1;32m    247\u001b[0m \u001b[38;5;28;01mfinally\u001b[39;00m:\n\u001b[1;32m    248\u001b[0m     \u001b[38;5;28;01mtry\u001b[39;00m:\n",
      "File \u001b[0;32m~/py-env/grailed/lib/python3.11/site-packages/hopsworks_common/usage.py:242\u001b[0m, in \u001b[0;36mmethod_logger.<locals>.wrapper\u001b[0;34m(*args, **kwargs)\u001b[0m\n\u001b[1;32m    239\u001b[0m exception \u001b[38;5;241m=\u001b[39m \u001b[38;5;28;01mNone\u001b[39;00m\n\u001b[1;32m    240\u001b[0m \u001b[38;5;28;01mtry\u001b[39;00m:\n\u001b[1;32m    241\u001b[0m     \u001b[38;5;66;03m# Call the original method\u001b[39;00m\n\u001b[0;32m--> 242\u001b[0m     result \u001b[38;5;241m=\u001b[39m \u001b[43mfunc\u001b[49m\u001b[43m(\u001b[49m\u001b[38;5;241;43m*\u001b[39;49m\u001b[43margs\u001b[49m\u001b[43m,\u001b[49m\u001b[43m \u001b[49m\u001b[38;5;241;43m*\u001b[39;49m\u001b[38;5;241;43m*\u001b[39;49m\u001b[43mkwargs\u001b[49m\u001b[43m)\u001b[49m\n\u001b[1;32m    243\u001b[0m     \u001b[38;5;28;01mreturn\u001b[39;00m result\n\u001b[1;32m    244\u001b[0m \u001b[38;5;28;01mexcept\u001b[39;00m \u001b[38;5;167;01mException\u001b[39;00m \u001b[38;5;28;01mas\u001b[39;00m e:\n",
      "File \u001b[0;32m~/py-env/grailed/lib/python3.11/site-packages/hsml/deployment.py:103\u001b[0m, in \u001b[0;36mDeployment.stop\u001b[0;34m(self, await_stopped)\u001b[0m\n\u001b[1;32m     93\u001b[0m \u001b[38;5;129m@usage\u001b[39m\u001b[38;5;241m.\u001b[39mmethod_logger\n\u001b[1;32m     94\u001b[0m \u001b[38;5;28;01mdef\u001b[39;00m\u001b[38;5;250m \u001b[39m\u001b[38;5;21mstop\u001b[39m(\u001b[38;5;28mself\u001b[39m, await_stopped: Optional[\u001b[38;5;28mint\u001b[39m] \u001b[38;5;241m=\u001b[39m \u001b[38;5;241m120\u001b[39m):\n\u001b[1;32m     95\u001b[0m \u001b[38;5;250m    \u001b[39m\u001b[38;5;124;03m\"\"\"Stop the deployment\u001b[39;00m\n\u001b[1;32m     96\u001b[0m \n\u001b[1;32m     97\u001b[0m \u001b[38;5;124;03m    # Arguments\u001b[39;00m\n\u001b[0;32m   (...)\u001b[0m\n\u001b[1;32m    100\u001b[0m \u001b[38;5;124;03m                       it stopping in the background.\u001b[39;00m\n\u001b[1;32m    101\u001b[0m \u001b[38;5;124;03m    \"\"\"\u001b[39;00m\n\u001b[0;32m--> 103\u001b[0m     \u001b[38;5;28;43mself\u001b[39;49m\u001b[38;5;241;43m.\u001b[39;49m\u001b[43m_serving_engine\u001b[49m\u001b[38;5;241;43m.\u001b[39;49m\u001b[43mstop\u001b[49m\u001b[43m(\u001b[49m\u001b[38;5;28;43mself\u001b[39;49m\u001b[43m,\u001b[49m\u001b[43m \u001b[49m\u001b[43mawait_status\u001b[49m\u001b[38;5;241;43m=\u001b[39;49m\u001b[43mawait_stopped\u001b[49m\u001b[43m)\u001b[49m\n",
      "File \u001b[0;32m~/py-env/grailed/lib/python3.11/site-packages/hsml/engine/serving_engine.py:176\u001b[0m, in \u001b[0;36mServingEngine.stop\u001b[0;34m(self, deployment_instance, await_status)\u001b[0m\n\u001b[1;32m    173\u001b[0m             pbar\u001b[38;5;241m.\u001b[39mset_description(desc)\n\u001b[1;32m    175\u001b[0m     update_progress(state, num_instances)\n\u001b[0;32m--> 176\u001b[0m     \u001b[38;5;28;43mself\u001b[39;49m\u001b[38;5;241;43m.\u001b[39;49m\u001b[43m_serving_api\u001b[49m\u001b[38;5;241;43m.\u001b[39;49m\u001b[43mpost\u001b[49m\u001b[43m(\u001b[49m\n\u001b[1;32m    177\u001b[0m \u001b[43m        \u001b[49m\u001b[43mdeployment_instance\u001b[49m\u001b[43m,\u001b[49m\u001b[43m \u001b[49m\u001b[43mDEPLOYMENT\u001b[49m\u001b[38;5;241;43m.\u001b[39;49m\u001b[43mACTION_STOP\u001b[49m\n\u001b[1;32m    178\u001b[0m \u001b[43m    \u001b[49m\u001b[43m)\u001b[49m  \u001b[38;5;66;03m# stop deployment\u001b[39;00m\n\u001b[1;32m    180\u001b[0m     _ \u001b[38;5;241m=\u001b[39m \u001b[38;5;28mself\u001b[39m\u001b[38;5;241m.\u001b[39m_poll_deployment_status(  \u001b[38;5;66;03m# wait for status\u001b[39;00m\n\u001b[1;32m    181\u001b[0m         deployment_instance,\n\u001b[1;32m    182\u001b[0m         PREDICTOR_STATE\u001b[38;5;241m.\u001b[39mSTATUS_STOPPED,\n\u001b[1;32m    183\u001b[0m         await_status,\n\u001b[1;32m    184\u001b[0m         update_progress,\n\u001b[1;32m    185\u001b[0m     )\n\u001b[1;32m    187\u001b[0m \u001b[38;5;66;03m# free grpc channel\u001b[39;00m\n",
      "File \u001b[0;32m~/py-env/grailed/lib/python3.11/site-packages/hsml/core/serving_api.py:157\u001b[0m, in \u001b[0;36mServingApi.post\u001b[0;34m(self, deployment_instance, action)\u001b[0m\n\u001b[1;32m    150\u001b[0m path_params \u001b[38;5;241m=\u001b[39m [\n\u001b[1;32m    151\u001b[0m     \u001b[38;5;124m\"\u001b[39m\u001b[38;5;124mproject\u001b[39m\u001b[38;5;124m\"\u001b[39m,\n\u001b[1;32m    152\u001b[0m     _client\u001b[38;5;241m.\u001b[39m_project_id,\n\u001b[1;32m    153\u001b[0m     \u001b[38;5;124m\"\u001b[39m\u001b[38;5;124mserving\u001b[39m\u001b[38;5;124m\"\u001b[39m,\n\u001b[1;32m    154\u001b[0m     deployment_instance\u001b[38;5;241m.\u001b[39mid,\n\u001b[1;32m    155\u001b[0m ]\n\u001b[1;32m    156\u001b[0m query_params \u001b[38;5;241m=\u001b[39m {\u001b[38;5;124m\"\u001b[39m\u001b[38;5;124maction\u001b[39m\u001b[38;5;124m\"\u001b[39m: action}\n\u001b[0;32m--> 157\u001b[0m \u001b[38;5;28;01mreturn\u001b[39;00m \u001b[43m_client\u001b[49m\u001b[38;5;241;43m.\u001b[39;49m\u001b[43m_send_request\u001b[49m\u001b[43m(\u001b[49m\u001b[38;5;124;43m\"\u001b[39;49m\u001b[38;5;124;43mPOST\u001b[39;49m\u001b[38;5;124;43m\"\u001b[39;49m\u001b[43m,\u001b[49m\u001b[43m \u001b[49m\u001b[43mpath_params\u001b[49m\u001b[43m,\u001b[49m\u001b[43m \u001b[49m\u001b[43mquery_params\u001b[49m\u001b[38;5;241;43m=\u001b[39;49m\u001b[43mquery_params\u001b[49m\u001b[43m)\u001b[49m\n",
      "File \u001b[0;32m~/py-env/grailed/lib/python3.11/site-packages/hopsworks_common/decorators.py:45\u001b[0m, in \u001b[0;36mconnected.<locals>.if_connected\u001b[0;34m(inst, *args, **kwargs)\u001b[0m\n\u001b[1;32m     43\u001b[0m \u001b[38;5;28;01mif\u001b[39;00m \u001b[38;5;129;01mnot\u001b[39;00m inst\u001b[38;5;241m.\u001b[39m_connected:\n\u001b[1;32m     44\u001b[0m     \u001b[38;5;28;01mraise\u001b[39;00m NoHopsworksConnectionError\n\u001b[0;32m---> 45\u001b[0m \u001b[38;5;28;01mreturn\u001b[39;00m \u001b[43mfn\u001b[49m\u001b[43m(\u001b[49m\u001b[43minst\u001b[49m\u001b[43m,\u001b[49m\u001b[43m \u001b[49m\u001b[38;5;241;43m*\u001b[39;49m\u001b[43margs\u001b[49m\u001b[43m,\u001b[49m\u001b[43m \u001b[49m\u001b[38;5;241;43m*\u001b[39;49m\u001b[38;5;241;43m*\u001b[39;49m\u001b[43mkwargs\u001b[49m\u001b[43m)\u001b[49m\n",
      "File \u001b[0;32m~/py-env/grailed/lib/python3.11/site-packages/hopsworks_common/client/base.py:186\u001b[0m, in \u001b[0;36mClient._send_request\u001b[0;34m(self, method, path_params, query_params, headers, data, stream, files, with_base_path_params)\u001b[0m\n\u001b[1;32m    181\u001b[0m     response \u001b[38;5;241m=\u001b[39m \u001b[38;5;28mself\u001b[39m\u001b[38;5;241m.\u001b[39m_retry_token_expired(\n\u001b[1;32m    182\u001b[0m         request, stream, \u001b[38;5;28mself\u001b[39m\u001b[38;5;241m.\u001b[39mTOKEN_EXPIRED_RETRY_INTERVAL, \u001b[38;5;241m1\u001b[39m\n\u001b[1;32m    183\u001b[0m     )\n\u001b[1;32m    185\u001b[0m \u001b[38;5;28;01mif\u001b[39;00m response\u001b[38;5;241m.\u001b[39mstatus_code \u001b[38;5;241m/\u001b[39m\u001b[38;5;241m/\u001b[39m \u001b[38;5;241m100\u001b[39m \u001b[38;5;241m!=\u001b[39m \u001b[38;5;241m2\u001b[39m:\n\u001b[0;32m--> 186\u001b[0m     \u001b[38;5;28;01mraise\u001b[39;00m exceptions\u001b[38;5;241m.\u001b[39mRestAPIError(url, response)\n\u001b[1;32m    188\u001b[0m \u001b[38;5;28;01mif\u001b[39;00m stream:\n\u001b[1;32m    189\u001b[0m     \u001b[38;5;28;01mreturn\u001b[39;00m response\n",
      "\u001b[0;31mRestAPIError\u001b[0m: Metadata operation error: (url: https://c.app.hopsworks.ai/hopsworks-api/api/project/1159324/serving/353360). Server response: \nHTTP code: 400, HTTP reason: Bad Request, body: b'{\"errorCode\":240003,\"usrMsg\":\"Deployment is starting. Please, try again later\",\"errorMsg\":\"Serving instance could not be started/stopped\"}', error code: 240003, error msg: Serving instance could not be started/stopped, user msg: Deployment is starting. Please, try again later"
     ]
    }
   ],
   "source": [
    "deps[1].stop()"
   ]
  },
  {
   "cell_type": "code",
   "execution_count": null,
   "id": "ae24a278-5060-4332-a132-110047083957",
   "metadata": {},
   "outputs": [],
   "source": []
  }
 ],
 "metadata": {
  "kernelspec": {
   "display_name": "Python 3 (ipykernel)",
   "language": "python",
   "name": "python3"
  },
  "language_info": {
   "codemirror_mode": {
    "name": "ipython",
    "version": 3
   },
   "file_extension": ".py",
   "mimetype": "text/x-python",
   "name": "python",
   "nbconvert_exporter": "python",
   "pygments_lexer": "ipython3",
   "version": "3.11.9"
  }
 },
 "nbformat": 4,
 "nbformat_minor": 5
}
