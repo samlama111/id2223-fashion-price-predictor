{
 "cells": [
  {
   "cell_type": "code",
   "execution_count": 1,
   "id": "2dd54b5f-73f0-41ef-a58f-00c543acbdb3",
   "metadata": {},
   "outputs": [],
   "source": [
    "import os\n",
    "import hopsworks\n",
    "import polars as pl"
   ]
  },
  {
   "cell_type": "code",
   "execution_count": 2,
   "id": "8a5d4bee-9601-4e64-9b64-6b705078cf32",
   "metadata": {},
   "outputs": [
    {
     "name": "stdout",
     "output_type": "stream",
     "text": [
      "2024-12-29 13:11:22,404 INFO: Initializing external client\n",
      "2024-12-29 13:11:22,405 INFO: Base URL: https://c.app.hopsworks.ai:443\n",
      "2024-12-29 13:11:24,181 INFO: Python Engine initialized.\n",
      "\n",
      "Logged in to project, explore it here https://c.app.hopsworks.ai:443/p/1159324\n"
     ]
    }
   ],
   "source": [
    "with open('data/hopsworks-api-key.txt', 'r') as file:\n",
    "    os.environ[\"HOPSWORKS_API_KEY\"] = file.read().rstrip()\n",
    "    \n",
    "project = hopsworks.login()"
   ]
  },
  {
   "cell_type": "markdown",
   "id": "6620f0cd-3897-463b-98df-0695de3b81b1",
   "metadata": {},
   "source": [
    "## Get data"
   ]
  },
  {
   "cell_type": "code",
   "execution_count": 3,
   "id": "aa708d68-099e-472d-998c-02602b523ca5",
   "metadata": {},
   "outputs": [],
   "source": [
    "from data_collection_preprocessing.load_data import pipeline"
   ]
  },
  {
   "cell_type": "code",
   "execution_count": 4,
   "id": "96ba6484-dd85-4744-9206-8d3c285e6b23",
   "metadata": {},
   "outputs": [
    {
     "name": "stdout",
     "output_type": "stream",
     "text": [
      "shape: (100, 9)\n",
      "┌──────────┬────────────┬────────────┬────────────┬───┬──────────┬───────┬────────────┬────────────┐\n",
      "│ id       ┆ sold_at    ┆ category_p ┆ condition  ┆ … ┆ size     ┆ color ┆ sold_price ┆ designers_ │\n",
      "│ ---      ┆ ---        ┆ ath        ┆ ---        ┆   ┆ ---      ┆ ---   ┆ ---        ┆ title      │\n",
      "│ i64      ┆ datetime[μ ┆ ---        ┆ str        ┆   ┆ str      ┆ str   ┆ i64        ┆ ---        │\n",
      "│          ┆ s]         ┆ str        ┆            ┆   ┆          ┆       ┆            ┆ str        │\n",
      "╞══════════╪════════════╪════════════╪════════════╪═══╪══════════╪═══════╪════════════╪════════════╡\n",
      "│ 68525863 ┆ 2024-12-29 ┆ bottoms.de ┆ is_gently_ ┆ … ┆ 28       ┆ blue  ┆ 230        ┆ Amiri:     │\n",
      "│          ┆ 10:27:50.5 ┆ nim        ┆ used       ┆   ┆          ┆       ┆            ┆ Amiri      │\n",
      "│          ┆ 96         ┆            ┆            ┆   ┆          ┆       ┆            ┆ jeans size │\n",
      "│          ┆            ┆            ┆            ┆   ┆          ┆       ┆            ┆ 28 MX1…    │\n",
      "│ 64932590 ┆ 2024-12-29 ┆ bottoms.de ┆ is_new     ┆ … ┆ 33       ┆ black ┆ 285        ┆ Dsquared2: │\n",
      "│          ┆ 10:27:39.4 ┆ nim        ┆            ┆   ┆          ┆       ┆            ┆ Coated     │\n",
      "│          ┆ 67         ┆            ┆            ┆   ┆          ┆       ┆            ┆ Cotton     │\n",
      "│          ┆            ┆            ┆            ┆   ┆          ┆       ┆            ┆ Cool …     │\n",
      "│ 72695107 ┆ 2024-12-29 ┆ tops.sweat ┆ is_gently_ ┆ … ┆ m        ┆ white ┆ 35         ┆ Coloured   │\n",
      "│          ┆ 10:26:06.9 ┆ ers_knitwe ┆ used       ┆   ┆          ┆       ┆            ┆ Cable Knit │\n",
      "│          ┆ 51         ┆ ar         ┆            ┆   ┆          ┆       ┆            ┆ Sweater    │\n",
      "│          ┆            ┆            ┆            ┆   ┆          ┆       ┆            ┆ La…        │\n",
      "│ 65749322 ┆ 2024-12-29 ┆ bottoms.de ┆ is_gently_ ┆ … ┆ 34       ┆ blue  ┆ 14         ┆ Enyce:     │\n",
      "│          ┆ 10:25:53.9 ┆ nim        ┆ used       ┆   ┆          ┆       ┆            ┆ Jorts      │\n",
      "│          ┆ 45         ┆            ┆            ┆   ┆          ┆       ┆            ┆            │\n",
      "│ 69780192 ┆ 2024-12-29 ┆ accessorie ┆ is_gently_ ┆ … ┆ one size ┆ white ┆ 22         ┆ Porsche    │\n",
      "│          ┆ 10:25:19.4 ┆ s.hats     ┆ used       ┆   ┆          ┆       ┆            ┆ Design     │\n",
      "│          ┆ 03         ┆            ┆            ┆   ┆          ┆       ┆            ┆ Racing     │\n",
      "│          ┆            ┆            ┆            ┆   ┆          ┆       ┆            ┆ Streetwe…  │\n",
      "│ …        ┆ …          ┆ …          ┆ …          ┆ … ┆ …        ┆ …     ┆ …          ┆ …          │\n",
      "│ 62291576 ┆ 2024-12-29 ┆ tops.short ┆ is_used    ┆ … ┆ xl       ┆ grey  ┆ 27         ┆ Nike       │\n",
      "│          ┆ 09:01:14.0 ┆ _sleeve_sh ┆            ┆   ┆          ┆       ┆            ┆ Streetwear │\n",
      "│          ┆ 75         ┆ irts       ┆            ┆   ┆          ┆       ┆            ┆ Vintage:   │\n",
      "│          ┆            ┆            ┆            ┆   ┆          ┆       ┆            ┆ Vinta…     │\n",
      "│ 72546621 ┆ 2024-12-29 ┆ accessorie ┆ is_used    ┆ … ┆ one size ┆ black ┆ 100        ┆ Vivienne   │\n",
      "│          ┆ 09:00:54.7 ┆ s.wallets  ┆            ┆   ┆          ┆       ┆            ┆ Westwood:  │\n",
      "│          ┆ 41         ┆            ┆            ┆   ┆          ┆       ┆            ┆ Orb Card   │\n",
      "│          ┆            ┆            ┆            ┆   ┆          ┆       ┆            ┆ Ho…        │\n",
      "│ 72520578 ┆ 2024-12-29 ┆ accessorie ┆ is_gently_ ┆ … ┆ one size ┆ white ┆ 50         ┆ Marlboro   │\n",
      "│          ┆ 08:59:07.6 ┆ s.jewelry_ ┆ used       ┆   ┆          ┆       ┆            ┆ Streetwear │\n",
      "│          ┆ 74         ┆ watches    ┆            ┆   ┆          ┆       ┆            ┆ Vintage:   │\n",
      "│          ┆            ┆            ┆            ┆   ┆          ┆       ┆            ┆ Y…         │\n",
      "│ 67157613 ┆ 2024-12-29 ┆ bottoms.de ┆ is_gently_ ┆ … ┆ 32       ┆ blue  ┆ 58         ┆ Oro Los    │\n",
      "│          ┆ 08:58:25.6 ┆ nim        ┆ used       ┆   ┆          ┆       ┆            ┆ Angeles:   │\n",
      "│          ┆ 21         ┆            ┆            ┆   ┆          ┆       ┆            ┆ ORO LOS    │\n",
      "│          ┆            ┆            ┆            ┆   ┆          ┆       ┆            ┆ ANGEL…     │\n",
      "│ 57105772 ┆ 2024-12-29 ┆ footwear.l ┆ is_gently_ ┆ … ┆ 10       ┆ blue  ┆ 56         ┆ Nike: Nike │\n",
      "│          ┆ 08:58:21.5 ┆ owtop_snea ┆ used       ┆   ┆          ┆       ┆            ┆ Michigan   │\n",
      "│          ┆ 69         ┆ kers       ┆            ┆   ┆          ┆       ┆            ┆ dunks      │\n",
      "└──────────┴────────────┴────────────┴────────────┴───┴──────────┴───────┴────────────┴────────────┘\n"
     ]
    }
   ],
   "source": [
    "df = pipeline(no_of_hits=100)"
   ]
  },
  {
   "cell_type": "markdown",
   "id": "331c9062-70aa-4658-ba16-da30eea12f10",
   "metadata": {},
   "source": [
    "## Feature processing"
   ]
  },
  {
   "cell_type": "code",
   "execution_count": 5,
   "id": "701df576-46d6-41be-87be-9f465a0a5a92",
   "metadata": {},
   "outputs": [],
   "source": [
    "from data_collection_preprocessing.embeddings import embed_text\n",
    "from data_collection_preprocessing.load_data import item_condition_to_ordinal"
   ]
  },
  {
   "cell_type": "code",
   "execution_count": 6,
   "id": "99488862-8b40-4d6b-a15f-6a7b2398a918",
   "metadata": {},
   "outputs": [],
   "source": [
    "# TODO: Represent categorical variables (we will most likely need a feature store for this, since we need to store the mappings)\n",
    "# For now let's only take into account designers_title\n",
    "# In future, account for category_path_size (as embeddings) and potentially separate embeddings for designers and title\n",
    "# and 'condition' using one-hot encoding or as an ordinal number\n",
    "\n",
    "# Represent designers_title as an embedding\n",
    "df = df.with_columns(\n",
    "    pl.col('designers_title')\n",
    "    .map_elements(embed_text, return_dtype=pl.List(pl.Float32))\n",
    "    .alias('designers_title_embedding')\n",
    ")\n",
    "\n",
    "# Represent condition as an ordinal number?"
   ]
  },
  {
   "cell_type": "code",
   "execution_count": 7,
   "id": "68431924",
   "metadata": {},
   "outputs": [],
   "source": [
    "# Convert condition to ordinal number\n",
    "df = df.with_columns(\n",
    "    pl.col('condition')\n",
    "    .map_elements(item_condition_to_ordinal, return_dtype=pl.UInt32)\n",
    "    .alias('condition_ordinal')\n",
    ")\n",
    "\n",
    "# Drop the old condition column\n",
    "df = df.drop(['condition'])"
   ]
  },
  {
   "cell_type": "code",
   "execution_count": 8,
   "id": "80d488b4-a714-4fcd-b91e-16d4966af211",
   "metadata": {},
   "outputs": [
    {
     "data": {
      "text/html": [
       "<div><style>\n",
       ".dataframe > thead > tr,\n",
       ".dataframe > tbody > tr {\n",
       "  text-align: right;\n",
       "  white-space: pre-wrap;\n",
       "}\n",
       "</style>\n",
       "<small>shape: (100, 10)</small><table border=\"1\" class=\"dataframe\"><thead><tr><th>id</th><th>sold_at</th><th>category_path</th><th>description</th><th>size</th><th>color</th><th>sold_price</th><th>designers_title</th><th>designers_title_embedding</th><th>condition_ordinal</th></tr><tr><td>i64</td><td>datetime[μs]</td><td>str</td><td>str</td><td>str</td><td>str</td><td>i64</td><td>str</td><td>list[f32]</td><td>u32</td></tr></thead><tbody><tr><td>68525863</td><td>2024-12-29 10:27:50.596</td><td>&quot;bottoms.denim&quot;</td><td>&quot;28\n",
       "Lightly worn\n",
       "Fast shipping\n",
       "…</td><td>&quot;28&quot;</td><td>&quot;blue&quot;</td><td>230</td><td>&quot;Amiri: Amiri jeans size 28 MX1…</td><td>[-0.024531, 0.025716, … -0.057847]</td><td>2</td></tr><tr><td>64932590</td><td>2024-12-29 10:27:39.467</td><td>&quot;bottoms.denim&quot;</td><td>&quot;- Brand: Dsquared2 \n",
       "- Size: 50…</td><td>&quot;33&quot;</td><td>&quot;black&quot;</td><td>285</td><td>&quot;Dsquared2: Coated Cotton Cool …</td><td>[-0.039874, 0.024087, … -0.08562]</td><td>3</td></tr><tr><td>72695107</td><td>2024-12-29 10:26:06.951</td><td>&quot;tops.sweaters_knitwear&quot;</td><td>&quot;Very good condition&quot;</td><td>&quot;m&quot;</td><td>&quot;white&quot;</td><td>35</td><td>&quot;Coloured Cable Knit Sweater La…</td><td>[-0.039036, 0.041019, … -0.050647]</td><td>2</td></tr><tr><td>65749322</td><td>2024-12-29 10:25:53.945</td><td>&quot;bottoms.denim&quot;</td><td>&quot;Bought from a consignment shop…</td><td>&quot;34&quot;</td><td>&quot;blue&quot;</td><td>14</td><td>&quot;Enyce: Jorts&quot;</td><td>[-0.050827, -0.022776, … 0.017482]</td><td>2</td></tr><tr><td>69780192</td><td>2024-12-29 10:25:19.403</td><td>&quot;accessories.hats&quot;</td><td>&quot;Good vintage condition. Slight…</td><td>&quot;one size&quot;</td><td>&quot;white&quot;</td><td>22</td><td>&quot;Porsche Design Racing Streetwe…</td><td>[-0.055865, -0.018139, … 0.006345]</td><td>2</td></tr><tr><td>&hellip;</td><td>&hellip;</td><td>&hellip;</td><td>&hellip;</td><td>&hellip;</td><td>&hellip;</td><td>&hellip;</td><td>&hellip;</td><td>&hellip;</td><td>&hellip;</td></tr><tr><td>62291576</td><td>2024-12-29 09:01:14.075</td><td>&quot;tops.short_sleeve_shirts&quot;</td><td>&quot;Hello!&nbsp;&nbsp;\n",
       "The condition of the …</td><td>&quot;xl&quot;</td><td>&quot;grey&quot;</td><td>27</td><td>&quot;Nike Streetwear Vintage: Vinta…</td><td>[-0.040814, 0.023022, … -0.039927]</td><td>1</td></tr><tr><td>72546621</td><td>2024-12-29 09:00:54.741</td><td>&quot;accessories.wallets&quot;</td><td>&quot;Older item\n",
       "Interior usage\n",
       "Corn…</td><td>&quot;one size&quot;</td><td>&quot;black&quot;</td><td>100</td><td>&quot;Vivienne Westwood: Orb Card Ho…</td><td>[0.002611, -0.017359, … -0.023223]</td><td>1</td></tr><tr><td>72520578</td><td>2024-12-29 08:59:07.674</td><td>&quot;accessories.jewelry_watches&quot;</td><td>&quot;Item: in good working order, s…</td><td>&quot;one size&quot;</td><td>&quot;white&quot;</td><td>50</td><td>&quot;Marlboro Streetwear Vintage: Y…</td><td>[-0.062457, -0.015853, … -0.054628]</td><td>2</td></tr><tr><td>67157613</td><td>2024-12-29 08:58:25.621</td><td>&quot;bottoms.denim&quot;</td><td>&quot;32x32\n",
       "Distressed denim is almo…</td><td>&quot;32&quot;</td><td>&quot;blue&quot;</td><td>58</td><td>&quot;Oro Los Angeles: ORO LOS ANGEL…</td><td>[0.026655, -0.000038, … -0.010498]</td><td>2</td></tr><tr><td>57105772</td><td>2024-12-29 08:58:21.569</td><td>&quot;footwear.lowtop_sneakers&quot;</td><td>&quot;Gently used Michigan dunks siz…</td><td>&quot;10&quot;</td><td>&quot;blue&quot;</td><td>56</td><td>&quot;Nike: Nike Michigan dunks&quot;</td><td>[-0.031953, -0.007851, … -0.005755]</td><td>2</td></tr></tbody></table></div>"
      ],
      "text/plain": [
       "shape: (100, 10)\n",
       "┌──────────┬───────────┬───────────┬───────────┬───┬───────────┬───────────┬───────────┬───────────┐\n",
       "│ id       ┆ sold_at   ┆ category_ ┆ descripti ┆ … ┆ sold_pric ┆ designers ┆ designers ┆ condition │\n",
       "│ ---      ┆ ---       ┆ path      ┆ on        ┆   ┆ e         ┆ _title    ┆ _title_em ┆ _ordinal  │\n",
       "│ i64      ┆ datetime[ ┆ ---       ┆ ---       ┆   ┆ ---       ┆ ---       ┆ bedding   ┆ ---       │\n",
       "│          ┆ μs]       ┆ str       ┆ str       ┆   ┆ i64       ┆ str       ┆ ---       ┆ u32       │\n",
       "│          ┆           ┆           ┆           ┆   ┆           ┆           ┆ list[f32] ┆           │\n",
       "╞══════════╪═══════════╪═══════════╪═══════════╪═══╪═══════════╪═══════════╪═══════════╪═══════════╡\n",
       "│ 68525863 ┆ 2024-12-2 ┆ bottoms.d ┆ 28        ┆ … ┆ 230       ┆ Amiri:    ┆ [-0.02453 ┆ 2         │\n",
       "│          ┆ 9 10:27:5 ┆ enim      ┆ Lightly   ┆   ┆           ┆ Amiri     ┆ 1,        ┆           │\n",
       "│          ┆ 0.596     ┆           ┆ worn      ┆   ┆           ┆ jeans     ┆ 0.025716, ┆           │\n",
       "│          ┆           ┆           ┆ Fast      ┆   ┆           ┆ size 28   ┆ … -0.057… ┆           │\n",
       "│          ┆           ┆           ┆ shipping  ┆   ┆           ┆ MX1…      ┆           ┆           │\n",
       "│          ┆           ┆           ┆ …         ┆   ┆           ┆           ┆           ┆           │\n",
       "│ 64932590 ┆ 2024-12-2 ┆ bottoms.d ┆ - Brand:  ┆ … ┆ 285       ┆ Dsquared2 ┆ [-0.03987 ┆ 3         │\n",
       "│          ┆ 9 10:27:3 ┆ enim      ┆ Dsquared2 ┆   ┆           ┆ : Coated  ┆ 4,        ┆           │\n",
       "│          ┆ 9.467     ┆           ┆ - Size:   ┆   ┆           ┆ Cotton    ┆ 0.024087, ┆           │\n",
       "│          ┆           ┆           ┆ 50…       ┆   ┆           ┆ Cool …    ┆ … -0.085… ┆           │\n",
       "│ 72695107 ┆ 2024-12-2 ┆ tops.swea ┆ Very good ┆ … ┆ 35        ┆ Coloured  ┆ [-0.03903 ┆ 2         │\n",
       "│          ┆ 9 10:26:0 ┆ ters_knit ┆ condition ┆   ┆           ┆ Cable     ┆ 6,        ┆           │\n",
       "│          ┆ 6.951     ┆ wear      ┆           ┆   ┆           ┆ Knit      ┆ 0.041019, ┆           │\n",
       "│          ┆           ┆           ┆           ┆   ┆           ┆ Sweater   ┆ … -0.050… ┆           │\n",
       "│          ┆           ┆           ┆           ┆   ┆           ┆ La…       ┆           ┆           │\n",
       "│ 65749322 ┆ 2024-12-2 ┆ bottoms.d ┆ Bought    ┆ … ┆ 14        ┆ Enyce:    ┆ [-0.05082 ┆ 2         │\n",
       "│          ┆ 9 10:25:5 ┆ enim      ┆ from a    ┆   ┆           ┆ Jorts     ┆ 7, -0.022 ┆           │\n",
       "│          ┆ 3.945     ┆           ┆ consignme ┆   ┆           ┆           ┆ 776, …    ┆           │\n",
       "│          ┆           ┆           ┆ nt shop…  ┆   ┆           ┆           ┆ 0.017…    ┆           │\n",
       "│ 69780192 ┆ 2024-12-2 ┆ accessori ┆ Good      ┆ … ┆ 22        ┆ Porsche   ┆ [-0.05586 ┆ 2         │\n",
       "│          ┆ 9 10:25:1 ┆ es.hats   ┆ vintage   ┆   ┆           ┆ Design    ┆ 5, -0.018 ┆           │\n",
       "│          ┆ 9.403     ┆           ┆ condition ┆   ┆           ┆ Racing    ┆ 139, …    ┆           │\n",
       "│          ┆           ┆           ┆ . Slight… ┆   ┆           ┆ Streetwe… ┆ 0.006…    ┆           │\n",
       "│ …        ┆ …         ┆ …         ┆ …         ┆ … ┆ …         ┆ …         ┆ …         ┆ …         │\n",
       "│ 62291576 ┆ 2024-12-2 ┆ tops.shor ┆ Hello!    ┆ … ┆ 27        ┆ Nike Stre ┆ [-0.04081 ┆ 1         │\n",
       "│          ┆ 9 09:01:1 ┆ t_sleeve_ ┆ The       ┆   ┆           ┆ etwear    ┆ 4,        ┆           │\n",
       "│          ┆ 4.075     ┆ shirts    ┆ condition ┆   ┆           ┆ Vintage:  ┆ 0.023022, ┆           │\n",
       "│          ┆           ┆           ┆ of the …  ┆   ┆           ┆ Vinta…    ┆ … -0.039… ┆           │\n",
       "│ 72546621 ┆ 2024-12-2 ┆ accessori ┆ Older     ┆ … ┆ 100       ┆ Vivienne  ┆ [0.002611 ┆ 1         │\n",
       "│          ┆ 9 09:00:5 ┆ es.wallet ┆ item      ┆   ┆           ┆ Westwood: ┆ , -0.0173 ┆           │\n",
       "│          ┆ 4.741     ┆ s         ┆ Interior  ┆   ┆           ┆ Orb Card  ┆ 59, …     ┆           │\n",
       "│          ┆           ┆           ┆ usage     ┆   ┆           ┆ Ho…       ┆ -0.023…   ┆           │\n",
       "│          ┆           ┆           ┆ Corn…     ┆   ┆           ┆           ┆           ┆           │\n",
       "│ 72520578 ┆ 2024-12-2 ┆ accessori ┆ Item: in  ┆ … ┆ 50        ┆ Marlboro  ┆ [-0.06245 ┆ 2         │\n",
       "│          ┆ 9 08:59:0 ┆ es.jewelr ┆ good      ┆   ┆           ┆ Streetwea ┆ 7, -0.015 ┆           │\n",
       "│          ┆ 7.674     ┆ y_watches ┆ working   ┆   ┆           ┆ r         ┆ 853, …    ┆           │\n",
       "│          ┆           ┆           ┆ order, s… ┆   ┆           ┆ Vintage:  ┆ -0.05…    ┆           │\n",
       "│          ┆           ┆           ┆           ┆   ┆           ┆ Y…        ┆           ┆           │\n",
       "│ 67157613 ┆ 2024-12-2 ┆ bottoms.d ┆ 32x32     ┆ … ┆ 58        ┆ Oro Los   ┆ [0.026655 ┆ 2         │\n",
       "│          ┆ 9 08:58:2 ┆ enim      ┆ Distresse ┆   ┆           ┆ Angeles:  ┆ , -0.0000 ┆           │\n",
       "│          ┆ 5.621     ┆           ┆ d denim   ┆   ┆           ┆ ORO LOS   ┆ 38, …     ┆           │\n",
       "│          ┆           ┆           ┆ is almo…  ┆   ┆           ┆ ANGEL…    ┆ -0.010…   ┆           │\n",
       "│ 57105772 ┆ 2024-12-2 ┆ footwear. ┆ Gently    ┆ … ┆ 56        ┆ Nike:     ┆ [-0.03195 ┆ 2         │\n",
       "│          ┆ 9 08:58:2 ┆ lowtop_sn ┆ used      ┆   ┆           ┆ Nike      ┆ 3, -0.007 ┆           │\n",
       "│          ┆ 1.569     ┆ eakers    ┆ Michigan  ┆   ┆           ┆ Michigan  ┆ 851, …    ┆           │\n",
       "│          ┆           ┆           ┆ dunks     ┆   ┆           ┆ dunks     ┆ -0.00…    ┆           │\n",
       "│          ┆           ┆           ┆ siz…      ┆   ┆           ┆           ┆           ┆           │\n",
       "└──────────┴───────────┴───────────┴───────────┴───┴───────────┴───────────┴───────────┴───────────┘"
      ]
     },
     "execution_count": 8,
     "metadata": {},
     "output_type": "execute_result"
    }
   ],
   "source": [
    "df"
   ]
  },
  {
   "cell_type": "markdown",
   "id": "3ca44fc4-3df9-4e14-a1d6-f6163793af11",
   "metadata": {},
   "source": [
    "## Save data"
   ]
  },
  {
   "cell_type": "code",
   "execution_count": 9,
   "id": "1bc76c0d-86ad-48f5-a8e0-929d3005104a",
   "metadata": {},
   "outputs": [],
   "source": [
    "fs = project.get_feature_store() "
   ]
  },
  {
   "cell_type": "code",
   "execution_count": 10,
   "id": "4ba5cf39-a2ad-4adb-8b0d-2ae050009a41",
   "metadata": {},
   "outputs": [],
   "source": [
    "grailed_items_fg = fs.get_or_create_feature_group(\n",
    "    name='grailed_items',\n",
    "    description='Sold Grailed items',\n",
    "    version=1,\n",
    "    primary_key=['id'],\n",
    "    event_time=\"sold_at\",\n",
    "    # expectation_suite=aq_expectation_suite\n",
    ")"
   ]
  },
  {
   "cell_type": "code",
   "execution_count": 11,
   "id": "a1697d1f-7ca7-4e73-a062-35306db365fd",
   "metadata": {},
   "outputs": [
    {
     "name": "stdout",
     "output_type": "stream",
     "text": [
      "Feature Group created successfully, explore it at \n",
      "https://c.app.hopsworks.ai:443/p/1159324/fs/1150027/fg/1394323\n"
     ]
    },
    {
     "name": "stderr",
     "output_type": "stream",
     "text": [
      "Uploading Dataframe: 100.00% |█| Rows 100/100 | Elapsed Time: 00:02 | Remaining Time\n"
     ]
    },
    {
     "name": "stdout",
     "output_type": "stream",
     "text": [
      "Launching job: grailed_items_1_offline_fg_materialization\n",
      "Job started successfully, you can follow the progress at \n",
      "https://c.app.hopsworks.ai:443/p/1159324/jobs/named/grailed_items_1_offline_fg_materialization/executions\n"
     ]
    },
    {
     "data": {
      "text/plain": [
       "(Job('grailed_items_1_offline_fg_materialization', 'SPARK'), None)"
      ]
     },
     "execution_count": 11,
     "metadata": {},
     "output_type": "execute_result"
    }
   ],
   "source": [
    "grailed_items_fg.insert(df)"
   ]
  },
  {
   "cell_type": "code",
   "execution_count": null,
   "id": "db637fd2-3242-4af9-b4a0-2aae96c36a00",
   "metadata": {},
   "outputs": [],
   "source": [
    "# TODO: Update feature description"
   ]
  },
  {
   "cell_type": "code",
   "execution_count": null,
   "id": "7dff9031-66a5-44e5-9191-0e4820ed7861",
   "metadata": {},
   "outputs": [],
   "source": []
  }
 ],
 "metadata": {
  "kernelspec": {
   "display_name": "Python 3 (ipykernel)",
   "language": "python",
   "name": "python3"
  },
  "language_info": {
   "codemirror_mode": {
    "name": "ipython",
    "version": 3
   },
   "file_extension": ".py",
   "mimetype": "text/x-python",
   "name": "python",
   "nbconvert_exporter": "python",
   "pygments_lexer": "ipython3",
   "version": "3.11.9"
  }
 },
 "nbformat": 4,
 "nbformat_minor": 5
}
