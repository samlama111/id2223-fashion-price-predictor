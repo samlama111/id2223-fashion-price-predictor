{
 "cells": [
  {
   "cell_type": "code",
   "execution_count": null,
   "id": "2dd54b5f-73f0-41ef-a58f-00c543acbdb3",
   "metadata": {},
   "outputs": [],
   "source": [
    "import os\n",
    "import hopsworks"
   ]
  },
  {
   "cell_type": "code",
   "execution_count": null,
   "id": "8a5d4bee-9601-4e64-9b64-6b705078cf32",
   "metadata": {},
   "outputs": [],
   "source": [
    "with open('data/hopsworks-api-key.txt', 'r') as file:\n",
    "    os.environ[\"HOPSWORKS_API_KEY\"] = file.read().rstrip()\n",
    "    \n",
    "project = hopsworks.login()"
   ]
  },
  {
   "cell_type": "markdown",
   "id": "6620f0cd-3897-463b-98df-0695de3b81b1",
   "metadata": {},
   "source": [
    "## Get data"
   ]
  },
  {
   "cell_type": "code",
   "execution_count": null,
   "id": "aa708d68-099e-472d-998c-02602b523ca5",
   "metadata": {},
   "outputs": [],
   "source": [
    "from load_data import pipeline"
   ]
  },
  {
   "cell_type": "code",
   "execution_count": null,
   "id": "96ba6484-dd85-4744-9206-8d3c285e6b23",
   "metadata": {},
   "outputs": [],
   "source": [
    "df = pipeline()"
   ]
  },
  {
   "cell_type": "markdown",
   "id": "3ca44fc4-3df9-4e14-a1d6-f6163793af11",
   "metadata": {},
   "source": [
    "## Save data"
   ]
  },
  {
   "cell_type": "code",
   "execution_count": null,
   "id": "0a6b16df-f4df-42e5-9c22-e82c794b0e87",
   "metadata": {},
   "outputs": [],
   "source": [
    "df = df.drop(['created_at', 'condition', 'category_path_size'])\n",
    "df"
   ]
  },
  {
   "cell_type": "code",
   "execution_count": null,
   "id": "1bc76c0d-86ad-48f5-a8e0-929d3005104a",
   "metadata": {},
   "outputs": [],
   "source": [
    "fs = project.get_feature_store() "
   ]
  },
  {
   "cell_type": "code",
   "execution_count": null,
   "id": "4ba5cf39-a2ad-4adb-8b0d-2ae050009a41",
   "metadata": {},
   "outputs": [],
   "source": [
    "grailed_items_fg = fs.get_or_create_feature_group(\n",
    "    name='draft_grailed_items',\n",
    "    description='Sold Grailed items',\n",
    "    version=1,\n",
    "    primary_key=['id'],\n",
    "    event_time=\"sold_at\",\n",
    "    # expectation_suite=aq_expectation_suite\n",
    ")"
   ]
  },
  {
   "cell_type": "code",
   "execution_count": null,
   "id": "a1697d1f-7ca7-4e73-a062-35306db365fd",
   "metadata": {},
   "outputs": [],
   "source": [
    "grailed_items_fg.insert(df)"
   ]
  },
  {
   "cell_type": "code",
   "execution_count": null,
   "id": "db637fd2-3242-4af9-b4a0-2aae96c36a00",
   "metadata": {},
   "outputs": [],
   "source": [
    "# TODO: Update feature description"
   ]
  },
  {
   "cell_type": "code",
   "execution_count": null,
   "id": "7dff9031-66a5-44e5-9191-0e4820ed7861",
   "metadata": {},
   "outputs": [],
   "source": []
  }
 ],
 "metadata": {
  "kernelspec": {
   "display_name": "Python 3 (ipykernel)",
   "language": "python",
   "name": "python3"
  },
  "language_info": {
   "codemirror_mode": {
    "name": "ipython",
    "version": 3
   },
   "file_extension": ".py",
   "mimetype": "text/x-python",
   "name": "python",
   "nbconvert_exporter": "python",
   "pygments_lexer": "ipython3",
   "version": "3.11.9"
  }
 },
 "nbformat": 4,
 "nbformat_minor": 5
}
