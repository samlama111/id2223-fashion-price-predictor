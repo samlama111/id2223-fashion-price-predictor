{
 "cells": [
  {
   "cell_type": "code",
   "execution_count": null,
   "id": "62b3a6cf-4cbe-448b-b250-2d6d4faa2a37",
   "metadata": {},
   "outputs": [],
   "source": [
    "import os\n",
    "import hopsworks\n",
    "import polars as pl"
   ]
  },
  {
   "cell_type": "code",
   "execution_count": null,
   "id": "0901b77e-7870-4633-b21a-222a6fb6915a",
   "metadata": {},
   "outputs": [],
   "source": [
    "with open('data/hopsworks-api-key.txt', 'r') as file:\n",
    "    os.environ[\"HOPSWORKS_API_KEY\"] = file.read().rstrip()\n",
    "    \n",
    "project = hopsworks.login()"
   ]
  },
  {
   "cell_type": "markdown",
   "id": "4e42db83-4d8c-4226-88bf-2fcc73da12f6",
   "metadata": {},
   "source": [
    "## Feature processing"
   ]
  },
  {
   "cell_type": "code",
   "execution_count": null,
   "id": "ba5bc49c-7431-4571-8bc7-27bd41a1dd75",
   "metadata": {},
   "outputs": [],
   "source": [
    "from utils.feature_engineering import pipeline\n",
    "df = pipeline(no_of_hits=500)\n",
    "df.shape"
   ]
  },
  {
   "cell_type": "markdown",
   "id": "73f03119-530d-4265-81fb-3d8ad41d24ae",
   "metadata": {},
   "source": [
    "## Save data"
   ]
  },
  {
   "cell_type": "code",
   "execution_count": null,
   "id": "dce34910-b75d-4d22-b274-d447a0ce0e19",
   "metadata": {},
   "outputs": [],
   "source": [
    "fs = project.get_feature_store() "
   ]
  },
  {
   "cell_type": "code",
   "execution_count": null,
   "id": "a413f5bc-38e2-4c7c-ad14-6c010e7f6907",
   "metadata": {},
   "outputs": [],
   "source": [
    "grailed_items_fg = fs.get_or_create_feature_group(\n",
    "    name='draft_grailed_items',\n",
    "    description='Sold Grailed items',\n",
    "    version=4,\n",
    "    primary_key=['id'],\n",
    "    event_time=\"sold_at\",\n",
    "    # expectation_suite=aq_expectation_suite\n",
    ")"
   ]
  },
  {
   "cell_type": "code",
   "execution_count": null,
   "id": "2c6cef32-f7bf-4eda-9b3d-4ff7ce9415b5",
   "metadata": {},
   "outputs": [],
   "source": [
    "grailed_items_fg.insert(df)"
   ]
  },
  {
   "cell_type": "code",
   "execution_count": null,
   "id": "e853f42d-3f3d-4f9c-9e1f-dd3bea0c2cac",
   "metadata": {},
   "outputs": [],
   "source": []
  }
 ],
 "metadata": {
  "kernelspec": {
   "display_name": "Python 3 (ipykernel)",
   "language": "python",
   "name": "python3"
  },
  "language_info": {
   "codemirror_mode": {
    "name": "ipython",
    "version": 3
   },
   "file_extension": ".py",
   "mimetype": "text/x-python",
   "name": "python",
   "nbconvert_exporter": "python",
   "pygments_lexer": "ipython3",
   "version": "3.11.9"
  }
 },
 "nbformat": 4,
 "nbformat_minor": 5
}
