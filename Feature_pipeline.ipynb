{
 "cells": [
  {
   "cell_type": "code",
   "execution_count": null,
   "id": "62b3a6cf-4cbe-448b-b250-2d6d4faa2a37",
   "metadata": {},
   "outputs": [],
   "source": [
    "import os\n",
    "import hopsworks\n",
    "import polars as pl"
   ]
  },
  {
   "cell_type": "code",
   "execution_count": null,
   "id": "0901b77e-7870-4633-b21a-222a6fb6915a",
   "metadata": {},
   "outputs": [],
   "source": [
    "with open('data/hopsworks-api-key.txt', 'r') as file:\n",
    "    os.environ[\"HOPSWORKS_API_KEY\"] = file.read().rstrip()\n",
    "    \n",
    "project = hopsworks.login()"
   ]
  },
  {
   "cell_type": "markdown",
   "id": "4a4ec40e-eaa7-4d5c-8f89-820becbd126f",
   "metadata": {},
   "source": [
    "## Get data"
   ]
  },
  {
   "cell_type": "code",
   "execution_count": null,
   "id": "e6d1858e-c9d9-481b-8d81-ea06c699f60c",
   "metadata": {},
   "outputs": [],
   "source": [
    "from data_collection_preprocessing.load_data import pipeline"
   ]
  },
  {
   "cell_type": "code",
   "execution_count": null,
   "id": "7f06b006-2126-48d6-867d-267bdf17d40b",
   "metadata": {},
   "outputs": [],
   "source": [
    "raw_df = pipeline(no_of_hits=2000) # 2000 is the max"
   ]
  },
  {
   "cell_type": "markdown",
   "id": "4e42db83-4d8c-4226-88bf-2fcc73da12f6",
   "metadata": {},
   "source": [
    "## Feature processing"
   ]
  },
  {
   "cell_type": "code",
   "execution_count": null,
   "id": "bc40f481-3f98-463b-945d-d18404b3d89a",
   "metadata": {},
   "outputs": [],
   "source": [
    "from data_collection_preprocessing.embeddings import embed_text\n",
    "from data_collection_preprocessing.load_data import item_condition_to_ordinal"
   ]
  },
  {
   "cell_type": "code",
   "execution_count": null,
   "id": "ba5bc49c-7431-4571-8bc7-27bd41a1dd75",
   "metadata": {},
   "outputs": [],
   "source": [
    "# Represent designers_title as an embedding\n",
    "df = raw_df.with_columns(\n",
    "    pl.col('designers_title')\n",
    "    .map_elements(embed_text, return_dtype=pl.List(pl.Float32))\n",
    "    .alias('designers_title_embedding')\n",
    ")"
   ]
  },
  {
   "cell_type": "code",
   "execution_count": null,
   "id": "6e373975-5eb7-49ba-825b-238258a0f0fd",
   "metadata": {},
   "outputs": [],
   "source": [
    "# Convert condition to ordinal number\n",
    "df = df.with_columns(\n",
    "    pl.col('condition')\n",
    "    .map_elements(item_condition_to_ordinal, return_dtype=pl.UInt32)\n",
    "    .alias('condition_ordinal')\n",
    ")\n",
    "\n",
    "# Drop the old condition column\n",
    "df = df.drop(['condition'])"
   ]
  },
  {
   "cell_type": "code",
   "execution_count": null,
   "id": "48d9dc49-9c45-483f-b162-5dfad5739fb9",
   "metadata": {},
   "outputs": [],
   "source": [
    "df"
   ]
  },
  {
   "cell_type": "markdown",
   "id": "73f03119-530d-4265-81fb-3d8ad41d24ae",
   "metadata": {},
   "source": [
    "## Save data"
   ]
  },
  {
   "cell_type": "code",
   "execution_count": null,
   "id": "dce34910-b75d-4d22-b274-d447a0ce0e19",
   "metadata": {},
   "outputs": [],
   "source": [
    "fs = project.get_feature_store() "
   ]
  },
  {
   "cell_type": "code",
   "execution_count": null,
   "id": "a413f5bc-38e2-4c7c-ad14-6c010e7f6907",
   "metadata": {},
   "outputs": [],
   "source": [
    "grailed_items_fg = fs.get_or_create_feature_group(\n",
    "    name='grailed_items',\n",
    "    description='Sold Grailed items',\n",
    "    version=2,\n",
    "    primary_key=['id'],\n",
    "    event_time=\"sold_at\",\n",
    "    # expectation_suite=aq_expectation_suite\n",
    ")"
   ]
  },
  {
   "cell_type": "code",
   "execution_count": null,
   "id": "2c6cef32-f7bf-4eda-9b3d-4ff7ce9415b5",
   "metadata": {},
   "outputs": [],
   "source": [
    "grailed_items_fg.insert(df)"
   ]
  }
 ],
 "metadata": {
  "kernelspec": {
   "display_name": "Python 3 (ipykernel)",
   "language": "python",
   "name": "python3"
  },
  "language_info": {
   "codemirror_mode": {
    "name": "ipython",
    "version": 3
   },
   "file_extension": ".py",
   "mimetype": "text/x-python",
   "name": "python",
   "nbconvert_exporter": "python",
   "pygments_lexer": "ipython3",
   "version": "3.11.9"
  }
 },
 "nbformat": 4,
 "nbformat_minor": 5
}
