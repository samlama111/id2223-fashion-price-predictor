{
 "cells": [
  {
   "cell_type": "code",
   "execution_count": null,
   "id": "3576e66c-b314-4a7c-8de8-6b8ebcbb5294",
   "metadata": {},
   "outputs": [],
   "source": [
    "# TODO: Get today's/this hour's data\n",
    "# Upload it ot he feature store"
   ]
  }
 ],
 "metadata": {
  "kernelspec": {
   "display_name": "Python 3 (ipykernel)",
   "language": "python",
   "name": "python3"
  },
  "language_info": {
   "codemirror_mode": {
    "name": "ipython",
    "version": 3
   },
   "file_extension": ".py",
   "mimetype": "text/x-python",
   "name": "python",
   "nbconvert_exporter": "python",
   "pygments_lexer": "ipython3",
   "version": "3.11.9"
  }
 },
 "nbformat": 4,
 "nbformat_minor": 5
}
