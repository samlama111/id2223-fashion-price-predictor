{
 "cells": [
  {
   "cell_type": "code",
   "execution_count": 1,
   "id": "2dd54b5f-73f0-41ef-a58f-00c543acbdb3",
   "metadata": {},
   "outputs": [],
   "source": [
    "import os\n",
    "import hopsworks\n",
    "import polars as pl"
   ]
  },
  {
   "cell_type": "code",
   "execution_count": null,
   "id": "bc2924eb",
   "metadata": {},
   "outputs": [],
   "source": [
    "from utils.feature_engineering import get_latest_sold_products\n",
    "get_latest_sold_products()[0]"
   ]
  },
  {
   "cell_type": "code",
   "execution_count": null,
   "id": "8a5d4bee-9601-4e64-9b64-6b705078cf32",
   "metadata": {},
   "outputs": [],
   "source": [
    "with open('data/hopsworks-api-key.txt', 'r') as file:\n",
    "    os.environ[\"HOPSWORKS_API_KEY\"] = file.read().rstrip()\n",
    "    \n",
    "project = hopsworks.login()"
   ]
  },
  {
   "cell_type": "markdown",
   "id": "6620f0cd-3897-463b-98df-0695de3b81b1",
   "metadata": {},
   "source": [
    "## Get data"
   ]
  },
  {
   "cell_type": "markdown",
   "id": "e3cef177",
   "metadata": {},
   "source": [
    "### Quick data exploration\n",
    "Taken from https://graildient-descent.streamlit.app/eda, using 10,000 samples.\n",
    "We could do the same using the larger dataset.\n",
    "\n",
    "#### Numerical/quantitative features\n",
    "Target variable (sold_price):\n",
    "- Most sold items are between 35-135$ (consider plotting bins) - consider outliers, since we are far from normal distribution, maybe try a log transformation?\n",
    "\n",
    "Number of photos:\n",
    "- Another numerical feature, could be added\n",
    "- Price increases until 13 photos, then inconsistent\n",
    "\n",
    "#### Categorical/qualitative features\n",
    "- high-cardinality: designer, color, subcategory, size\n",
    "- low-cardinality: category, condition\n",
    "\n",
    "Target encoding more fitting for high-cardinality features. Whereas low-cardinality features could be one-hot encoded.\n",
    "\n",
    "- designer a strong predictor\n",
    "- we skip department, to focus on men's clothing only (it has better representation)\n",
    "- there is good variation of sold prices in different subcategories => probably a good indicator\n",
    "- could be interesting to use embeddings for color instead\n",
    "- condition - perfect for ordinal encoding. The better the condition, the higher the average sold price.\n",
    "\n",
    "##### Text\n",
    "- title/description - should we do any pre-processing?\n",
    "- we could look at sentiment and similar text analysis approaches\n",
    "\n",
    "#### Images\n",
    "- could be interesting to add embedding representation of title image"
   ]
  },
  {
   "cell_type": "markdown",
   "id": "331c9062-70aa-4658-ba16-da30eea12f10",
   "metadata": {},
   "source": [
    "## Feature processing"
   ]
  },
  {
   "cell_type": "code",
   "execution_count": 4,
   "id": "80d488b4-a714-4fcd-b91e-16d4966af211",
   "metadata": {},
   "outputs": [
    {
     "name": "stdout",
     "output_type": "stream",
     "text": [
      "The model BAAI/bge-small-en-v1.5 is ready to use.\n",
      "The model BAAI/bge-small-en-v1.5 is ready to use.\n",
      "The model BAAI/bge-small-en-v1.5 is ready to use.\n",
      "The model BAAI/bge-small-en-v1.5 is ready to use.\n",
      "shape: (296, 13)\n",
      "┌──────────┬───────────┬───────────┬───────────┬───┬───────────┬───────────┬───────────┬───────────┐\n",
      "│ id       ┆ sold_at   ┆ designer_ ┆ descripti ┆ … ┆ color     ┆ followern ┆ sold_pric ┆ embedded_ │\n",
      "│ ---      ┆ ---       ┆ names     ┆ on        ┆   ┆ ---       ┆ o         ┆ e         ┆ hashtags  │\n",
      "│ i64      ┆ datetime[ ┆ ---       ┆ ---       ┆   ┆ str       ┆ ---       ┆ ---       ┆ ---       │\n",
      "│          ┆ μs]       ┆ object    ┆ object    ┆   ┆           ┆ i64       ┆ i64       ┆ object    │\n",
      "╞══════════╪═══════════╪═══════════╪═══════════╪═══╪═══════════╪═══════════╪═══════════╪═══════════╡\n",
      "│ 69438334 ┆ 2025-01-0 ┆ [-1.96712 ┆ [-3.01418 ┆ … ┆ beige     ┆ 1         ┆ 95        ┆ [-2.87136 │\n",
      "│          ┆ 5 11:00:1 ┆ 501e-02   ┆ 602e-02   ┆   ┆           ┆           ┆           ┆ 696e-02   │\n",
      "│          ┆ 6.849     ┆ 1.9220560 ┆ 6.0658153 ┆   ┆           ┆           ┆           ┆ 1.6184549 │\n",
      "│          ┆           ┆ 8e-…      ┆ 1e-…      ┆   ┆           ┆           ┆           ┆ 8e-…      │\n",
      "│ 69720276 ┆ 2025-01-0 ┆ [-6.40358 ┆ [-1.10770 ┆ … ┆ white     ┆ 2         ┆ 120       ┆ [-8.93530 │\n",
      "│          ┆ 5 11:00:0 ┆ 105e-02   ┆ 240e-01   ┆   ┆           ┆           ┆           ┆ 175e-02   │\n",
      "│          ┆ 9.988     ┆ 2.3655612 ┆ -1.419579 ┆   ┆           ┆           ┆           ┆ 5.9909582 │\n",
      "│          ┆           ┆ 0e-…      ┆ 80e-…     ┆   ┆           ┆           ┆           ┆ 1e-…      │\n",
      "│ 71756533 ┆ 2025-01-0 ┆ [-6.40358 ┆ [-5.45726 ┆ … ┆ black     ┆ 0         ┆ 35        ┆ [-0.03440 │\n",
      "│          ┆ 5 10:59:4 ┆ 105e-02   ┆ 418e-02   ┆   ┆           ┆           ┆           ┆ 151  0.02 │\n",
      "│          ┆ 6.685     ┆ 2.3655612 ┆ 6.3155598 ┆   ┆           ┆           ┆           ┆ 309931    │\n",
      "│          ┆           ┆ 0e-…      ┆ 9e-…      ┆   ┆           ┆           ┆           ┆ 0.03…     │\n",
      "│ 71102052 ┆ 2025-01-0 ┆ [-8.21406 ┆ [-6.37003 ┆ … ┆ nav       ┆ 38        ┆ 40        ┆ [-2.00666 │\n",
      "│          ┆ 5 10:58:4 ┆ 394e-03   ┆ 332e-02   ┆   ┆           ┆           ┆           ┆ 077e-02   │\n",
      "│          ┆ 7.028     ┆ 3.8148008 ┆ -2.362468 ┆   ┆           ┆           ┆           ┆ 4.9072217 │\n",
      "│          ┆           ┆ 3e-…      ┆ 09e-…     ┆   ┆           ┆           ┆           ┆ 2e-…      │\n",
      "│ 58447492 ┆ 2025-01-0 ┆ [-9.17050 ┆ [-3.48324 ┆ … ┆ black     ┆ 4         ┆ 35        ┆ [-9.46969 │\n",
      "│          ┆ 5 10:58:2 ┆ 813e-04   ┆ 664e-02   ┆   ┆           ┆           ┆           ┆ 632e-03   │\n",
      "│          ┆ 4.354     ┆ 3.9632543 ┆ 4.9806423 ┆   ┆           ┆           ┆           ┆ -3.152169 │\n",
      "│          ┆           ┆ 9e-…      ┆ 5e-…      ┆   ┆           ┆           ┆           ┆ 29e-…     │\n",
      "│ …        ┆ …         ┆ …         ┆ …         ┆ … ┆ …         ┆ …         ┆ …         ┆ …         │\n",
      "│ 72304972 ┆ 2025-01-0 ┆ [-3.81714 ┆ [-7.11031 ┆ … ┆ white     ┆ 1         ┆ 15        ┆ [-3.35013 │\n",
      "│          ┆ 5 07:40:4 ┆ 292e-02   ┆ 184e-02   ┆   ┆           ┆           ┆           ┆ 270e-02   │\n",
      "│          ┆ 1.057     ┆ -4.478256 ┆ 1.4468351 ┆   ┆           ┆           ┆           ┆ -3.254792 │\n",
      "│          ┆           ┆ 03e-…     ┆ 4e-…      ┆   ┆           ┆           ┆           ┆ 84e-…     │\n",
      "│ 72739403 ┆ 2025-01-0 ┆ [ 4.13955 ┆ [ 2.94253 ┆ … ┆ light     ┆ 13        ┆ 450       ┆ [-2.42539 │\n",
      "│          ┆ 5 07:39:4 ┆ 469e-03   ┆ 267e-02   ┆   ┆ blue      ┆           ┆           ┆ 644e-02   │\n",
      "│          ┆ 7.726     ┆ 6.8063829 ┆ 4.0409895 ┆   ┆           ┆           ┆           ┆ 3.7619475 │\n",
      "│          ┆           ┆ 1e-…      ┆ 6e-…      ┆   ┆           ┆           ┆           ┆ 3e-…      │\n",
      "│ 46042996 ┆ 2025-01-0 ┆ [-1.04959 ┆ [-0.04656 ┆ … ┆ black     ┆ 44        ┆ 160       ┆ [-7.09235 │\n",
      "│          ┆ 5 07:39:3 ┆ 615e-01   ┆ 446 -0.02 ┆   ┆           ┆           ┆           ┆ 743e-02   │\n",
      "│          ┆ 6.922     ┆ 1.1805965 ┆ 971408    ┆   ┆           ┆           ┆           ┆ -1.931258 │\n",
      "│          ┆           ┆ 6e-…      ┆ 0.05…     ┆   ┆           ┆           ┆           ┆ 48e-…     │\n",
      "│ 71556084 ┆ 2025-01-0 ┆ [-5.43365 ┆ [-2.23856 ┆ … ┆ black /   ┆ 40        ┆ 100       ┆ [ 0.04845 │\n",
      "│          ┆ 5 07:39:2 ┆ 702e-02   ┆ 084e-02   ┆   ┆ red       ┆           ┆           ┆ 207 -0.00 │\n",
      "│          ┆ 5.440     ┆ -3.678491 ┆ 3.8268283 ┆   ┆           ┆           ┆           ┆ 136854    │\n",
      "│          ┆           ┆ 34e-…     ┆ 0e-…      ┆   ┆           ┆           ┆           ┆ 0.01…     │\n",
      "│ 72915028 ┆ 2025-01-0 ┆ [-1.68376 ┆ [-0.04441 ┆ … ┆ blue      ┆ 2         ┆ 90        ┆ [ 0.04845 │\n",
      "│          ┆ 5 07:39:0 ┆ 672e-03   ┆ 266 -0.01 ┆   ┆           ┆           ┆           ┆ 207 -0.00 │\n",
      "│          ┆ 5.863     ┆ -3.149170 ┆ 160301    ┆   ┆           ┆           ┆           ┆ 136854    │\n",
      "│          ┆           ┆ 06e-…     ┆ 0.00…     ┆   ┆           ┆           ┆           ┆ 0.01…     │\n",
      "└──────────┴───────────┴───────────┴───────────┴───┴───────────┴───────────┴───────────┴───────────┘\n"
     ]
    },
    {
     "data": {
      "text/plain": [
       "(296, 13)"
      ]
     },
     "execution_count": 4,
     "metadata": {},
     "output_type": "execute_result"
    }
   ],
   "source": [
    "from utils.feature_engineering import pipeline\n",
    "df = pipeline(no_of_hits=300)\n",
    "df.shape"
   ]
  },
  {
   "cell_type": "markdown",
   "id": "3ca44fc4-3df9-4e14-a1d6-f6163793af11",
   "metadata": {},
   "source": [
    "## Save data"
   ]
  },
  {
   "cell_type": "code",
   "execution_count": 10,
   "id": "1bc76c0d-86ad-48f5-a8e0-929d3005104a",
   "metadata": {},
   "outputs": [],
   "source": [
    "fs = project.get_feature_store() "
   ]
  },
  {
   "cell_type": "code",
   "execution_count": 11,
   "id": "4ba5cf39-a2ad-4adb-8b0d-2ae050009a41",
   "metadata": {},
   "outputs": [],
   "source": [
    "grailed_items_fg = fs.get_or_create_feature_group(\n",
    "    name='grailed_items',\n",
    "    description='Sold Grailed items',\n",
    "    version=2,\n",
    "    primary_key=['id'],\n",
    "    event_time=\"sold_at\",\n",
    "    # expectation_suite=aq_expectation_suite\n",
    ")"
   ]
  },
  {
   "cell_type": "code",
   "execution_count": null,
   "id": "a1697d1f-7ca7-4e73-a062-35306db365fd",
   "metadata": {},
   "outputs": [],
   "source": [
    "grailed_items_fg.insert(df)"
   ]
  },
  {
   "cell_type": "code",
   "execution_count": null,
   "id": "db637fd2-3242-4af9-b4a0-2aae96c36a00",
   "metadata": {},
   "outputs": [],
   "source": [
    "# TODO: Update feature description"
   ]
  }
 ],
 "metadata": {
  "kernelspec": {
   "display_name": ".venv",
   "language": "python",
   "name": "python3"
  },
  "language_info": {
   "codemirror_mode": {
    "name": "ipython",
    "version": 3
   },
   "file_extension": ".py",
   "mimetype": "text/x-python",
   "name": "python",
   "nbconvert_exporter": "python",
   "pygments_lexer": "ipython3",
   "version": "3.10.15"
  }
 },
 "nbformat": 4,
 "nbformat_minor": 5
}
