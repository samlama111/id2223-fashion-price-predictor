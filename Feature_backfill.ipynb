{
 "cells": [
  {
   "cell_type": "code",
   "execution_count": 1,
   "id": "2dd54b5f-73f0-41ef-a58f-00c543acbdb3",
   "metadata": {},
   "outputs": [],
   "source": [
    "import hopsworks\n"
   ]
  },
  {
   "cell_type": "code",
   "execution_count": 2,
   "id": "bc2924eb",
   "metadata": {},
   "outputs": [
    {
     "data": {
      "text/plain": [
       "{'badges': [],\n",
       " 'bumped_at': '2024-11-14T08:08:59.642Z',\n",
       " 'buynow': True,\n",
       " 'category_path_size': 'accessories.glasses.one_size',\n",
       " 'category_path': 'accessories.glasses',\n",
       " 'category_size': 'accessories.one_size',\n",
       " 'category': 'accessories',\n",
       " 'color': 'black',\n",
       " 'condition': 'is_gently_used',\n",
       " 'cover_photo': {'id': 499271392,\n",
       "  'listing_id': 69721474,\n",
       "  'image': None,\n",
       "  'created_at': '2024-10-31T21:22:14.129Z',\n",
       "  'updated_at': '2024-10-31T21:22:14.139Z',\n",
       "  'photoable_id': 69721474,\n",
       "  'photoable_type': 'Listing',\n",
       "  'width': None,\n",
       "  'height': None,\n",
       "  'url': 'https://media-assets.grailed.com/prd/listing/temp/261c9931296240198f86adecd55db705',\n",
       "  'position': 0,\n",
       "  'rotate': 0,\n",
       "  'image_url': 'https://media-assets.grailed.com/prd/listing/temp/261c9931296240198f86adecd55db705'},\n",
       " 'created_at_i': 1730201777,\n",
       " 'created_at': '2024-10-29T11:36:17.537Z',\n",
       " 'deleted': False,\n",
       " 'department': 'menswear',\n",
       " 'description': 'Product name:  Christian Dior glasses for prescription \\n\\n100% Authentic - Money Back Guarantee\\n\\nCondition: Good\\n\\n  🔗Shipping from Stockholm within 24 hours \\n🔗3-5 business days shipping to USA \\n🔗Quick respond\\n🔗Open for offers \\n🔗No refund/ exchange \\n🔗 Discounts if purchasing several items\\n‼️ Please be attentive while ordering, see all the photos, read descriptions carefully, because I don’t do returns/refunds, thanks for understanding',\n",
       " 'designer_names': 'Designer × Dior',\n",
       " 'designers': [{'id': 7666, 'name': 'Designer'}, {'id': 35, 'name': 'Dior'}],\n",
       " 'dropped': True,\n",
       " 'followerno': 23,\n",
       " 'hashtags': ['gucci',\n",
       "  'balenciaga',\n",
       "  'prada',\n",
       "  'vetements',\n",
       "  'chanel',\n",
       "  'sunglasses',\n",
       "  'bottegaveneta',\n",
       "  'vision'],\n",
       " 'heat_f': 3978.080552696798,\n",
       " 'id': 69721474,\n",
       " 'location': 'Europe',\n",
       " 'makeoffer': True,\n",
       " 'marketplace': 'grailed',\n",
       " 'price_drops': [70, 50],\n",
       " 'price_i': 50,\n",
       " 'price_updated_at_i': 1731571725,\n",
       " 'price_updated_at': '2024-11-14T08:08:45.474Z',\n",
       " 'price': 50,\n",
       " 'product_id': None,\n",
       " 'repost_id': None,\n",
       " 'size': 'one size',\n",
       " 'sku_id': None,\n",
       " 'sold_at': '2025-01-05T17:23:05.421Z',\n",
       " 'sold': True,\n",
       " 'strata': 'grailed',\n",
       " 'title': 'Christian Dior glasses 🔥 frame Gaucho CD 3687',\n",
       " 'traits': [{'name': 'color', 'value': 'black'}],\n",
       " 'user': {'id': 6507476,\n",
       "  'username': 'WHYMIGI',\n",
       "  'aggregate_feedback_count': 260,\n",
       "  'total_bought_and_sold': 260,\n",
       "  'avatar_url': 'https://media-assets.grailed.com/prd/avatar/6507476/ca612d4df0e1456da78e994b3cfd22d7',\n",
       "  'seller_score': {'rating_average': 4.859154929577465, 'rating_count': 142},\n",
       "  'trusted_seller': True},\n",
       " 'sold_price': 40,\n",
       " 'sold_price_includes_shipping': False,\n",
       " 'sold_shipping_price': 30,\n",
       " 'sold_at_i': 1736097785,\n",
       " 'shipping': {'us': {'amount': 30, 'enabled': True},\n",
       "  'ca': {'amount': 30, 'enabled': True},\n",
       "  'uk': {'amount': 30, 'enabled': True},\n",
       "  'eu': {'amount': 30, 'enabled': True},\n",
       "  'asia': {'amount': 30, 'enabled': True},\n",
       "  'au': {'amount': 30, 'enabled': True},\n",
       "  'other': {'amount': 30, 'enabled': True}},\n",
       " 'heat_recency': 7951.637543437539,\n",
       " 'objectID': '69721474',\n",
       " '_highlightResult': {'category': {'value': 'accessories',\n",
       "   'matchLevel': 'none',\n",
       "   'matchedWords': []},\n",
       "  'color': {'value': 'black', 'matchLevel': 'none', 'matchedWords': []},\n",
       "  'designers': [{'name': {'value': 'Designer',\n",
       "     'matchLevel': 'none',\n",
       "     'matchedWords': []}},\n",
       "   {'name': {'value': 'Dior', 'matchLevel': 'none', 'matchedWords': []}}],\n",
       "  'hashtags': [{'value': 'gucci', 'matchLevel': 'none', 'matchedWords': []},\n",
       "   {'value': 'balenciaga', 'matchLevel': 'none', 'matchedWords': []},\n",
       "   {'value': 'prada', 'matchLevel': 'none', 'matchedWords': []},\n",
       "   {'value': 'vetements', 'matchLevel': 'none', 'matchedWords': []},\n",
       "   {'value': 'chanel', 'matchLevel': 'none', 'matchedWords': []},\n",
       "   {'value': 'sunglasses', 'matchLevel': 'none', 'matchedWords': []},\n",
       "   {'value': 'bottegaveneta', 'matchLevel': 'none', 'matchedWords': []},\n",
       "   {'value': 'vision', 'matchLevel': 'none', 'matchedWords': []}],\n",
       "  'location': {'value': 'Europe', 'matchLevel': 'none', 'matchedWords': []},\n",
       "  'size': {'value': 'one size', 'matchLevel': 'none', 'matchedWords': []},\n",
       "  'title': {'value': 'Christian Dior glasses 🔥 frame Gaucho CD 3687',\n",
       "   'matchLevel': 'none',\n",
       "   'matchedWords': []},\n",
       "  'user': {'id': {'value': '6507476',\n",
       "    'matchLevel': 'none',\n",
       "    'matchedWords': []},\n",
       "   'username': {'value': 'WHYMIGI', 'matchLevel': 'none', 'matchedWords': []},\n",
       "   'aggregate_feedback_count': {'value': '260',\n",
       "    'matchLevel': 'none',\n",
       "    'matchedWords': []},\n",
       "   'total_bought_and_sold': {'value': '260',\n",
       "    'matchLevel': 'none',\n",
       "    'matchedWords': []},\n",
       "   'avatar_url': {'value': 'https://media-assets.grailed.com/prd/avatar/6507476/ca612d4df0e1456da78e994b3cfd22d7',\n",
       "    'matchLevel': 'none',\n",
       "    'matchedWords': []},\n",
       "   'seller_score': {'rating_average': {'value': '4.859154929577465',\n",
       "     'matchLevel': 'none',\n",
       "     'matchedWords': []},\n",
       "    'rating_count': {'value': '142',\n",
       "     'matchLevel': 'none',\n",
       "     'matchedWords': []}}}},\n",
       " '_rankingInfo': {'nbTypos': 0,\n",
       "  'firstMatchedWord': 0,\n",
       "  'proximityDistance': 0,\n",
       "  'userScore': 300,\n",
       "  'geoDistance': 0,\n",
       "  'geoPrecision': 1,\n",
       "  'nbExactWords': 0,\n",
       "  'words': 0,\n",
       "  'filters': 1}}"
      ]
     },
     "execution_count": 2,
     "metadata": {},
     "output_type": "execute_result"
    }
   ],
   "source": [
    "from utils.feature_engineering import get_latest_sold_products\n",
    "get_latest_sold_products()[0]"
   ]
  },
  {
   "cell_type": "code",
   "execution_count": 3,
   "id": "8a5d4bee-9601-4e64-9b64-6b705078cf32",
   "metadata": {},
   "outputs": [
    {
     "name": "stdout",
     "output_type": "stream",
     "text": [
      "2025-01-05 18:58:50,652 INFO: Initializing external client\n",
      "2025-01-05 18:58:50,654 INFO: Base URL: https://c.app.hopsworks.ai:443\n",
      "2025-01-05 18:58:52,187 INFO: Python Engine initialized.\n",
      "\n",
      "Logged in to project, explore it here https://c.app.hopsworks.ai:443/p/1159324\n"
     ]
    }
   ],
   "source": [
    "from dotenv import load_dotenv\n",
    "load_dotenv()\n",
    "    \n",
    "project = hopsworks.login()"
   ]
  },
  {
   "cell_type": "markdown",
   "id": "6620f0cd-3897-463b-98df-0695de3b81b1",
   "metadata": {},
   "source": [
    "## Get data"
   ]
  },
  {
   "cell_type": "markdown",
   "id": "e3cef177",
   "metadata": {},
   "source": [
    "### Quick data exploration\n",
    "Taken from https://graildient-descent.streamlit.app/eda, using 10,000 samples.\n",
    "We could do the same using the larger dataset.\n",
    "\n",
    "#### Numerical/quantitative features\n",
    "Target variable (sold_price):\n",
    "- Most sold items are between 35-135$ (consider plotting bins) - consider outliers, since we are far from normal distribution, maybe try a log transformation?\n",
    "\n",
    "Number of photos:\n",
    "- Another numerical feature, could be added\n",
    "- Price increases until 13 photos, then inconsistent\n",
    "\n",
    "#### Categorical/qualitative features\n",
    "- high-cardinality: designer, color, subcategory, size\n",
    "- low-cardinality: category, condition\n",
    "\n",
    "Target encoding more fitting for high-cardinality features. Whereas low-cardinality features could be one-hot encoded.\n",
    "\n",
    "- designer a strong predictor\n",
    "- we skip department, to focus on men's clothing only (it has better representation)\n",
    "- there is good variation of sold prices in different subcategories => probably a good indicator\n",
    "- could be interesting to use embeddings for color instead\n",
    "- condition - perfect for ordinal encoding. The better the condition, the higher the average sold price.\n",
    "\n",
    "##### Text\n",
    "- title/description - should we do any pre-processing?\n",
    "- we could look at sentiment and similar text analysis approaches\n",
    "\n",
    "#### Images\n",
    "- could be interesting to add embedding representation of title image"
   ]
  },
  {
   "cell_type": "markdown",
   "id": "331c9062-70aa-4658-ba16-da30eea12f10",
   "metadata": {},
   "source": [
    "## Feature processing"
   ]
  },
  {
   "cell_type": "code",
   "execution_count": 3,
   "id": "80d488b4-a714-4fcd-b91e-16d4966af211",
   "metadata": {},
   "outputs": [
    {
     "name": "stdout",
     "output_type": "stream",
     "text": [
      "embedding designer names\n",
      "embedding descriptions\n",
      "embedding titles\n",
      "embedding hashtags\n",
      "embedding size\n"
     ]
    },
    {
     "name": "stderr",
     "output_type": "stream",
     "text": [
      "UserWarning: Invalid condition: is_not_specified\n"
     ]
    },
    {
     "name": "stdout",
     "output_type": "stream",
     "text": [
      "shape: (499, 12)\n",
      "┌──────────┬───────────┬───────────┬───────────┬───┬───────────┬───────────┬───────────┬───────────┐\n",
      "│ id       ┆ sold_at   ┆ designer_ ┆ descripti ┆ … ┆ size      ┆ color     ┆ followern ┆ sold_pric │\n",
      "│ ---      ┆ ---       ┆ names     ┆ on        ┆   ┆ ---       ┆ ---       ┆ o         ┆ e         │\n",
      "│ i64      ┆ datetime[ ┆ ---       ┆ ---       ┆   ┆ list[f32] ┆ i64       ┆ ---       ┆ ---       │\n",
      "│          ┆ μs]       ┆ list[f32] ┆ list[f32] ┆   ┆           ┆           ┆ i64       ┆ i64       │\n",
      "╞══════════╪═══════════╪═══════════╪═══════════╪═══╪═══════════╪═══════════╪═══════════╪═══════════╡\n",
      "│ 59318624 ┆ 2025-01-0 ┆ [-0.07145 ┆ [-0.04419 ┆ … ┆ [0.0,     ┆ 264690080 ┆ 50        ┆ 60        │\n",
      "│          ┆ 5 14:00:5 ┆ 7,        ┆ 6,        ┆   ┆ 0.0, …    ┆ 9         ┆           ┆           │\n",
      "│          ┆ 6.954     ┆ 0.007094, ┆ 0.009599, ┆   ┆ 0.0]      ┆           ┆           ┆           │\n",
      "│          ┆           ┆ … 0.0685… ┆ … -0.018… ┆   ┆           ┆           ┆           ┆           │\n",
      "│ 71764285 ┆ 2025-01-0 ┆ [0.005326 ┆ [-0.00864 ┆ … ┆ [0.0,     ┆ 598890490 ┆ 2         ┆ 108       │\n",
      "│          ┆ 5 14:00:5 ┆ ,         ┆ 8,        ┆   ┆ 0.0, …    ┆           ┆           ┆           │\n",
      "│          ┆ 2.915     ┆ 0.034173, ┆ 0.018048, ┆   ┆ 0.0]      ┆           ┆           ┆           │\n",
      "│          ┆           ┆ …         ┆ … 0.0418… ┆   ┆           ┆           ┆           ┆           │\n",
      "│          ┆           ┆ -0.0446…  ┆           ┆   ┆           ┆           ┆           ┆           │\n",
      "│ 72277225 ┆ 2025-01-0 ┆ [0.024777 ┆ [-0.03402 ┆ … ┆ [0.0,     ┆ 126602767 ┆ 2         ┆ 160       │\n",
      "│          ┆ 5 14:00:4 ┆ ,         ┆ 7, -0.038 ┆   ┆ 0.0, …    ┆           ┆           ┆           │\n",
      "│          ┆ 6.333     ┆ 0.022642, ┆ 888, …    ┆   ┆ 0.0]      ┆           ┆           ┆           │\n",
      "│          ┆           ┆ …         ┆ 0.008…    ┆   ┆           ┆           ┆           ┆           │\n",
      "│          ┆           ┆ 0.02445…  ┆           ┆   ┆           ┆           ┆           ┆           │\n",
      "│ 68548864 ┆ 2025-01-0 ┆ [-0.01230 ┆ [-0.06079 ┆ … ┆ [0.0,     ┆ 345629048 ┆ 27        ┆ 105       │\n",
      "│          ┆ 5 14:00:2 ┆ 6,        ┆ 6,        ┆   ┆ 0.0, …    ┆ 2         ┆           ┆           │\n",
      "│          ┆ 2.353     ┆ 0.005881, ┆ 0.041197, ┆   ┆ 0.0]      ┆           ┆           ┆           │\n",
      "│          ┆           ┆ … 0.0333… ┆ … 0.0896… ┆   ┆           ┆           ┆           ┆           │\n",
      "│ 72914548 ┆ 2025-01-0 ┆ [-0.04657 ┆ [-0.01035 ┆ … ┆ [0.0,     ┆ 126602767 ┆ 1         ┆ 12        │\n",
      "│          ┆ 5 14:00:0 ┆ 8,        ┆ 9,        ┆   ┆ 0.0, …    ┆           ┆           ┆           │\n",
      "│          ┆ 6.982     ┆ -0.03844, ┆ 0.028271, ┆   ┆ 0.0]      ┆           ┆           ┆           │\n",
      "│          ┆           ┆ … -0.042… ┆ … -0.010… ┆   ┆           ┆           ┆           ┆           │\n",
      "│ …        ┆ …         ┆ …         ┆ …         ┆ … ┆ …         ┆ …         ┆ …         ┆ …         │\n",
      "│ 49578746 ┆ 2025-01-0 ┆ [-0.08216 ┆ [-0.04996 ┆ … ┆ [0.0,     ┆ 126602767 ┆ 4         ┆ 70        │\n",
      "│          ┆ 5 07:41:5 ┆ 4, -0.000 ┆ 4,        ┆   ┆ 0.0, …    ┆           ┆           ┆           │\n",
      "│          ┆ 6.825     ┆ 896, …    ┆ 0.031361, ┆   ┆ 0.0]      ┆           ┆           ┆           │\n",
      "│          ┆           ┆ -0.00…    ┆ … 0.0073… ┆   ┆           ┆           ┆           ┆           │\n",
      "│ 28575627 ┆ 2025-01-0 ┆ [-0.03542 ┆ [-0.04545 ┆ … ┆ [0.0,     ┆ 138936472 ┆ 6         ┆ 50        │\n",
      "│          ┆ 5 07:40:5 ┆ 5,        ┆ 9, -0.010 ┆   ┆ 0.0, …    ┆ 1         ┆           ┆           │\n",
      "│          ┆ 7.817     ┆ 0.051267, ┆ 194, …    ┆   ┆ 0.0]      ┆           ┆           ┆           │\n",
      "│          ┆           ┆ … 0.0368… ┆ -0.00…    ┆   ┆           ┆           ┆           ┆           │\n",
      "│ 72304972 ┆ 2025-01-0 ┆ [-0.03817 ┆ [-0.07110 ┆ … ┆ [0.0,     ┆ 345629048 ┆ 1         ┆ 15        │\n",
      "│          ┆ 5 07:40:4 ┆ 1, -0.044 ┆ 3,        ┆   ┆ 0.0, …    ┆ 2         ┆           ┆           │\n",
      "│          ┆ 1.057     ┆ 783, …    ┆ 0.014468, ┆   ┆ 0.0]      ┆           ┆           ┆           │\n",
      "│          ┆           ┆ 0.025…    ┆ … -0.028… ┆   ┆           ┆           ┆           ┆           │\n",
      "│ 72739403 ┆ 2025-01-0 ┆ [0.00414, ┆ [0.029425 ┆ … ┆ [0.0,     ┆ 213296652 ┆ 13        ┆ 450       │\n",
      "│          ┆ 5 07:39:4 ┆ 0.006806, ┆ ,         ┆   ┆ 0.0, …    ┆ 0         ┆           ┆           │\n",
      "│          ┆ 7.726     ┆ …         ┆ 0.004041, ┆   ┆ 0.0]      ┆           ┆           ┆           │\n",
      "│          ┆           ┆ 0.037681… ┆ …         ┆   ┆           ┆           ┆           ┆           │\n",
      "│          ┆           ┆           ┆ 0.01702…  ┆   ┆           ┆           ┆           ┆           │\n",
      "│ 46042996 ┆ 2025-01-0 ┆ [-0.10496 ┆ [-0.04656 ┆ … ┆ [0.0,     ┆ 126602767 ┆ 43        ┆ 160       │\n",
      "│          ┆ 5 07:39:3 ┆ ,         ┆ 4, -0.029 ┆   ┆ 0.0, …    ┆           ┆           ┆           │\n",
      "│          ┆ 6.922     ┆ 0.011806, ┆ 714, …    ┆   ┆ 0.0]      ┆           ┆           ┆           │\n",
      "│          ┆           ┆ …         ┆ 0.019…    ┆   ┆           ┆           ┆           ┆           │\n",
      "│          ┆           ┆ 0.02853…  ┆           ┆   ┆           ┆           ┆           ┆           │\n",
      "└──────────┴───────────┴───────────┴───────────┴───┴───────────┴───────────┴───────────┴───────────┘\n"
     ]
    },
    {
     "data": {
      "text/plain": [
       "(499, 12)"
      ]
     },
     "execution_count": 3,
     "metadata": {},
     "output_type": "execute_result"
    }
   ],
   "source": [
    "from utils.feature_engineering import pipeline\n",
    "df = pipeline(no_of_hits=500)\n",
    "df.shape"
   ]
  },
  {
   "cell_type": "markdown",
   "id": "3ca44fc4-3df9-4e14-a1d6-f6163793af11",
   "metadata": {},
   "source": [
    "## Save data"
   ]
  },
  {
   "cell_type": "code",
   "execution_count": 5,
   "id": "1bc76c0d-86ad-48f5-a8e0-929d3005104a",
   "metadata": {},
   "outputs": [],
   "source": [
    "fs = project.get_feature_store() "
   ]
  },
  {
   "cell_type": "code",
   "execution_count": 6,
   "id": "4ba5cf39-a2ad-4adb-8b0d-2ae050009a41",
   "metadata": {},
   "outputs": [],
   "source": [
    "grailed_items_fg = fs.get_or_create_feature_group(\n",
    "    name='draft_grailed_items',\n",
    "    description='Sold Grailed items',\n",
    "    version=4,\n",
    "    primary_key=['id'],\n",
    "    event_time=\"sold_at\",\n",
    "    # expectation_suite=aq_expectation_suite\n",
    ")"
   ]
  },
  {
   "cell_type": "code",
   "execution_count": 7,
   "id": "a1697d1f-7ca7-4e73-a062-35306db365fd",
   "metadata": {},
   "outputs": [
    {
     "name": "stderr",
     "output_type": "stream",
     "text": [
      "Uploading Dataframe: 100.00% |██████████| Rows 499/499 | Elapsed Time: 00:05 | Remaining Time: 00:00\n"
     ]
    },
    {
     "name": "stdout",
     "output_type": "stream",
     "text": [
      "Launching job: draft_grailed_items_4_offline_fg_materialization\n",
      "Job started successfully, you can follow the progress at \n",
      "https://c.app.hopsworks.ai:443/p/1159324/jobs/named/draft_grailed_items_4_offline_fg_materialization/executions\n"
     ]
    },
    {
     "data": {
      "text/plain": [
       "(Job('draft_grailed_items_4_offline_fg_materialization', 'SPARK'), None)"
      ]
     },
     "execution_count": 7,
     "metadata": {},
     "output_type": "execute_result"
    }
   ],
   "source": [
    "grailed_items_fg.insert(df)"
   ]
  },
  {
   "cell_type": "code",
   "execution_count": 8,
   "id": "db637fd2-3242-4af9-b4a0-2aae96c36a00",
   "metadata": {},
   "outputs": [],
   "source": [
    "# TODO: Update feature description"
   ]
  }
 ],
 "metadata": {
  "kernelspec": {
   "display_name": "Python 3 (ipykernel)",
   "language": "python",
   "name": "python3"
  },
  "language_info": {
   "codemirror_mode": {
    "name": "ipython",
    "version": 3
   },
   "file_extension": ".py",
   "mimetype": "text/x-python",
   "name": "python",
   "nbconvert_exporter": "python",
   "pygments_lexer": "ipython3",
   "version": "3.11.9"
  }
 },
 "nbformat": 4,
 "nbformat_minor": 5
}
