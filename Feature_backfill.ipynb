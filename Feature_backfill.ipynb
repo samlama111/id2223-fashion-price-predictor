{
 "cells": [
  {
   "cell_type": "code",
   "execution_count": 1,
   "id": "2dd54b5f-73f0-41ef-a58f-00c543acbdb3",
   "metadata": {},
   "outputs": [],
   "source": [
    "import os\n",
    "import hopsworks\n",
    "import polars as pl"
   ]
  },
  {
   "cell_type": "code",
   "execution_count": 2,
   "id": "8a5d4bee-9601-4e64-9b64-6b705078cf32",
   "metadata": {},
   "outputs": [
    {
     "name": "stdout",
     "output_type": "stream",
     "text": [
      "2025-01-05 16:56:27,676 INFO: Initializing external client\n",
      "2025-01-05 16:56:27,677 INFO: Base URL: https://c.app.hopsworks.ai:443\n",
      "2025-01-05 16:56:29,413 INFO: Python Engine initialized.\n",
      "\n",
      "Logged in to project, explore it here https://c.app.hopsworks.ai:443/p/1159324\n"
     ]
    }
   ],
   "source": [
    "with open('data/hopsworks-api-key.txt', 'r') as file:\n",
    "    os.environ[\"HOPSWORKS_API_KEY\"] = file.read().rstrip()\n",
    "    \n",
    "project = hopsworks.login()"
   ]
  },
  {
   "cell_type": "markdown",
   "id": "6620f0cd-3897-463b-98df-0695de3b81b1",
   "metadata": {},
   "source": [
    "## Get data"
   ]
  },
  {
   "cell_type": "markdown",
   "id": "e3cef177",
   "metadata": {},
   "source": [
    "### Quick data exploration\n",
    "Taken from https://graildient-descent.streamlit.app/eda, using 10,000 samples.\n",
    "We could do the same using the larger dataset.\n",
    "\n",
    "#### Numerical/quantitative features\n",
    "Target variable (sold_price):\n",
    "- Most sold items are between 35-135$ (consider plotting bins) - consider outliers, since we are far from normal distribution, maybe try a log transformation?\n",
    "\n",
    "Number of photos:\n",
    "- Another numerical feature, could be added\n",
    "- Price increases until 13 photos, then inconsistent\n",
    "\n",
    "#### Categorical/qualitative features\n",
    "- high-cardinality: designer, color, subcategory, size\n",
    "- low-cardinality: category, condition\n",
    "\n",
    "Target encoding more fitting for high-cardinality features. Whereas low-cardinality features could be one-hot encoded.\n",
    "\n",
    "- designer a strong predictor\n",
    "- we skip department, to focus on men's clothing only (it has better representation)\n",
    "- there is good variation of sold prices in different subcategories => probably a good indicator\n",
    "- could be interesting to use embeddings for color instead\n",
    "- condition - perfect for ordinal encoding. The better the condition, the higher the average sold price.\n",
    "\n",
    "##### Text\n",
    "- title/description - should we do any pre-processing?\n",
    "- we could look at sentiment and similar text analysis approaches\n",
    "\n",
    "#### Images\n",
    "- could be interesting to add embedding representation of title image"
   ]
  },
  {
   "cell_type": "markdown",
   "id": "331c9062-70aa-4658-ba16-da30eea12f10",
   "metadata": {},
   "source": [
    "## Feature processing"
   ]
  },
  {
   "cell_type": "code",
   "execution_count": 3,
   "id": "80d488b4-a714-4fcd-b91e-16d4966af211",
   "metadata": {},
   "outputs": [
    {
     "name": "stdout",
     "output_type": "stream",
     "text": [
      "embedding designer names\n",
      "embedding descriptions\n",
      "embedding titles\n",
      "embedding hashtags\n",
      "shape: (291, 13)\n",
      "┌──────────┬────────────┬────────────┬────────────┬───┬────────┬───────────┬───────────┬───────────┐\n",
      "│ id       ┆ sold_at    ┆ designer_n ┆ descriptio ┆ … ┆ color  ┆ followern ┆ sold_pric ┆ embedded_ │\n",
      "│ ---      ┆ ---        ┆ ames       ┆ n          ┆   ┆ ---    ┆ o         ┆ e         ┆ hashtags  │\n",
      "│ i64      ┆ datetime[μ ┆ ---        ┆ ---        ┆   ┆ str    ┆ ---       ┆ ---       ┆ ---       │\n",
      "│          ┆ s]         ┆ list[f32]  ┆ list[f32]  ┆   ┆        ┆ i64       ┆ i64       ┆ list[f32] │\n",
      "╞══════════╪════════════╪════════════╪════════════╪═══╪════════╪═══════════╪═══════════╪═══════════╡\n",
      "│ 69836167 ┆ 2025-01-05 ┆ [0.015452, ┆ [-0.002503 ┆ … ┆ black  ┆ 31        ┆ 200       ┆ [0.048453 │\n",
      "│          ┆ 13:04:15.6 ┆ 0.032922,  ┆ ,          ┆   ┆        ┆           ┆           ┆ ,         │\n",
      "│          ┆ 08         ┆ … -0.0129… ┆ 0.020896,  ┆   ┆        ┆           ┆           ┆ -0.00136, │\n",
      "│          ┆            ┆            ┆ … -0.043…  ┆   ┆        ┆           ┆           ┆ …         │\n",
      "│          ┆            ┆            ┆            ┆   ┆        ┆           ┆           ┆ 0.00794…  │\n",
      "│ 69377753 ┆ 2025-01-05 ┆ [-0.009787 ┆ [-0.018295 ┆ … ┆ yellow ┆ 2         ┆ 195       ┆ [-0.02207 │\n",
      "│          ┆ 13:03:45.5 ┆ ,          ┆ ,          ┆   ┆ black  ┆           ┆           ┆ 7,        │\n",
      "│          ┆ 28         ┆ 0.025931,  ┆ -0.020545, ┆   ┆        ┆           ┆           ┆ 0.033437, │\n",
      "│          ┆            ┆ … -0.022…  ┆ … 0.012…   ┆   ┆        ┆           ┆           ┆ … 0.0793… │\n",
      "│ 72419768 ┆ 2025-01-05 ┆ [-0.077011 ┆ [-0.086689 ┆ … ┆ black  ┆ 5         ┆ 50        ┆ [-0.08205 │\n",
      "│          ┆ 13:03:40.6 ┆ ,          ┆ ,          ┆   ┆        ┆           ┆           ┆ 8,        │\n",
      "│          ┆ 34         ┆ -0.039059, ┆ 0.039551,  ┆   ┆        ┆           ┆           ┆ 0.024385, │\n",
      "│          ┆            ┆ … 0.004…   ┆ … -0.009…  ┆   ┆        ┆           ┆           ┆ … 0.0274… │\n",
      "│ 72288097 ┆ 2025-01-05 ┆ [-0.020689 ┆ [-0.040354 ┆ … ┆ beige  ┆ 25        ┆ 150       ┆ [0.048453 │\n",
      "│          ┆ 13:03:13.2 ┆ ,          ┆ ,          ┆   ┆        ┆           ┆           ┆ ,         │\n",
      "│          ┆ 65         ┆ -0.016423, ┆ 0.074573,  ┆   ┆        ┆           ┆           ┆ -0.00136, │\n",
      "│          ┆            ┆ … -0.00…   ┆ … -0.006…  ┆   ┆        ┆           ┆           ┆ …         │\n",
      "│          ┆            ┆            ┆            ┆   ┆        ┆           ┆           ┆ 0.00794…  │\n",
      "│ 72192479 ┆ 2025-01-05 ┆ [-0.032464 ┆ [-0.036968 ┆ … ┆ green  ┆ 40        ┆ 17        ┆ [-0.01701 │\n",
      "│          ┆ 13:02:21.1 ┆ ,          ┆ ,          ┆   ┆        ┆           ┆           ┆ , -0.0180 │\n",
      "│          ┆ 21         ┆ 0.001663,  ┆ 0.008472,  ┆   ┆        ┆           ┆           ┆ 81, …     │\n",
      "│          ┆            ┆ … 0.0133…  ┆ … 0.0070…  ┆   ┆        ┆           ┆           ┆ -0.006…   │\n",
      "│ …        ┆ …          ┆ …          ┆ …          ┆ … ┆ …      ┆ …         ┆ …         ┆ …         │\n",
      "│ 67512984 ┆ 2025-01-05 ┆ [0.005813, ┆ [-0.018141 ┆ … ┆ black  ┆ 1         ┆ 15        ┆ [-0.02566 │\n",
      "│          ┆ 08:55:38.2 ┆ 0.032083,  ┆ ,          ┆   ┆        ┆           ┆           ┆ ,         │\n",
      "│          ┆ 79         ┆ … -0.0209… ┆ 0.007144,  ┆   ┆        ┆           ┆           ┆ 0.074909, │\n",
      "│          ┆            ┆            ┆ … -0.006…  ┆   ┆        ┆           ┆           ┆ …         │\n",
      "│          ┆            ┆            ┆            ┆   ┆        ┆           ┆           ┆ 0.00566…  │\n",
      "│ 69596817 ┆ 2025-01-05 ┆ [-0.01029, ┆ [-0.033123 ┆ … ┆ brown  ┆ 2         ┆ 60        ┆ [-0.03176 │\n",
      "│          ┆ 08:55:32.6 ┆ -0.010609, ┆ ,          ┆   ┆        ┆           ┆           ┆ 5,        │\n",
      "│          ┆ 60         ┆ … 0.0120…  ┆ -0.028433, ┆   ┆        ┆           ┆           ┆ 0.009715, │\n",
      "│          ┆            ┆            ┆ … 0.033…   ┆   ┆        ┆           ┆           ┆ … -0.017… │\n",
      "│ 69739680 ┆ 2025-01-05 ┆ [-0.065828 ┆ [-0.055397 ┆ … ┆ white  ┆ 24        ┆ 47        ┆ [-0.00116 │\n",
      "│          ┆ 08:54:48.8 ┆ ,          ┆ ,          ┆   ┆        ┆           ┆           ┆ 7,        │\n",
      "│          ┆ 83         ┆ 0.029866,  ┆ -0.03599,  ┆   ┆        ┆           ┆           ┆ 0.01413,  │\n",
      "│          ┆            ┆ … 0.0119…  ┆ … 0.0111…  ┆   ┆        ┆           ┆           ┆ …         │\n",
      "│          ┆            ┆            ┆            ┆   ┆        ┆           ┆           ┆ 0.02820…  │\n",
      "│ 67183337 ┆ 2025-01-05 ┆ [-0.025423 ┆ [0.009261, ┆ … ┆ orange ┆ 31        ┆ 110       ┆ [-0.01918 │\n",
      "│          ┆ 08:54:09.2 ┆ ,          ┆ 0.034514,  ┆   ┆        ┆           ┆           ┆ 5, -0.008 │\n",
      "│          ┆ 73         ┆ -0.002557, ┆ … 0.02767… ┆   ┆        ┆           ┆           ┆ 398, …    │\n",
      "│          ┆            ┆ … 0.049…   ┆            ┆   ┆        ┆           ┆           ┆ 0.076…    │\n",
      "│ 71049781 ┆ 2025-01-05 ┆ [-0.005683 ┆ [-0.041291 ┆ … ┆ cream  ┆ 6         ┆ 65        ┆ [0.048453 │\n",
      "│          ┆ 08:51:41.2 ┆ ,          ┆ ,          ┆   ┆        ┆           ┆           ┆ ,         │\n",
      "│          ┆ 31         ┆ 0.027419,  ┆ -0.042822, ┆   ┆        ┆           ┆           ┆ -0.00136, │\n",
      "│          ┆            ┆ … -0.011…  ┆ … 0.028…   ┆   ┆        ┆           ┆           ┆ …         │\n",
      "│          ┆            ┆            ┆            ┆   ┆        ┆           ┆           ┆ 0.00794…  │\n",
      "└──────────┴────────────┴────────────┴────────────┴───┴────────┴───────────┴───────────┴───────────┘\n"
     ]
    },
    {
     "name": "stderr",
     "output_type": "stream",
     "text": [
      "UserWarning: Invalid condition: is_not_specified\n"
     ]
    },
    {
     "data": {
      "text/plain": [
       "(291, 13)"
      ]
     },
     "execution_count": 3,
     "metadata": {},
     "output_type": "execute_result"
    }
   ],
   "source": [
    "from utils.feature_engineering import pipeline\n",
    "df = pipeline(no_of_hits=300)\n",
    "df.shape"
   ]
  },
  {
   "cell_type": "markdown",
   "id": "3ca44fc4-3df9-4e14-a1d6-f6163793af11",
   "metadata": {},
   "source": [
    "## Save data"
   ]
  },
  {
   "cell_type": "code",
   "execution_count": 4,
   "id": "1bc76c0d-86ad-48f5-a8e0-929d3005104a",
   "metadata": {},
   "outputs": [],
   "source": [
    "fs = project.get_feature_store() "
   ]
  },
  {
   "cell_type": "code",
   "execution_count": 5,
   "id": "4ba5cf39-a2ad-4adb-8b0d-2ae050009a41",
   "metadata": {},
   "outputs": [],
   "source": [
    "grailed_items_fg = fs.get_or_create_feature_group(\n",
    "    name='draft_grailed_items',\n",
    "    description='Sold Grailed items',\n",
    "    version=2,\n",
    "    primary_key=['id'],\n",
    "    event_time=\"sold_at\",\n",
    "    # expectation_suite=aq_expectation_suite\n",
    ")"
   ]
  },
  {
   "cell_type": "code",
   "execution_count": 6,
   "id": "a1697d1f-7ca7-4e73-a062-35306db365fd",
   "metadata": {},
   "outputs": [
    {
     "name": "stderr",
     "output_type": "stream",
     "text": [
      "%4|1736092700.741|FAIL|rdkafka#consumer-2| [thrd:ssl://51.161.80.189:9093/bootstrap]: ssl://51.161.80.189:9093/0: Connection setup timed out in state CONNECT (after 30281ms in state CONNECT)\n",
      "Uploading Dataframe: 100.00% |████████████████████████████████████████████████| Rows 291/291 | Elapsed Time: 00:02 | Remaining Time: 00:00\n"
     ]
    },
    {
     "name": "stdout",
     "output_type": "stream",
     "text": [
      "Launching job: draft_grailed_items_2_offline_fg_materialization\n",
      "Job started successfully, you can follow the progress at \n",
      "https://c.app.hopsworks.ai:443/p/1159324/jobs/named/draft_grailed_items_2_offline_fg_materialization/executions\n"
     ]
    },
    {
     "data": {
      "text/plain": [
       "(Job('draft_grailed_items_2_offline_fg_materialization', 'SPARK'), None)"
      ]
     },
     "execution_count": 6,
     "metadata": {},
     "output_type": "execute_result"
    }
   ],
   "source": [
    "grailed_items_fg.insert(df)"
   ]
  },
  {
   "cell_type": "code",
   "execution_count": null,
   "id": "db637fd2-3242-4af9-b4a0-2aae96c36a00",
   "metadata": {},
   "outputs": [],
   "source": [
    "# TODO: Update feature description"
   ]
  }
 ],
 "metadata": {
  "kernelspec": {
   "display_name": "Python 3 (ipykernel)",
   "language": "python",
   "name": "python3"
  },
  "language_info": {
   "codemirror_mode": {
    "name": "ipython",
    "version": 3
   },
   "file_extension": ".py",
   "mimetype": "text/x-python",
   "name": "python",
   "nbconvert_exporter": "python",
   "pygments_lexer": "ipython3",
   "version": "3.11.9"
  }
 },
 "nbformat": 4,
 "nbformat_minor": 5
}
