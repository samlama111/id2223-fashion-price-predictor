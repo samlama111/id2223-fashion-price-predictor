{
 "cells": [
  {
   "cell_type": "code",
   "execution_count": 1,
   "id": "2dd54b5f-73f0-41ef-a58f-00c543acbdb3",
   "metadata": {},
   "outputs": [],
   "source": [
    "import hopsworks"
   ]
  },
  {
   "cell_type": "code",
   "execution_count": 2,
   "id": "bc2924eb",
   "metadata": {},
   "outputs": [
    {
     "data": {
      "text/plain": [
       "{'badges': [],\n",
       " 'bumped_at': '2025-01-02T19:18:19.459Z',\n",
       " 'buynow': True,\n",
       " 'category_path_size': 'bottoms.denim.32',\n",
       " 'category_path': 'bottoms.denim',\n",
       " 'category_size': 'bottoms.32',\n",
       " 'category': 'bottoms',\n",
       " 'color': 'black',\n",
       " 'condition': 'is_used',\n",
       " 'cover_photo': {'id': 523731374,\n",
       "  'listing_id': 72901253,\n",
       "  'image': None,\n",
       "  'created_at': '2025-01-02T19:18:19.417Z',\n",
       "  'updated_at': '2025-01-02T19:18:19.469Z',\n",
       "  'photoable_id': 72901253,\n",
       "  'photoable_type': 'Listing',\n",
       "  'width': None,\n",
       "  'height': None,\n",
       "  'url': 'https://media-assets.grailed.com/prd/listing/temp/858a575a33ce4d9eb30ecf5cd2fd9b91',\n",
       "  'position': 0,\n",
       "  'rotate': 0,\n",
       "  'image_url': 'https://media-assets.grailed.com/prd/listing/temp/858a575a33ce4d9eb30ecf5cd2fd9b91'},\n",
       " 'created_at_i': 1735845509,\n",
       " 'created_at': '2025-01-02T19:18:29.301Z',\n",
       " 'deleted': False,\n",
       " 'department': 'menswear',\n",
       " 'description': 'Distressed throughout, see pics\\n505 model\\nGrey/black wash\\n\\nONLY SHIPPING TO CANADA AND USA',\n",
       " 'designer_names': \"Levi's × Vintage\",\n",
       " 'designers': [{'id': 265, 'name': \"Levi's\"}, {'id': 160, 'name': 'Vintage'}],\n",
       " 'dropped': False,\n",
       " 'followerno': 1,\n",
       " 'hashtags': ['black',\n",
       "  'jeans',\n",
       "  'denim',\n",
       "  'grey',\n",
       "  'levis',\n",
       "  'faded',\n",
       "  'distressed',\n",
       "  'washed'],\n",
       " 'heat_f': 4038.877962962963,\n",
       " 'id': 72901253,\n",
       " 'location': 'Canada',\n",
       " 'makeoffer': True,\n",
       " 'marketplace': 'grailed',\n",
       " 'price_drops': [],\n",
       " 'price_i': 45,\n",
       " 'price_updated_at_i': 1735845509,\n",
       " 'price_updated_at': '2025-01-02T19:18:29.301Z',\n",
       " 'price': 45,\n",
       " 'product_id': None,\n",
       " 'repost_id': None,\n",
       " 'size': '32',\n",
       " 'sku_id': None,\n",
       " 'sold_at': '2025-01-06T11:09:33.919Z',\n",
       " 'sold': True,\n",
       " 'strata': 'basic',\n",
       " 'title': 'VINTAGE LEVIS 505s BLACK/GREY DISTRESSED',\n",
       " 'traits': [{'name': 'color', 'value': 'black'}],\n",
       " 'user': {'id': 467592,\n",
       "  'username': 'benrunciman',\n",
       "  'aggregate_feedback_count': 146,\n",
       "  'total_bought_and_sold': 146,\n",
       "  'avatar_url': 'https://media-assets.grailed.com/prd/avatar/467592/f09049ee4e2c4e8598f69f2a75d5807c',\n",
       "  'seller_score': {'rating_average': 4.882352941176471, 'rating_count': 51},\n",
       "  'trusted_seller': True},\n",
       " 'sold_price': 40,\n",
       " 'sold_price_includes_shipping': False,\n",
       " 'sold_shipping_price': 19,\n",
       " 'sold_at_i': 1736161773,\n",
       " 'shipping': {'us': {'amount': 19, 'enabled': True},\n",
       "  'ca': {'amount': 15, 'enabled': True},\n",
       "  'uk': {'amount': 0, 'enabled': False},\n",
       "  'eu': {'amount': 0, 'enabled': False},\n",
       "  'asia': {'amount': 0, 'enabled': False},\n",
       "  'au': {'amount': 0, 'enabled': False},\n",
       "  'other': {'amount': 0, 'enabled': False}},\n",
       " 'heat_recency': 8077.755925925926,\n",
       " 'objectID': '72901253',\n",
       " '_highlightResult': {'category': {'value': 'bottoms',\n",
       "   'matchLevel': 'none',\n",
       "   'matchedWords': []},\n",
       "  'color': {'value': 'black', 'matchLevel': 'none', 'matchedWords': []},\n",
       "  'designers': [{'name': {'value': \"Levi's\",\n",
       "     'matchLevel': 'none',\n",
       "     'matchedWords': []}},\n",
       "   {'name': {'value': 'Vintage', 'matchLevel': 'none', 'matchedWords': []}}],\n",
       "  'hashtags': [{'value': 'black', 'matchLevel': 'none', 'matchedWords': []},\n",
       "   {'value': 'jeans', 'matchLevel': 'none', 'matchedWords': []},\n",
       "   {'value': 'denim', 'matchLevel': 'none', 'matchedWords': []},\n",
       "   {'value': 'grey', 'matchLevel': 'none', 'matchedWords': []},\n",
       "   {'value': 'levis', 'matchLevel': 'none', 'matchedWords': []},\n",
       "   {'value': 'faded', 'matchLevel': 'none', 'matchedWords': []},\n",
       "   {'value': 'distressed', 'matchLevel': 'none', 'matchedWords': []},\n",
       "   {'value': 'washed', 'matchLevel': 'none', 'matchedWords': []}],\n",
       "  'location': {'value': 'Canada', 'matchLevel': 'none', 'matchedWords': []},\n",
       "  'size': {'value': '32', 'matchLevel': 'none', 'matchedWords': []},\n",
       "  'title': {'value': 'VINTAGE LEVIS 505s BLACK/GREY DISTRESSED',\n",
       "   'matchLevel': 'none',\n",
       "   'matchedWords': []},\n",
       "  'user': {'id': {'value': '467592', 'matchLevel': 'none', 'matchedWords': []},\n",
       "   'username': {'value': 'benrunciman',\n",
       "    'matchLevel': 'none',\n",
       "    'matchedWords': []},\n",
       "   'aggregate_feedback_count': {'value': '146',\n",
       "    'matchLevel': 'none',\n",
       "    'matchedWords': []},\n",
       "   'total_bought_and_sold': {'value': '146',\n",
       "    'matchLevel': 'none',\n",
       "    'matchedWords': []},\n",
       "   'avatar_url': {'value': 'https://media-assets.grailed.com/prd/avatar/467592/f09049ee4e2c4e8598f69f2a75d5807c',\n",
       "    'matchLevel': 'none',\n",
       "    'matchedWords': []},\n",
       "   'seller_score': {'rating_average': {'value': '4.882352941176471',\n",
       "     'matchLevel': 'none',\n",
       "     'matchedWords': []},\n",
       "    'rating_count': {'value': '51',\n",
       "     'matchLevel': 'none',\n",
       "     'matchedWords': []}}}},\n",
       " '_rankingInfo': {'nbTypos': 0,\n",
       "  'firstMatchedWord': 0,\n",
       "  'proximityDistance': 0,\n",
       "  'userScore': 200,\n",
       "  'geoDistance': 0,\n",
       "  'geoPrecision': 1,\n",
       "  'nbExactWords': 0,\n",
       "  'words': 0,\n",
       "  'filters': 1}}"
      ]
     },
     "execution_count": 2,
     "metadata": {},
     "output_type": "execute_result"
    }
   ],
   "source": [
    "from utils.feature_engineering import get_latest_sold_products\n",
    "get_latest_sold_products()[0]"
   ]
  },
  {
   "cell_type": "code",
   "execution_count": 3,
   "id": "8a5d4bee-9601-4e64-9b64-6b705078cf32",
   "metadata": {},
   "outputs": [
    {
     "name": "stdout",
     "output_type": "stream",
     "text": [
      "2025-01-06 12:12:39,714 INFO: Initializing external client\n",
      "2025-01-06 12:12:39,716 INFO: Base URL: https://c.app.hopsworks.ai:443\n",
      "2025-01-06 12:12:41,670 INFO: Python Engine initialized.\n",
      "\n",
      "Logged in to project, explore it here https://c.app.hopsworks.ai:443/p/1159324\n"
     ]
    }
   ],
   "source": [
    "from dotenv import load_dotenv\n",
    "load_dotenv()\n",
    "    \n",
    "project = hopsworks.login()"
   ]
  },
  {
   "cell_type": "markdown",
   "id": "6620f0cd-3897-463b-98df-0695de3b81b1",
   "metadata": {},
   "source": [
    "## Get data"
   ]
  },
  {
   "cell_type": "markdown",
   "id": "e3cef177",
   "metadata": {},
   "source": [
    "### Quick data exploration\n",
    "Taken from https://graildient-descent.streamlit.app/eda, using 10,000 samples.\n",
    "We could do the same using the larger dataset.\n",
    "\n",
    "#### Numerical/quantitative features\n",
    "Target variable (sold_price):\n",
    "- Most sold items are between 35-135$ (consider plotting bins) - consider outliers, since we are far from normal distribution, maybe try a log transformation?\n",
    "\n",
    "Number of photos:\n",
    "- Another numerical feature, could be added\n",
    "- Price increases until 13 photos, then inconsistent\n",
    "\n",
    "#### Categorical/qualitative features\n",
    "- high-cardinality: designer, color, subcategory, size\n",
    "- low-cardinality: category, condition\n",
    "\n",
    "Target encoding more fitting for high-cardinality features. Whereas low-cardinality features could be one-hot encoded.\n",
    "\n",
    "- designer a strong predictor\n",
    "- we skip department, to focus on men's clothing only (it has better representation)\n",
    "- there is good variation of sold prices in different subcategories => probably a good indicator\n",
    "- could be interesting to use embeddings for color instead\n",
    "- condition - perfect for ordinal encoding. The better the condition, the higher the average sold price.\n",
    "\n",
    "##### Text\n",
    "- title/description - should we do any pre-processing?\n",
    "- we could look at sentiment and similar text analysis approaches\n",
    "\n",
    "#### Images\n",
    "- could be interesting to add embedding representation of title image"
   ]
  },
  {
   "cell_type": "markdown",
   "id": "331c9062-70aa-4658-ba16-da30eea12f10",
   "metadata": {},
   "source": [
    "## Feature processing"
   ]
  },
  {
   "cell_type": "code",
   "execution_count": 4,
   "id": "80d488b4-a714-4fcd-b91e-16d4966af211",
   "metadata": {},
   "outputs": [
    {
     "name": "stdout",
     "output_type": "stream",
     "text": [
      "embedding designer names\n",
      "embedding descriptions\n",
      "embedding titles\n",
      "embedding hashtags\n",
      "embedding size\n",
      "shape: (1_000, 12)\n",
      "┌──────────┬───────────┬───────────┬───────────┬───┬───────────┬───────────┬───────────┬───────────┐\n",
      "│ id       ┆ sold_at   ┆ designer_ ┆ descripti ┆ … ┆ size      ┆ color     ┆ followern ┆ sold_pric │\n",
      "│ ---      ┆ ---       ┆ names     ┆ on        ┆   ┆ ---       ┆ ---       ┆ o         ┆ e         │\n",
      "│ i64      ┆ datetime[ ┆ ---       ┆ ---       ┆   ┆ list[f32] ┆ i64       ┆ ---       ┆ ---       │\n",
      "│          ┆ μs]       ┆ list[f32] ┆ list[f32] ┆   ┆           ┆           ┆ i64       ┆ i64       │\n",
      "╞══════════╪═══════════╪═══════════╪═══════════╪═══╪═══════════╪═══════════╪═══════════╪═══════════╡\n",
      "│ 72901253 ┆ 2025-01-0 ┆ [-0.06294 ┆ [-0.00694 ┆ … ┆ [0.0,     ┆ 146781285 ┆ 1         ┆ 40        │\n",
      "│          ┆ 6 11:09:3 ┆ ,         ┆ 1,        ┆   ┆ 0.0, …    ┆           ┆           ┆           │\n",
      "│          ┆ 3.919     ┆ 0.025376, ┆ 0.023401, ┆   ┆ 0.0]      ┆           ┆           ┆           │\n",
      "│          ┆           ┆ …         ┆ … -0.032… ┆   ┆           ┆           ┆           ┆           │\n",
      "│          ┆           ┆ 0.02077…  ┆           ┆   ┆           ┆           ┆           ┆           │\n",
      "│ 72037915 ┆ 2025-01-0 ┆ [-0.01415 ┆ [-0.01891 ┆ … ┆ [0.0,     ┆ 146781285 ┆ 29        ┆ 57        │\n",
      "│          ┆ 6 11:09:3 ┆ ,         ┆ 2, -0.013 ┆   ┆ 0.0, …    ┆           ┆           ┆           │\n",
      "│          ┆ 3.464     ┆ 0.006068, ┆ 401, …    ┆   ┆ 0.0]      ┆           ┆           ┆           │\n",
      "│          ┆           ┆ …         ┆ 0.015…    ┆   ┆           ┆           ┆           ┆           │\n",
      "│          ┆           ┆ 0.01363…  ┆           ┆   ┆           ┆           ┆           ┆           │\n",
      "│ 72939808 ┆ 2025-01-0 ┆ [-0.06938 ┆ [-0.02562 ┆ … ┆ [0.0,     ┆ 127075962 ┆ 1         ┆ 60        │\n",
      "│          ┆ 6 11:09:2 ┆ 6,        ┆ 4, -0.008 ┆   ┆ 0.0, …    ┆ 3         ┆           ┆           │\n",
      "│          ┆ 0.398     ┆ 0.019717, ┆ 904, …    ┆   ┆ 0.0]      ┆           ┆           ┆           │\n",
      "│          ┆           ┆ … 0.0610… ┆ 0.050…    ┆   ┆           ┆           ┆           ┆           │\n",
      "│ 72435148 ┆ 2025-01-0 ┆ [-0.04785 ┆ [-0.05416 ┆ … ┆ [0.0,     ┆ 146781285 ┆ 8         ┆ 162       │\n",
      "│          ┆ 6 11:08:5 ┆ 1,        ┆ 4, -0.025 ┆   ┆ 0.0, …    ┆           ┆           ┆           │\n",
      "│          ┆ 0.601     ┆ 0.041979, ┆ 212, …    ┆   ┆ 0.0]      ┆           ┆           ┆           │\n",
      "│          ┆           ┆ … -0.040… ┆ 0.008…    ┆   ┆           ┆           ┆           ┆           │\n",
      "│ 72961937 ┆ 2025-01-0 ┆ [-0.04142 ┆ [-0.04120 ┆ … ┆ [0.0,     ┆ 258783570 ┆ 19        ┆ 220       │\n",
      "│          ┆ 6 11:07:4 ┆ 5,        ┆ 2, -0.006 ┆   ┆ 0.0, …    ┆ 0         ┆           ┆           │\n",
      "│          ┆ 1.299     ┆ 0.00353,  ┆ 621, …    ┆   ┆ 0.0]      ┆           ┆           ┆           │\n",
      "│          ┆           ┆ …         ┆ 0.008…    ┆   ┆           ┆           ┆           ┆           │\n",
      "│          ┆           ┆ -0.0031…  ┆           ┆   ┆           ┆           ┆           ┆           │\n",
      "│ …        ┆ …         ┆ …         ┆ …         ┆ … ┆ …         ┆ …         ┆ …         ┆ …         │\n",
      "│ 72985719 ┆ 2025-01-0 ┆ [-0.01415 ┆ [-0.04609 ┆ … ┆ [0.0,     ┆ 401324798 ┆ 29        ┆ 50        │\n",
      "│          ┆ 6 02:52:4 ┆ ,         ┆ 9,        ┆   ┆ 0.0, …    ┆ 3         ┆           ┆           │\n",
      "│          ┆ 4.594     ┆ 0.006068, ┆ 0.011678, ┆   ┆ 0.0]      ┆           ┆           ┆           │\n",
      "│          ┆           ┆ …         ┆ … 0.0038… ┆   ┆           ┆           ┆           ┆           │\n",
      "│          ┆           ┆ 0.01363…  ┆           ┆   ┆           ┆           ┆           ┆           │\n",
      "│ 72772517 ┆ 2025-01-0 ┆ [-0.04770 ┆ [-0.00792 ┆ … ┆ [0.0,     ┆ 404883340 ┆ 33        ┆ 100       │\n",
      "│          ┆ 6 02:52:3 ┆ 5,        ┆ 9,        ┆   ┆ 0.0, …    ┆ 9         ┆           ┆           │\n",
      "│          ┆ 5.168     ┆ 0.042743, ┆ 0.061717, ┆   ┆ 0.0]      ┆           ┆           ┆           │\n",
      "│          ┆           ┆ … -0.013… ┆ … -0.027… ┆   ┆           ┆           ┆           ┆           │\n",
      "│ 72880566 ┆ 2025-01-0 ┆ [-0.06451 ┆ [-0.08214 ┆ … ┆ [0.0,     ┆ 307756250 ┆ 69        ┆ 149       │\n",
      "│          ┆ 6 02:52:3 ┆ , -0.0267 ┆ 2,        ┆   ┆ 0.0, …    ┆ 3         ┆           ┆           │\n",
      "│          ┆ 1.846     ┆ 26, …     ┆ 0.008834, ┆   ┆ 0.0]      ┆           ┆           ┆           │\n",
      "│          ┆           ┆ -0.020…   ┆ … 0.0179… ┆   ┆           ┆           ┆           ┆           │\n",
      "│ 63869964 ┆ 2025-01-0 ┆ [-0.01356 ┆ [-0.03003 ┆ … ┆ [0.0,     ┆ 379416091 ┆ 1         ┆ 22        │\n",
      "│          ┆ 6 02:52:0 ┆ 7,        ┆ 3, -0.019 ┆   ┆ 0.0, …    ┆ 7         ┆           ┆           │\n",
      "│          ┆ 0.774     ┆ 0.047851, ┆ 551, …    ┆   ┆ 0.0]      ┆           ┆           ┆           │\n",
      "│          ┆           ┆ … -0.002… ┆ 0.023…    ┆   ┆           ┆           ┆           ┆           │\n",
      "│ 73024214 ┆ 2025-01-0 ┆ [0.01341, ┆ [-0.05679 ┆ … ┆ [0.0,     ┆ 146781285 ┆ 8         ┆ 250       │\n",
      "│          ┆ 6 02:51:4 ┆ -0.076744 ┆ 6, -0.016 ┆   ┆ 0.0, …    ┆           ┆           ┆           │\n",
      "│          ┆ 0.690     ┆ , …       ┆ 828, …    ┆   ┆ 0.0]      ┆           ┆           ┆           │\n",
      "│          ┆           ┆ -0.0500…  ┆ -0.01…    ┆   ┆           ┆           ┆           ┆           │\n",
      "└──────────┴───────────┴───────────┴───────────┴───┴───────────┴───────────┴───────────┴───────────┘\n"
     ]
    },
    {
     "data": {
      "text/plain": [
       "(1000, 12)"
      ]
     },
     "execution_count": 4,
     "metadata": {},
     "output_type": "execute_result"
    }
   ],
   "source": [
    "from utils.feature_engineering import pipeline\n",
    "df = pipeline(no_of_hits=2000)\n",
    "df.shape"
   ]
  },
  {
   "cell_type": "markdown",
   "id": "3ca44fc4-3df9-4e14-a1d6-f6163793af11",
   "metadata": {},
   "source": [
    "## Save data"
   ]
  },
  {
   "cell_type": "code",
   "execution_count": 5,
   "id": "1bc76c0d-86ad-48f5-a8e0-929d3005104a",
   "metadata": {},
   "outputs": [],
   "source": [
    "fs = project.get_feature_store() "
   ]
  },
  {
   "cell_type": "code",
   "execution_count": 6,
   "id": "4ba5cf39-a2ad-4adb-8b0d-2ae050009a41",
   "metadata": {},
   "outputs": [],
   "source": [
    "grailed_items_fg = fs.get_or_create_feature_group(\n",
    "    name='draft_grailed_items',\n",
    "    description='Sold Grailed items',\n",
    "    version=4,\n",
    "    primary_key=['id'],\n",
    "    event_time=\"sold_at\",\n",
    "    # expectation_suite=aq_expectation_suite\n",
    ")"
   ]
  },
  {
   "cell_type": "code",
   "execution_count": 7,
   "id": "a1697d1f-7ca7-4e73-a062-35306db365fd",
   "metadata": {},
   "outputs": [
    {
     "name": "stderr",
     "output_type": "stream",
     "text": [
      "Uploading Dataframe: 100.00% |█████████████| Rows 1000/1000 | Elapsed Time: 00:04 | Remaining Time: 00:00\n",
      "UserWarning: Materialization job is already running, aborting new execution.Please wait for the current execution to finish before triggering a new one.You can check the status of the current execution using `fg.materialization_job.get_state()`.or `fg.materialization_job.get_final_state()` or check it out in the Hopsworks UI.at https://c.app.hopsworks.ai:443/p/1159324/jobs/named/draft_grailed_items_4_offline_fg_materialization.\n",
      "Use fg.materialization_job.run(args=-op offline_fg_materialization -path hdfs:///Projects/id2223_assignment1/Resources/jobs/draft_grailed_items_4_offline_fg_materialization/config_1736098402159) to trigger the materialization job again.\n"
     ]
    },
    {
     "data": {
      "text/plain": [
       "(Job('draft_grailed_items_4_offline_fg_materialization', 'SPARK'), None)"
      ]
     },
     "execution_count": 7,
     "metadata": {},
     "output_type": "execute_result"
    }
   ],
   "source": [
    "grailed_items_fg.insert(df)"
   ]
  },
  {
   "cell_type": "code",
   "execution_count": 8,
   "id": "db637fd2-3242-4af9-b4a0-2aae96c36a00",
   "metadata": {},
   "outputs": [],
   "source": [
    "# TODO: Update feature description"
   ]
  }
 ],
 "metadata": {
  "kernelspec": {
   "display_name": "Python 3 (ipykernel)",
   "language": "python",
   "name": "python3"
  },
  "language_info": {
   "codemirror_mode": {
    "name": "ipython",
    "version": 3
   },
   "file_extension": ".py",
   "mimetype": "text/x-python",
   "name": "python",
   "nbconvert_exporter": "python",
   "pygments_lexer": "ipython3",
   "version": "3.11.9"
  }
 },
 "nbformat": 4,
 "nbformat_minor": 5
}
