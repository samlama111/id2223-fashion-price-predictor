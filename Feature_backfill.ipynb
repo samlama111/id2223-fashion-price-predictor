{
 "cells": [
  {
   "cell_type": "code",
   "execution_count": 1,
   "id": "2dd54b5f-73f0-41ef-a58f-00c543acbdb3",
   "metadata": {},
   "outputs": [],
   "source": [
    "import hopsworks"
   ]
  },
  {
   "cell_type": "code",
   "execution_count": 2,
   "id": "bc2924eb",
   "metadata": {},
   "outputs": [
    {
     "data": {
      "text/plain": [
       "{'badges': [],\n",
       " 'bumped_at': '2025-01-03T13:29:07.940Z',\n",
       " 'buynow': True,\n",
       " 'category_path_size': 'footwear.lowtop_sneakers.10',\n",
       " 'category_path': 'footwear.lowtop_sneakers',\n",
       " 'category_size': 'footwear.10',\n",
       " 'category': 'footwear',\n",
       " 'color': 'black',\n",
       " 'condition': 'is_new',\n",
       " 'cover_photo': {'id': 513226876,\n",
       "  'listing_id': 71590415,\n",
       "  'image': None,\n",
       "  'created_at': '2024-08-20T10:21:16.176Z',\n",
       "  'updated_at': '2024-12-06T13:28:58.678Z',\n",
       "  'photoable_id': 71590415,\n",
       "  'photoable_type': 'Listing',\n",
       "  'width': 1200,\n",
       "  'height': 1600,\n",
       "  'url': 'https://media-assets.grailed.com/prd/listing/temp/13c3a8cc3bff426b96c3c7275174fbd8',\n",
       "  'position': 0,\n",
       "  'rotate': 0,\n",
       "  'image_url': 'https://media-assets.grailed.com/prd/listing/temp/13c3a8cc3bff426b96c3c7275174fbd8'},\n",
       " 'created_at_i': 1733491738,\n",
       " 'created_at': '2024-12-06T13:28:58.738Z',\n",
       " 'deleted': False,\n",
       " 'department': 'menswear',\n",
       " 'description': 'Brand new, never worn and comes the original shoebox and everything that comes with it\\n\\n100% authentic, bought from an official retailer.\\n\\nThe price is including Shipping with FedEx.',\n",
       " 'designer_names': 'Balenciaga',\n",
       " 'designers': [{'id': 136, 'name': 'Balenciaga'}],\n",
       " 'dropped': False,\n",
       " 'followerno': 16,\n",
       " 'hashtags': [],\n",
       " 'heat_f': 4014.635243055556,\n",
       " 'id': 71590415,\n",
       " 'location': 'Europe',\n",
       " 'makeoffer': False,\n",
       " 'marketplace': 'grailed',\n",
       " 'price_drops': [],\n",
       " 'price_i': 1259,\n",
       " 'price_updated_at_i': 1735910920,\n",
       " 'price_updated_at': '2025-01-03T13:28:40.371Z',\n",
       " 'price': 1259,\n",
       " 'product_id': None,\n",
       " 'repost_id': None,\n",
       " 'size': '10',\n",
       " 'sku_id': None,\n",
       " 'sold_at': '2025-01-07T15:22:40.967Z',\n",
       " 'sold': True,\n",
       " 'strata': 'grailed',\n",
       " 'title': 'Balenciaga 10XL Black Low Top Sneakers New FW24',\n",
       " 'traits': [{'name': 'color', 'value': 'black'}],\n",
       " 'user': {'id': 461153,\n",
       "  'username': 'Cravingszfashion',\n",
       "  'aggregate_feedback_count': 1625,\n",
       "  'total_bought_and_sold': 1625,\n",
       "  'avatar_url': 'https://media-assets.grailed.com/prd/avatar/461153/52251cf2db234fc497be9619ca40a76d',\n",
       "  'seller_score': {'rating_average': 4.944944301628106, 'rating_count': 778},\n",
       "  'trusted_seller': True},\n",
       " 'sold_price': 1259,\n",
       " 'sold_price_includes_shipping': False,\n",
       " 'sold_shipping_price': 0,\n",
       " 'sold_at_i': 1736263360,\n",
       " 'shipping': {'us': {'amount': 0, 'enabled': True},\n",
       "  'ca': {'amount': 0, 'enabled': True},\n",
       "  'uk': {'amount': 0, 'enabled': True},\n",
       "  'eu': {'amount': 0, 'enabled': True},\n",
       "  'asia': {'amount': 0, 'enabled': True},\n",
       "  'au': {'amount': 0, 'enabled': True},\n",
       "  'other': {'amount': 0, 'enabled': True}},\n",
       " 'heat_recency': 8026.270486111111,\n",
       " 'objectID': '71590415',\n",
       " '_highlightResult': {'category': {'value': 'footwear',\n",
       "   'matchLevel': 'none',\n",
       "   'matchedWords': []},\n",
       "  'color': {'value': 'black', 'matchLevel': 'none', 'matchedWords': []},\n",
       "  'designers': [{'name': {'value': 'Balenciaga',\n",
       "     'matchLevel': 'none',\n",
       "     'matchedWords': []}}],\n",
       "  'location': {'value': 'Europe', 'matchLevel': 'none', 'matchedWords': []},\n",
       "  'size': {'value': '10', 'matchLevel': 'none', 'matchedWords': []},\n",
       "  'title': {'value': 'Balenciaga 10XL Black Low Top Sneakers New FW24',\n",
       "   'matchLevel': 'none',\n",
       "   'matchedWords': []},\n",
       "  'user': {'id': {'value': '461153', 'matchLevel': 'none', 'matchedWords': []},\n",
       "   'username': {'value': 'Cravingszfashion',\n",
       "    'matchLevel': 'none',\n",
       "    'matchedWords': []},\n",
       "   'aggregate_feedback_count': {'value': '1625',\n",
       "    'matchLevel': 'none',\n",
       "    'matchedWords': []},\n",
       "   'total_bought_and_sold': {'value': '1625',\n",
       "    'matchLevel': 'none',\n",
       "    'matchedWords': []},\n",
       "   'avatar_url': {'value': 'https://media-assets.grailed.com/prd/avatar/461153/52251cf2db234fc497be9619ca40a76d',\n",
       "    'matchLevel': 'none',\n",
       "    'matchedWords': []},\n",
       "   'seller_score': {'rating_average': {'value': '4.944944301628106',\n",
       "     'matchLevel': 'none',\n",
       "     'matchedWords': []},\n",
       "    'rating_count': {'value': '778',\n",
       "     'matchLevel': 'none',\n",
       "     'matchedWords': []}}}},\n",
       " '_rankingInfo': {'nbTypos': 0,\n",
       "  'firstMatchedWord': 0,\n",
       "  'proximityDistance': 0,\n",
       "  'userScore': 200,\n",
       "  'geoDistance': 0,\n",
       "  'geoPrecision': 1,\n",
       "  'nbExactWords': 0,\n",
       "  'words': 0,\n",
       "  'filters': 1}}"
      ]
     },
     "execution_count": 2,
     "metadata": {},
     "output_type": "execute_result"
    }
   ],
   "source": [
    "from utils.feature_engineering import get_latest_sold_products\n",
    "get_latest_sold_products()[0]"
   ]
  },
  {
   "cell_type": "code",
   "execution_count": 3,
   "id": "8a5d4bee-9601-4e64-9b64-6b705078cf32",
   "metadata": {},
   "outputs": [
    {
     "name": "stdout",
     "output_type": "stream",
     "text": [
      "2025-01-07 16:23:30,902 INFO: Initializing external client\n",
      "2025-01-07 16:23:30,904 INFO: Base URL: https://c.app.hopsworks.ai:443\n",
      "2025-01-07 16:23:32,809 INFO: Python Engine initialized.\n",
      "\n",
      "Logged in to project, explore it here https://c.app.hopsworks.ai:443/p/1159324\n"
     ]
    }
   ],
   "source": [
    "from dotenv import load_dotenv\n",
    "load_dotenv()\n",
    "    \n",
    "project = hopsworks.login()"
   ]
  },
  {
   "cell_type": "markdown",
   "id": "6620f0cd-3897-463b-98df-0695de3b81b1",
   "metadata": {},
   "source": [
    "## Get data"
   ]
  },
  {
   "cell_type": "markdown",
   "id": "e3cef177",
   "metadata": {},
   "source": [
    "### Quick data exploration\n",
    "Taken from https://graildient-descent.streamlit.app/eda, using 10,000 samples.\n",
    "We could do the same using the larger dataset.\n",
    "\n",
    "#### Numerical/quantitative features\n",
    "Target variable (sold_price):\n",
    "- Most sold items are between 35-135$ (consider plotting bins) - consider outliers, since we are far from normal distribution, maybe try a log transformation?\n",
    "\n",
    "Number of photos:\n",
    "- Another numerical feature, could be added\n",
    "- Price increases until 13 photos, then inconsistent\n",
    "\n",
    "#### Categorical/qualitative features\n",
    "- high-cardinality: designer, color, subcategory, size\n",
    "- low-cardinality: category, condition\n",
    "\n",
    "Target encoding more fitting for high-cardinality features. Whereas low-cardinality features could be one-hot encoded.\n",
    "\n",
    "- designer a strong predictor\n",
    "- we skip department, to focus on men's clothing only (it has better representation)\n",
    "- there is good variation of sold prices in different subcategories => probably a good indicator\n",
    "- could be interesting to use embeddings for color instead\n",
    "- condition - perfect for ordinal encoding. The better the condition, the higher the average sold price.\n",
    "\n",
    "##### Text\n",
    "- title/description - should we do any pre-processing?\n",
    "- we could look at sentiment and similar text analysis approaches\n",
    "\n",
    "#### Images\n",
    "- could be interesting to add embedding representation of title image"
   ]
  },
  {
   "cell_type": "markdown",
   "id": "331c9062-70aa-4658-ba16-da30eea12f10",
   "metadata": {},
   "source": [
    "## Feature processing"
   ]
  },
  {
   "cell_type": "code",
   "execution_count": 4,
   "id": "80d488b4-a714-4fcd-b91e-16d4966af211",
   "metadata": {},
   "outputs": [
    {
     "name": "stdout",
     "output_type": "stream",
     "text": [
      "embedding designer names\n",
      "embedding descriptions\n",
      "embedding titles\n",
      "embedding hashtags\n",
      "embedding size\n",
      "shape: (1_000, 12)\n",
      "┌──────────┬───────────┬───────────┬───────────┬───┬───────────┬───────────┬───────────┬───────────┐\n",
      "│ id       ┆ sold_at   ┆ designer_ ┆ descripti ┆ … ┆ size      ┆ color     ┆ followern ┆ sold_pric │\n",
      "│ ---      ┆ ---       ┆ names     ┆ on        ┆   ┆ ---       ┆ ---       ┆ o         ┆ e         │\n",
      "│ i64      ┆ datetime[ ┆ ---       ┆ ---       ┆   ┆ list[f32] ┆ i64       ┆ ---       ┆ ---       │\n",
      "│          ┆ μs]       ┆ list[f32] ┆ list[f32] ┆   ┆           ┆           ┆ i64       ┆ i64       │\n",
      "╞══════════╪═══════════╪═══════════╪═══════════╪═══╪═══════════╪═══════════╪═══════════╪═══════════╡\n",
      "│ 71590415 ┆ 2025-01-0 ┆ [0.007445 ┆ [-0.01228 ┆ … ┆ [-0.04139 ┆ 418332173 ┆ 16        ┆ 1259      │\n",
      "│          ┆ 7 15:22:4 ┆ ,         ┆ 6,        ┆   ┆ , -0.0250 ┆ 0         ┆           ┆           │\n",
      "│          ┆ 0.967     ┆ 0.028137, ┆ 0.000737, ┆   ┆ 74, …     ┆           ┆           ┆           │\n",
      "│          ┆           ┆ …         ┆ … 0.0120… ┆   ┆ 0.0037…   ┆           ┆           ┆           │\n",
      "│          ┆           ┆ 0.04203…  ┆           ┆   ┆           ┆           ┆           ┆           │\n",
      "│ 72598608 ┆ 2025-01-0 ┆ [-0.07850 ┆ [-0.04239 ┆ … ┆ [-0.06392 ┆ 873791028 ┆ 32        ┆ 300       │\n",
      "│          ┆ 7 15:22:3 ┆ 2, -0.003 ┆ 4,        ┆   ┆ 4, -0.068 ┆           ┆           ┆           │\n",
      "│          ┆ 0.926     ┆ 358, …    ┆ 0.003756, ┆   ┆ 613, …    ┆           ┆           ┆           │\n",
      "│          ┆           ┆ 0.035…    ┆ … -0.011… ┆   ┆ 0.066…    ┆           ┆           ┆           │\n",
      "│ 72556946 ┆ 2025-01-0 ┆ [-0.03603 ┆ [-0.01144 ┆ … ┆ [-0.02784 ┆ 497044328 ┆ 23        ┆ 250       │\n",
      "│          ┆ 7 15:22:2 ┆ 4,        ┆ 7, -0.008 ┆   ┆ 9,        ┆           ┆           ┆           │\n",
      "│          ┆ 3.812     ┆ 0.025708, ┆ 709, …    ┆   ┆ 0.001638, ┆           ┆           ┆           │\n",
      "│          ┆           ┆ … 0.0509… ┆ 0.038…    ┆   ┆ … 0.0035… ┆           ┆           ┆           │\n",
      "│ 73038765 ┆ 2025-01-0 ┆ [-0.04083 ┆ [-0.00792 ┆ … ┆ [-0.02784 ┆ 873791028 ┆ 1         ┆ 75        │\n",
      "│          ┆ 7 15:22:1 ┆ 4, -0.043 ┆ 9, -0.015 ┆   ┆ 9,        ┆           ┆           ┆           │\n",
      "│          ┆ 3.937     ┆ 366, …    ┆ 964, …    ┆   ┆ 0.001638, ┆           ┆           ┆           │\n",
      "│          ┆           ┆ 0.004…    ┆ 0.000…    ┆   ┆ … 0.0035… ┆           ┆           ┆           │\n",
      "│ 53504302 ┆ 2025-01-0 ┆ [-0.00307 ┆ [-0.01400 ┆ … ┆ [-0.02217 ┆ 418332173 ┆ 4         ┆ 65        │\n",
      "│          ┆ 7 15:21:3 ┆ ,         ┆ 7,        ┆   ┆ 7, -0.019 ┆ 0         ┆           ┆           │\n",
      "│          ┆ 2.285     ┆ 0.009905, ┆ 0.032103, ┆   ┆ 997, …    ┆           ┆           ┆           │\n",
      "│          ┆           ┆ …         ┆ … 0.0702… ┆   ┆ 0.011…    ┆           ┆           ┆           │\n",
      "│          ┆           ┆ 0.02724…  ┆           ┆   ┆           ┆           ┆           ┆           │\n",
      "│ …        ┆ …         ┆ …         ┆ …         ┆ … ┆ …         ┆ …         ┆ …         ┆ …         │\n",
      "│ 68657848 ┆ 2025-01-0 ┆ [-0.04142 ┆ [-0.01778 ┆ … ┆ [0.013672 ┆ 282837587 ┆ 22        ┆ 53        │\n",
      "│          ┆ 7 05:01:0 ┆ 5,        ┆ 7,        ┆   ┆ , -0.0403 ┆ 9         ┆           ┆           │\n",
      "│          ┆ 3.906     ┆ 0.00353,  ┆ 0.013504, ┆   ┆ 02, …     ┆           ┆           ┆           │\n",
      "│          ┆           ┆ …         ┆ … 0.0483… ┆   ┆ 0.0217…   ┆           ┆           ┆           │\n",
      "│          ┆           ┆ -0.0031…  ┆           ┆   ┆           ┆           ┆           ┆           │\n",
      "│ 72959754 ┆ 2025-01-0 ┆ [-0.06639 ┆ [-0.06613 ┆ … ┆ [-0.0292, ┆ 418332173 ┆ 16        ┆ 112       │\n",
      "│          ┆ 7 05:00:4 ┆ 3,        ┆ 9,        ┆   ┆ -0.024913 ┆ 0         ┆           ┆           │\n",
      "│          ┆ 7.126     ┆ 0.018617, ┆ 0.069245, ┆   ┆ , …       ┆           ┆           ┆           │\n",
      "│          ┆           ┆ … -0.035… ┆ … 0.0503… ┆   ┆ 0.02582…  ┆           ┆           ┆           │\n",
      "│ 71599892 ┆ 2025-01-0 ┆ [0.001135 ┆ [-0.03034 ┆ … ┆ [0.00709, ┆ 418332173 ┆ 10        ┆ 175       │\n",
      "│          ┆ 7 05:00:0 ┆ , -0.0122 ┆ 5,        ┆   ┆ -0.071197 ┆ 0         ┆           ┆           │\n",
      "│          ┆ 4.628     ┆ 11, …     ┆ 0.009376, ┆   ┆ , …       ┆           ┆           ┆           │\n",
      "│          ┆           ┆ 0.0778…   ┆ … -0.004… ┆   ┆ 0.04592…  ┆           ┆           ┆           │\n",
      "│ 57237033 ┆ 2025-01-0 ┆ [0.001135 ┆ [-0.05460 ┆ … ┆ [0.00709, ┆ 418332173 ┆ 19        ┆ 100       │\n",
      "│          ┆ 7 04:59:5 ┆ , -0.0122 ┆ 7,        ┆   ┆ -0.071197 ┆ 0         ┆           ┆           │\n",
      "│          ┆ 1.613     ┆ 11, …     ┆ 0.042177, ┆   ┆ , …       ┆           ┆           ┆           │\n",
      "│          ┆           ┆ 0.0778…   ┆ … 0.0135… ┆   ┆ 0.04592…  ┆           ┆           ┆           │\n",
      "│ 73048914 ┆ 2025-01-0 ┆ [0.007445 ┆ [-0.01289 ┆ … ┆ [-0.01429 ┆ 303283988 ┆ 17        ┆ 345       │\n",
      "│          ┆ 7 04:59:4 ┆ ,         ┆ 2, -0.036 ┆   ┆ 4, -0.019 ┆ 0         ┆           ┆           │\n",
      "│          ┆ 8.170     ┆ 0.028137, ┆ 497, …    ┆   ┆ 414, …    ┆           ┆           ┆           │\n",
      "│          ┆           ┆ …         ┆ 0.005…    ┆   ┆ 0.053…    ┆           ┆           ┆           │\n",
      "│          ┆           ┆ 0.04203…  ┆           ┆   ┆           ┆           ┆           ┆           │\n",
      "└──────────┴───────────┴───────────┴───────────┴───┴───────────┴───────────┴───────────┴───────────┘\n"
     ]
    },
    {
     "data": {
      "text/plain": [
       "(1000, 12)"
      ]
     },
     "execution_count": 4,
     "metadata": {},
     "output_type": "execute_result"
    }
   ],
   "source": [
    "from utils.feature_engineering import pipeline\n",
    "df = pipeline(no_of_hits=2000)\n",
    "df.shape"
   ]
  },
  {
   "cell_type": "markdown",
   "id": "3ca44fc4-3df9-4e14-a1d6-f6163793af11",
   "metadata": {},
   "source": [
    "## Save data"
   ]
  },
  {
   "cell_type": "code",
   "execution_count": 5,
   "id": "1bc76c0d-86ad-48f5-a8e0-929d3005104a",
   "metadata": {},
   "outputs": [],
   "source": [
    "fs = project.get_feature_store() "
   ]
  },
  {
   "cell_type": "code",
   "execution_count": 6,
   "id": "4ba5cf39-a2ad-4adb-8b0d-2ae050009a41",
   "metadata": {},
   "outputs": [],
   "source": [
    "grailed_items_fg = fs.get_or_create_feature_group(\n",
    "    name='draft_grailed_items',\n",
    "    description='Sold Grailed items',\n",
    "    version=4,\n",
    "    primary_key=['id'],\n",
    "    event_time=\"sold_at\",\n",
    "    # expectation_suite=aq_expectation_suite\n",
    ")"
   ]
  },
  {
   "cell_type": "code",
   "execution_count": 7,
   "id": "a1697d1f-7ca7-4e73-a062-35306db365fd",
   "metadata": {},
   "outputs": [
    {
     "name": "stderr",
     "output_type": "stream",
     "text": [
      "Uploading Dataframe: 100.00% |███████████████████████| Rows 1000/1000 | Elapsed Time: 00:05 | Remaining Time: 00:00\n"
     ]
    },
    {
     "name": "stdout",
     "output_type": "stream",
     "text": [
      "Launching job: draft_grailed_items_4_offline_fg_materialization\n",
      "Job started successfully, you can follow the progress at \n",
      "https://c.app.hopsworks.ai:443/p/1159324/jobs/named/draft_grailed_items_4_offline_fg_materialization/executions\n"
     ]
    },
    {
     "data": {
      "text/plain": [
       "(Job('draft_grailed_items_4_offline_fg_materialization', 'SPARK'), None)"
      ]
     },
     "execution_count": 7,
     "metadata": {},
     "output_type": "execute_result"
    }
   ],
   "source": [
    "grailed_items_fg.insert(df)"
   ]
  },
  {
   "cell_type": "code",
   "execution_count": 8,
   "id": "db637fd2-3242-4af9-b4a0-2aae96c36a00",
   "metadata": {},
   "outputs": [],
   "source": [
    "# TODO: Update feature description"
   ]
  }
 ],
 "metadata": {
  "kernelspec": {
   "display_name": "Python 3 (ipykernel)",
   "language": "python",
   "name": "python3"
  },
  "language_info": {
   "codemirror_mode": {
    "name": "ipython",
    "version": 3
   },
   "file_extension": ".py",
   "mimetype": "text/x-python",
   "name": "python",
   "nbconvert_exporter": "python",
   "pygments_lexer": "ipython3",
   "version": "3.11.9"
  }
 },
 "nbformat": 4,
 "nbformat_minor": 5
}
