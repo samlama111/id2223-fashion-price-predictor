{
 "cells": [
  {
   "cell_type": "code",
   "execution_count": 1,
   "id": "2dd54b5f-73f0-41ef-a58f-00c543acbdb3",
   "metadata": {},
   "outputs": [],
   "source": [
    "import os\n",
    "import hopsworks\n",
    "import polars as pl"
   ]
  },
  {
   "cell_type": "code",
   "execution_count": 2,
   "id": "8a5d4bee-9601-4e64-9b64-6b705078cf32",
   "metadata": {},
   "outputs": [
    {
     "name": "stdout",
     "output_type": "stream",
     "text": [
      "2025-01-05 15:09:17,065 INFO: Initializing external client\n",
      "2025-01-05 15:09:17,066 INFO: Base URL: https://c.app.hopsworks.ai:443\n",
      "2025-01-05 15:09:19,144 INFO: Python Engine initialized.\n",
      "\n",
      "Logged in to project, explore it here https://c.app.hopsworks.ai:443/p/1159324\n"
     ]
    }
   ],
   "source": [
    "with open('data/hopsworks-api-key.txt', 'r') as file:\n",
    "    os.environ[\"HOPSWORKS_API_KEY\"] = file.read().rstrip()\n",
    "    \n",
    "project = hopsworks.login()"
   ]
  },
  {
   "cell_type": "markdown",
   "id": "6620f0cd-3897-463b-98df-0695de3b81b1",
   "metadata": {},
   "source": [
    "## Get data"
   ]
  },
  {
   "cell_type": "code",
   "execution_count": 3,
   "id": "aa708d68-099e-472d-998c-02602b523ca5",
   "metadata": {},
   "outputs": [],
   "source": [
    "from data_collection_preprocessing.load_data import pipeline\n",
    "from datetime import datetime"
   ]
  },
  {
   "cell_type": "code",
   "execution_count": 4,
   "id": "96ba6484-dd85-4744-9206-8d3c285e6b23",
   "metadata": {},
   "outputs": [],
   "source": [
    "current_time = datetime.now().strftime(\"%Y-%m-%d_%H-%M-%S\")\n",
    "raw_df = pipeline(no_of_hits=2000)\n",
    "raw_df.write_parquet(f'data/grailed_items_{current_time}.parquet')"
   ]
  },
  {
   "cell_type": "code",
   "execution_count": 5,
   "id": "3bd5a2dd",
   "metadata": {},
   "outputs": [
    {
     "data": {
      "text/html": [
       "<div><style>\n",
       ".dataframe > thead > tr,\n",
       ".dataframe > tbody > tr {\n",
       "  text-align: right;\n",
       "  white-space: pre-wrap;\n",
       "}\n",
       "</style>\n",
       "<small>shape: (982, 9)</small><table border=\"1\" class=\"dataframe\"><thead><tr><th>id</th><th>sold_at</th><th>category_path</th><th>condition</th><th>description</th><th>size</th><th>color</th><th>sold_price</th><th>designers_title</th></tr><tr><td>i64</td><td>datetime[μs]</td><td>str</td><td>str</td><td>str</td><td>str</td><td>str</td><td>i64</td><td>str</td></tr></thead><tbody><tr><td>71647532</td><td>2025-01-05 14:08:23.859</td><td>&quot;tops.sweaters_knitwear&quot;</td><td>&quot;is_gently_used&quot;</td><td>&quot;FlameWood 🎁 \n",
       "\n",
       "🔥OPEN TO ALL OFF…</td><td>&quot;s&quot;</td><td>&quot;red&quot;</td><td>35</td><td>&quot;Allsaints Streetwear Vintage: …</td></tr><tr><td>73021106</td><td>2025-01-05 14:08:04.773</td><td>&quot;tops.button_ups&quot;</td><td>&quot;is_gently_used&quot;</td><td>&quot;Gitman vintage cotton tweed in…</td><td>&quot;l&quot;</td><td>&quot;brown check&quot;</td><td>100</td><td>&quot;Gitman Bros. Vintage: Cotton t…</td></tr><tr><td>68262295</td><td>2025-01-05 14:07:10.215</td><td>&quot;bottoms.denim&quot;</td><td>&quot;is_new&quot;</td><td>&quot;Shipped same or next business …</td><td>&quot;32&quot;</td><td>&quot;indigo&quot;</td><td>50</td><td>&quot;Richie Le Collection: Richie L…</td></tr><tr><td>72992745</td><td>2025-01-05 14:06:46.201</td><td>&quot;accessories.bags_luggage&quot;</td><td>&quot;is_gently_used&quot;</td><td>&quot;🫣🫣Please check all Photos\n",
       "🤗🤗al…</td><td>&quot;one size&quot;</td><td>&quot;black red&quot;</td><td>38</td><td>&quot;Freitag Japanese Brand Vintage…</td></tr><tr><td>72984676</td><td>2025-01-05 14:05:30.309</td><td>&quot;tops.sweatshirts_hoodies&quot;</td><td>&quot;is_gently_used&quot;</td><td>&quot;Chrome Hearts Slo Ride Hoodie …</td><td>&quot;xl&quot;</td><td>&quot;black&quot;</td><td>645</td><td>&quot;Chrome Hearts: Chrome Hearts S…</td></tr><tr><td>&hellip;</td><td>&hellip;</td><td>&hellip;</td><td>&hellip;</td><td>&hellip;</td><td>&hellip;</td><td>&hellip;</td><td>&hellip;</td><td>&hellip;</td></tr><tr><td>71251242</td><td>2025-01-05 04:38:16.677</td><td>&quot;tops.short_sleeve_shirts&quot;</td><td>&quot;is_new&quot;</td><td>&quot;Vengeance x Calido Scopic Coll…</td><td>&quot;l&quot;</td><td>&quot;black&quot;</td><td>100</td><td>&quot;Marvel Comics Streetwear Vinta…</td></tr><tr><td>70156293</td><td>2025-01-05 04:37:40.605</td><td>&quot;accessories.hats&quot;</td><td>&quot;is_gently_used&quot;</td><td>&quot;composition: 65% wool + 35% vi…</td><td>&quot;one size&quot;</td><td>&quot;green&quot;</td><td>15</td><td>&quot;Japanese Brand Rolex Vintage: …</td></tr><tr><td>72184683</td><td>2025-01-05 04:36:59.707</td><td>&quot;tops.jerseys&quot;</td><td>&quot;is_new&quot;</td><td>&quot;Nike New England Patriots Brad…</td><td>&quot;xl&quot;</td><td>&quot;white/blue&quot;</td><td>80</td><td>&quot;Jersey NFL Vintage: New Englan…</td></tr><tr><td>71194299</td><td>2025-01-05 04:36:41.681</td><td>&quot;tops.short_sleeve_shirts&quot;</td><td>&quot;is_used&quot;</td><td>&quot;Condition good overall, has so…</td><td>&quot;xxl&quot;</td><td>&quot;brown&quot;</td><td>26</td><td>&quot;Sportswear Streetwear Vintage:…</td></tr><tr><td>70501946</td><td>2025-01-05 04:36:14.014</td><td>&quot;bottoms.denim&quot;</td><td>&quot;is_used&quot;</td><td>&quot;YY-4\n",
       "\n",
       "✓AKM X LEE\n",
       "✓MADE IN JAPA…</td><td>&quot;30&quot;</td><td>&quot;blue distressed&quot;</td><td>130</td><td>&quot;Akm If Six Was Nine Lee: SiCK …</td></tr></tbody></table></div>"
      ],
      "text/plain": [
       "shape: (982, 9)\n",
       "┌──────────┬────────────┬───────────┬───────────┬───┬──────────┬───────────┬───────────┬───────────┐\n",
       "│ id       ┆ sold_at    ┆ category_ ┆ condition ┆ … ┆ size     ┆ color     ┆ sold_pric ┆ designers │\n",
       "│ ---      ┆ ---        ┆ path      ┆ ---       ┆   ┆ ---      ┆ ---       ┆ e         ┆ _title    │\n",
       "│ i64      ┆ datetime[μ ┆ ---       ┆ str       ┆   ┆ str      ┆ str       ┆ ---       ┆ ---       │\n",
       "│          ┆ s]         ┆ str       ┆           ┆   ┆          ┆           ┆ i64       ┆ str       │\n",
       "╞══════════╪════════════╪═══════════╪═══════════╪═══╪══════════╪═══════════╪═══════════╪═══════════╡\n",
       "│ 71647532 ┆ 2025-01-05 ┆ tops.swea ┆ is_gently ┆ … ┆ s        ┆ red       ┆ 35        ┆ Allsaints │\n",
       "│          ┆ 14:08:23.8 ┆ ters_knit ┆ _used     ┆   ┆          ┆           ┆           ┆ Streetwea │\n",
       "│          ┆ 59         ┆ wear      ┆           ┆   ┆          ┆           ┆           ┆ r         │\n",
       "│          ┆            ┆           ┆           ┆   ┆          ┆           ┆           ┆ Vintage:  │\n",
       "│          ┆            ┆           ┆           ┆   ┆          ┆           ┆           ┆ …         │\n",
       "│ 73021106 ┆ 2025-01-05 ┆ tops.butt ┆ is_gently ┆ … ┆ l        ┆ brown     ┆ 100       ┆ Gitman    │\n",
       "│          ┆ 14:08:04.7 ┆ on_ups    ┆ _used     ┆   ┆          ┆ check     ┆           ┆ Bros.     │\n",
       "│          ┆ 73         ┆           ┆           ┆   ┆          ┆           ┆           ┆ Vintage:  │\n",
       "│          ┆            ┆           ┆           ┆   ┆          ┆           ┆           ┆ Cotton t… │\n",
       "│ 68262295 ┆ 2025-01-05 ┆ bottoms.d ┆ is_new    ┆ … ┆ 32       ┆ indigo    ┆ 50        ┆ Richie Le │\n",
       "│          ┆ 14:07:10.2 ┆ enim      ┆           ┆   ┆          ┆           ┆           ┆ Collectio │\n",
       "│          ┆ 15         ┆           ┆           ┆   ┆          ┆           ┆           ┆ n: Richie │\n",
       "│          ┆            ┆           ┆           ┆   ┆          ┆           ┆           ┆ L…        │\n",
       "│ 72992745 ┆ 2025-01-05 ┆ accessori ┆ is_gently ┆ … ┆ one size ┆ black red ┆ 38        ┆ Freitag   │\n",
       "│          ┆ 14:06:46.2 ┆ es.bags_l ┆ _used     ┆   ┆          ┆           ┆           ┆ Japanese  │\n",
       "│          ┆ 01         ┆ uggage    ┆           ┆   ┆          ┆           ┆           ┆ Brand     │\n",
       "│          ┆            ┆           ┆           ┆   ┆          ┆           ┆           ┆ Vintage…  │\n",
       "│ 72984676 ┆ 2025-01-05 ┆ tops.swea ┆ is_gently ┆ … ┆ xl       ┆ black     ┆ 645       ┆ Chrome    │\n",
       "│          ┆ 14:05:30.3 ┆ tshirts_h ┆ _used     ┆   ┆          ┆           ┆           ┆ Hearts:   │\n",
       "│          ┆ 09         ┆ oodies    ┆           ┆   ┆          ┆           ┆           ┆ Chrome    │\n",
       "│          ┆            ┆           ┆           ┆   ┆          ┆           ┆           ┆ Hearts S… │\n",
       "│ …        ┆ …          ┆ …         ┆ …         ┆ … ┆ …        ┆ …         ┆ …         ┆ …         │\n",
       "│ 71251242 ┆ 2025-01-05 ┆ tops.shor ┆ is_new    ┆ … ┆ l        ┆ black     ┆ 100       ┆ Marvel    │\n",
       "│          ┆ 04:38:16.6 ┆ t_sleeve_ ┆           ┆   ┆          ┆           ┆           ┆ Comics    │\n",
       "│          ┆ 77         ┆ shirts    ┆           ┆   ┆          ┆           ┆           ┆ Streetwea │\n",
       "│          ┆            ┆           ┆           ┆   ┆          ┆           ┆           ┆ r Vinta…  │\n",
       "│ 70156293 ┆ 2025-01-05 ┆ accessori ┆ is_gently ┆ … ┆ one size ┆ green     ┆ 15        ┆ Japanese  │\n",
       "│          ┆ 04:37:40.6 ┆ es.hats   ┆ _used     ┆   ┆          ┆           ┆           ┆ Brand     │\n",
       "│          ┆ 05         ┆           ┆           ┆   ┆          ┆           ┆           ┆ Rolex     │\n",
       "│          ┆            ┆           ┆           ┆   ┆          ┆           ┆           ┆ Vintage:  │\n",
       "│          ┆            ┆           ┆           ┆   ┆          ┆           ┆           ┆ …         │\n",
       "│ 72184683 ┆ 2025-01-05 ┆ tops.jers ┆ is_new    ┆ … ┆ xl       ┆ white/blu ┆ 80        ┆ Jersey    │\n",
       "│          ┆ 04:36:59.7 ┆ eys       ┆           ┆   ┆          ┆ e         ┆           ┆ NFL       │\n",
       "│          ┆ 07         ┆           ┆           ┆   ┆          ┆           ┆           ┆ Vintage:  │\n",
       "│          ┆            ┆           ┆           ┆   ┆          ┆           ┆           ┆ New       │\n",
       "│          ┆            ┆           ┆           ┆   ┆          ┆           ┆           ┆ Englan…   │\n",
       "│ 71194299 ┆ 2025-01-05 ┆ tops.shor ┆ is_used   ┆ … ┆ xxl      ┆ brown     ┆ 26        ┆ Sportswea │\n",
       "│          ┆ 04:36:41.6 ┆ t_sleeve_ ┆           ┆   ┆          ┆           ┆           ┆ r Streetw │\n",
       "│          ┆ 81         ┆ shirts    ┆           ┆   ┆          ┆           ┆           ┆ ear       │\n",
       "│          ┆            ┆           ┆           ┆   ┆          ┆           ┆           ┆ Vintage:… │\n",
       "│ 70501946 ┆ 2025-01-05 ┆ bottoms.d ┆ is_used   ┆ … ┆ 30       ┆ blue dist ┆ 130       ┆ Akm If    │\n",
       "│          ┆ 04:36:14.0 ┆ enim      ┆           ┆   ┆          ┆ ressed    ┆           ┆ Six Was   │\n",
       "│          ┆ 14         ┆           ┆           ┆   ┆          ┆           ┆           ┆ Nine Lee: │\n",
       "│          ┆            ┆           ┆           ┆   ┆          ┆           ┆           ┆ SiCK …    │\n",
       "└──────────┴────────────┴───────────┴───────────┴───┴──────────┴───────────┴───────────┴───────────┘"
      ]
     },
     "execution_count": 5,
     "metadata": {},
     "output_type": "execute_result"
    }
   ],
   "source": [
    "raw_df = pl.read_parquet(f'data/grailed_items_{current_time}.parquet')\n",
    "raw_df"
   ]
  },
  {
   "cell_type": "markdown",
   "id": "e3cef177",
   "metadata": {},
   "source": [
    "### Quick data exploration\n",
    "Taken from https://graildient-descent.streamlit.app/eda, using 10,000 samples.\n",
    "We could do the same using the larger dataset.\n",
    "\n",
    "#### Numerical/quantitative features\n",
    "Target variable (sold_price):\n",
    "- Most sold items are between 35-135$ (consider plotting bins) - consider outliers, since we are far from normal distribution, maybe try a log transformation?\n",
    "\n",
    "Number of photos:\n",
    "- Another numerical feature, could be added\n",
    "- Price increases until 13 photos, then inconsistent\n",
    "\n",
    "#### Categorical/qualitative features\n",
    "- high-cardinality: designer, color, subcategory, size\n",
    "- low-cardinality: category, condition\n",
    "\n",
    "Target encoding more fitting for high-cardinality features. Whereas low-cardinality features could be one-hot encoded.\n",
    "\n",
    "- designer a strong predictor\n",
    "- we skip department, to focus on men's clothing only (it has better representation)\n",
    "- there is good variation of sold prices in different subcategories => probably a good indicator\n",
    "- could be interesting to use embeddings for color instead\n",
    "- condition - perfect for ordinal encoding. The better the condition, the higher the average sold price.\n",
    "\n",
    "##### Text\n",
    "- title/description - should we do any pre-processing?\n",
    "- we could look at sentiment and similar text analysis approaches\n",
    "\n",
    "#### Images\n",
    "- could be interesting to add embedding representation of title image"
   ]
  },
  {
   "cell_type": "markdown",
   "id": "331c9062-70aa-4658-ba16-da30eea12f10",
   "metadata": {},
   "source": [
    "## Feature processing"
   ]
  },
  {
   "cell_type": "code",
   "execution_count": 6,
   "id": "701df576-46d6-41be-87be-9f465a0a5a92",
   "metadata": {},
   "outputs": [],
   "source": [
    "from data_collection_preprocessing.embeddings import embed_text\n",
    "from data_collection_preprocessing.load_data import item_condition_to_ordinal"
   ]
  },
  {
   "cell_type": "code",
   "execution_count": 7,
   "id": "99488862-8b40-4d6b-a15f-6a7b2398a918",
   "metadata": {},
   "outputs": [],
   "source": [
    "# Represent designers_title as an embedding\n",
    "df = raw_df.with_columns(\n",
    "    pl.col('designers_title')\n",
    "    .map_elements(embed_text, return_dtype=pl.List(pl.Float32))\n",
    "    .alias('designers_title_embedding')\n",
    ")"
   ]
  },
  {
   "cell_type": "code",
   "execution_count": 8,
   "id": "68431924",
   "metadata": {},
   "outputs": [],
   "source": [
    "# Convert condition to ordinal number\n",
    "df = df.with_columns(\n",
    "    pl.col('condition')\n",
    "    .map_elements(item_condition_to_ordinal, return_dtype=pl.UInt32)\n",
    "    .alias('condition_ordinal')\n",
    ")\n",
    "\n",
    "# Drop the old condition column\n",
    "df = df.drop(['condition'])"
   ]
  },
  {
   "cell_type": "code",
   "execution_count": 9,
   "id": "80d488b4-a714-4fcd-b91e-16d4966af211",
   "metadata": {},
   "outputs": [
    {
     "data": {
      "text/html": [
       "<div><style>\n",
       ".dataframe > thead > tr,\n",
       ".dataframe > tbody > tr {\n",
       "  text-align: right;\n",
       "  white-space: pre-wrap;\n",
       "}\n",
       "</style>\n",
       "<small>shape: (982, 10)</small><table border=\"1\" class=\"dataframe\"><thead><tr><th>id</th><th>sold_at</th><th>category_path</th><th>description</th><th>size</th><th>color</th><th>sold_price</th><th>designers_title</th><th>designers_title_embedding</th><th>condition_ordinal</th></tr><tr><td>i64</td><td>datetime[μs]</td><td>str</td><td>str</td><td>str</td><td>str</td><td>i64</td><td>str</td><td>list[f32]</td><td>u32</td></tr></thead><tbody><tr><td>71647532</td><td>2025-01-05 14:08:23.859</td><td>&quot;tops.sweaters_knitwear&quot;</td><td>&quot;FlameWood 🎁 \n",
       "\n",
       "🔥OPEN TO ALL OFF…</td><td>&quot;s&quot;</td><td>&quot;red&quot;</td><td>35</td><td>&quot;Allsaints Streetwear Vintage: …</td><td>[-0.00976, 0.056274, … -0.034127]</td><td>2</td></tr><tr><td>73021106</td><td>2025-01-05 14:08:04.773</td><td>&quot;tops.button_ups&quot;</td><td>&quot;Gitman vintage cotton tweed in…</td><td>&quot;l&quot;</td><td>&quot;brown check&quot;</td><td>100</td><td>&quot;Gitman Bros. Vintage: Cotton t…</td><td>[-0.015262, 0.019917, … -0.035356]</td><td>2</td></tr><tr><td>68262295</td><td>2025-01-05 14:07:10.215</td><td>&quot;bottoms.denim&quot;</td><td>&quot;Shipped same or next business …</td><td>&quot;32&quot;</td><td>&quot;indigo&quot;</td><td>50</td><td>&quot;Richie Le Collection: Richie L…</td><td>[-0.013938, -0.017665, … -0.039873]</td><td>3</td></tr><tr><td>72992745</td><td>2025-01-05 14:06:46.201</td><td>&quot;accessories.bags_luggage&quot;</td><td>&quot;🫣🫣Please check all Photos\n",
       "🤗🤗al…</td><td>&quot;one size&quot;</td><td>&quot;black red&quot;</td><td>38</td><td>&quot;Freitag Japanese Brand Vintage…</td><td>[0.00719, 0.054017, … -0.026897]</td><td>2</td></tr><tr><td>72984676</td><td>2025-01-05 14:05:30.309</td><td>&quot;tops.sweatshirts_hoodies&quot;</td><td>&quot;Chrome Hearts Slo Ride Hoodie …</td><td>&quot;xl&quot;</td><td>&quot;black&quot;</td><td>645</td><td>&quot;Chrome Hearts: Chrome Hearts S…</td><td>[-0.021588, 0.005552, … -0.005691]</td><td>2</td></tr><tr><td>&hellip;</td><td>&hellip;</td><td>&hellip;</td><td>&hellip;</td><td>&hellip;</td><td>&hellip;</td><td>&hellip;</td><td>&hellip;</td><td>&hellip;</td><td>&hellip;</td></tr><tr><td>71251242</td><td>2025-01-05 04:38:16.677</td><td>&quot;tops.short_sleeve_shirts&quot;</td><td>&quot;Vengeance x Calido Scopic Coll…</td><td>&quot;l&quot;</td><td>&quot;black&quot;</td><td>100</td><td>&quot;Marvel Comics Streetwear Vinta…</td><td>[-0.030552, 0.029717, … -0.031746]</td><td>3</td></tr><tr><td>70156293</td><td>2025-01-05 04:37:40.605</td><td>&quot;accessories.hats&quot;</td><td>&quot;composition: 65% wool + 35% vi…</td><td>&quot;one size&quot;</td><td>&quot;green&quot;</td><td>15</td><td>&quot;Japanese Brand Rolex Vintage: …</td><td>[-0.052672, 0.018519, … -0.060684]</td><td>2</td></tr><tr><td>72184683</td><td>2025-01-05 04:36:59.707</td><td>&quot;tops.jerseys&quot;</td><td>&quot;Nike New England Patriots Brad…</td><td>&quot;xl&quot;</td><td>&quot;white/blue&quot;</td><td>80</td><td>&quot;Jersey NFL Vintage: New Englan…</td><td>[-0.00336, -0.00741, … -0.0177]</td><td>3</td></tr><tr><td>71194299</td><td>2025-01-05 04:36:41.681</td><td>&quot;tops.short_sleeve_shirts&quot;</td><td>&quot;Condition good overall, has so…</td><td>&quot;xxl&quot;</td><td>&quot;brown&quot;</td><td>26</td><td>&quot;Sportswear Streetwear Vintage:…</td><td>[-0.024623, 0.027894, … -0.063672]</td><td>1</td></tr><tr><td>70501946</td><td>2025-01-05 04:36:14.014</td><td>&quot;bottoms.denim&quot;</td><td>&quot;YY-4\n",
       "\n",
       "✓AKM X LEE\n",
       "✓MADE IN JAPA…</td><td>&quot;30&quot;</td><td>&quot;blue distressed&quot;</td><td>130</td><td>&quot;Akm If Six Was Nine Lee: SiCK …</td><td>[0.015222, 0.004289, … -0.020007]</td><td>1</td></tr></tbody></table></div>"
      ],
      "text/plain": [
       "shape: (982, 10)\n",
       "┌──────────┬───────────┬───────────┬───────────┬───┬───────────┬───────────┬───────────┬───────────┐\n",
       "│ id       ┆ sold_at   ┆ category_ ┆ descripti ┆ … ┆ sold_pric ┆ designers ┆ designers ┆ condition │\n",
       "│ ---      ┆ ---       ┆ path      ┆ on        ┆   ┆ e         ┆ _title    ┆ _title_em ┆ _ordinal  │\n",
       "│ i64      ┆ datetime[ ┆ ---       ┆ ---       ┆   ┆ ---       ┆ ---       ┆ bedding   ┆ ---       │\n",
       "│          ┆ μs]       ┆ str       ┆ str       ┆   ┆ i64       ┆ str       ┆ ---       ┆ u32       │\n",
       "│          ┆           ┆           ┆           ┆   ┆           ┆           ┆ list[f32] ┆           │\n",
       "╞══════════╪═══════════╪═══════════╪═══════════╪═══╪═══════════╪═══════════╪═══════════╪═══════════╡\n",
       "│ 71647532 ┆ 2025-01-0 ┆ tops.swea ┆ FlameWood ┆ … ┆ 35        ┆ Allsaints ┆ [-0.00976 ┆ 2         │\n",
       "│          ┆ 5 14:08:2 ┆ ters_knit ┆ 🎁        ┆   ┆           ┆ Streetwea ┆ ,         ┆           │\n",
       "│          ┆ 3.859     ┆ wear      ┆           ┆   ┆           ┆ r         ┆ 0.056274, ┆           │\n",
       "│          ┆           ┆           ┆ 🔥OPEN TO ┆   ┆           ┆ Vintage:  ┆ …         ┆           │\n",
       "│          ┆           ┆           ┆ ALL OFF…  ┆   ┆           ┆ …         ┆ -0.0341…  ┆           │\n",
       "│ 73021106 ┆ 2025-01-0 ┆ tops.butt ┆ Gitman    ┆ … ┆ 100       ┆ Gitman    ┆ [-0.01526 ┆ 2         │\n",
       "│          ┆ 5 14:08:0 ┆ on_ups    ┆ vintage   ┆   ┆           ┆ Bros.     ┆ 2,        ┆           │\n",
       "│          ┆ 4.773     ┆           ┆ cotton    ┆   ┆           ┆ Vintage:  ┆ 0.019917, ┆           │\n",
       "│          ┆           ┆           ┆ tweed in… ┆   ┆           ┆ Cotton t… ┆ … -0.035… ┆           │\n",
       "│ 68262295 ┆ 2025-01-0 ┆ bottoms.d ┆ Shipped   ┆ … ┆ 50        ┆ Richie Le ┆ [-0.01393 ┆ 3         │\n",
       "│          ┆ 5 14:07:1 ┆ enim      ┆ same or   ┆   ┆           ┆ Collectio ┆ 8, -0.017 ┆           │\n",
       "│          ┆ 0.215     ┆           ┆ next      ┆   ┆           ┆ n: Richie ┆ 665, …    ┆           │\n",
       "│          ┆           ┆           ┆ business  ┆   ┆           ┆ L…        ┆ -0.03…    ┆           │\n",
       "│          ┆           ┆           ┆ …         ┆   ┆           ┆           ┆           ┆           │\n",
       "│ 72992745 ┆ 2025-01-0 ┆ accessori ┆ 🫣🫣Pleas ┆ … ┆ 38        ┆ Freitag   ┆ [0.00719, ┆ 2         │\n",
       "│          ┆ 5 14:06:4 ┆ es.bags_l ┆ e check   ┆   ┆           ┆ Japanese  ┆ 0.054017, ┆           │\n",
       "│          ┆ 6.201     ┆ uggage    ┆ all       ┆   ┆           ┆ Brand     ┆ …         ┆           │\n",
       "│          ┆           ┆           ┆ Photos    ┆   ┆           ┆ Vintage…  ┆ -0.02689… ┆           │\n",
       "│          ┆           ┆           ┆ 🤗🤗al…   ┆   ┆           ┆           ┆           ┆           │\n",
       "│ 72984676 ┆ 2025-01-0 ┆ tops.swea ┆ Chrome    ┆ … ┆ 645       ┆ Chrome    ┆ [-0.02158 ┆ 2         │\n",
       "│          ┆ 5 14:05:3 ┆ tshirts_h ┆ Hearts    ┆   ┆           ┆ Hearts:   ┆ 8,        ┆           │\n",
       "│          ┆ 0.309     ┆ oodies    ┆ Slo Ride  ┆   ┆           ┆ Chrome    ┆ 0.005552, ┆           │\n",
       "│          ┆           ┆           ┆ Hoodie …  ┆   ┆           ┆ Hearts S… ┆ … -0.005… ┆           │\n",
       "│ …        ┆ …         ┆ …         ┆ …         ┆ … ┆ …         ┆ …         ┆ …         ┆ …         │\n",
       "│ 71251242 ┆ 2025-01-0 ┆ tops.shor ┆ Vengeance ┆ … ┆ 100       ┆ Marvel    ┆ [-0.03055 ┆ 3         │\n",
       "│          ┆ 5 04:38:1 ┆ t_sleeve_ ┆ x Calido  ┆   ┆           ┆ Comics    ┆ 2,        ┆           │\n",
       "│          ┆ 6.677     ┆ shirts    ┆ Scopic    ┆   ┆           ┆ Streetwea ┆ 0.029717, ┆           │\n",
       "│          ┆           ┆           ┆ Coll…     ┆   ┆           ┆ r Vinta…  ┆ … -0.031… ┆           │\n",
       "│ 70156293 ┆ 2025-01-0 ┆ accessori ┆ compositi ┆ … ┆ 15        ┆ Japanese  ┆ [-0.05267 ┆ 2         │\n",
       "│          ┆ 5 04:37:4 ┆ es.hats   ┆ on: 65%   ┆   ┆           ┆ Brand     ┆ 2,        ┆           │\n",
       "│          ┆ 0.605     ┆           ┆ wool +    ┆   ┆           ┆ Rolex     ┆ 0.018519, ┆           │\n",
       "│          ┆           ┆           ┆ 35% vi…   ┆   ┆           ┆ Vintage:  ┆ … -0.060… ┆           │\n",
       "│          ┆           ┆           ┆           ┆   ┆           ┆ …         ┆           ┆           │\n",
       "│ 72184683 ┆ 2025-01-0 ┆ tops.jers ┆ Nike New  ┆ … ┆ 80        ┆ Jersey    ┆ [-0.00336 ┆ 3         │\n",
       "│          ┆ 5 04:36:5 ┆ eys       ┆ England   ┆   ┆           ┆ NFL       ┆ ,         ┆           │\n",
       "│          ┆ 9.707     ┆           ┆ Patriots  ┆   ┆           ┆ Vintage:  ┆ -0.00741, ┆           │\n",
       "│          ┆           ┆           ┆ Brad…     ┆   ┆           ┆ New       ┆ …         ┆           │\n",
       "│          ┆           ┆           ┆           ┆   ┆           ┆ Englan…   ┆ -0.0177…  ┆           │\n",
       "│ 71194299 ┆ 2025-01-0 ┆ tops.shor ┆ Condition ┆ … ┆ 26        ┆ Sportswea ┆ [-0.02462 ┆ 1         │\n",
       "│          ┆ 5 04:36:4 ┆ t_sleeve_ ┆ good      ┆   ┆           ┆ r Streetw ┆ 3,        ┆           │\n",
       "│          ┆ 1.681     ┆ shirts    ┆ overall,  ┆   ┆           ┆ ear       ┆ 0.027894, ┆           │\n",
       "│          ┆           ┆           ┆ has so…   ┆   ┆           ┆ Vintage:… ┆ … -0.063… ┆           │\n",
       "│ 70501946 ┆ 2025-01-0 ┆ bottoms.d ┆ YY-4      ┆ … ┆ 130       ┆ Akm If    ┆ [0.015222 ┆ 1         │\n",
       "│          ┆ 5 04:36:1 ┆ enim      ┆           ┆   ┆           ┆ Six Was   ┆ ,         ┆           │\n",
       "│          ┆ 4.014     ┆           ┆ ✓AKM X    ┆   ┆           ┆ Nine Lee: ┆ 0.004289, ┆           │\n",
       "│          ┆           ┆           ┆ LEE       ┆   ┆           ┆ SiCK …    ┆ …         ┆           │\n",
       "│          ┆           ┆           ┆ ✓MADE IN  ┆   ┆           ┆           ┆ -0.0200…  ┆           │\n",
       "│          ┆           ┆           ┆ JAPA…     ┆   ┆           ┆           ┆           ┆           │\n",
       "└──────────┴───────────┴───────────┴───────────┴───┴───────────┴───────────┴───────────┴───────────┘"
      ]
     },
     "execution_count": 9,
     "metadata": {},
     "output_type": "execute_result"
    }
   ],
   "source": [
    "df"
   ]
  },
  {
   "cell_type": "markdown",
   "id": "3ca44fc4-3df9-4e14-a1d6-f6163793af11",
   "metadata": {},
   "source": [
    "## Save data"
   ]
  },
  {
   "cell_type": "code",
   "execution_count": 10,
   "id": "1bc76c0d-86ad-48f5-a8e0-929d3005104a",
   "metadata": {},
   "outputs": [],
   "source": [
    "fs = project.get_feature_store() "
   ]
  },
  {
   "cell_type": "code",
   "execution_count": 11,
   "id": "4ba5cf39-a2ad-4adb-8b0d-2ae050009a41",
   "metadata": {},
   "outputs": [],
   "source": [
    "grailed_items_fg = fs.get_or_create_feature_group(\n",
    "    name='grailed_items',\n",
    "    description='Sold Grailed items',\n",
    "    version=2,\n",
    "    primary_key=['id'],\n",
    "    event_time=\"sold_at\",\n",
    "    # expectation_suite=aq_expectation_suite\n",
    ")"
   ]
  },
  {
   "cell_type": "code",
   "execution_count": 12,
   "id": "a1697d1f-7ca7-4e73-a062-35306db365fd",
   "metadata": {},
   "outputs": [
    {
     "name": "stderr",
     "output_type": "stream",
     "text": [
      "Uploading Dataframe: 100.00% |███████████████████████████████████████| Rows 982/982 | Elapsed Time: 00:04 | Remaining Time: 00:00\n"
     ]
    },
    {
     "name": "stdout",
     "output_type": "stream",
     "text": [
      "Launching job: grailed_items_2_offline_fg_materialization\n",
      "Job started successfully, you can follow the progress at \n",
      "https://c.app.hopsworks.ai:443/p/1159324/jobs/named/grailed_items_2_offline_fg_materialization/executions\n"
     ]
    },
    {
     "data": {
      "text/plain": [
       "(Job('grailed_items_2_offline_fg_materialization', 'SPARK'), None)"
      ]
     },
     "execution_count": 12,
     "metadata": {},
     "output_type": "execute_result"
    }
   ],
   "source": [
    "grailed_items_fg.insert(df)"
   ]
  },
  {
   "cell_type": "code",
   "execution_count": 13,
   "id": "db637fd2-3242-4af9-b4a0-2aae96c36a00",
   "metadata": {},
   "outputs": [],
   "source": [
    "# TODO: Update feature description"
   ]
  }
 ],
 "metadata": {
  "kernelspec": {
   "display_name": "Python 3 (ipykernel)",
   "language": "python",
   "name": "python3"
  },
  "language_info": {
   "codemirror_mode": {
    "name": "ipython",
    "version": 3
   },
   "file_extension": ".py",
   "mimetype": "text/x-python",
   "name": "python",
   "nbconvert_exporter": "python",
   "pygments_lexer": "ipython3",
   "version": "3.11.9"
  }
 },
 "nbformat": 4,
 "nbformat_minor": 5
}
