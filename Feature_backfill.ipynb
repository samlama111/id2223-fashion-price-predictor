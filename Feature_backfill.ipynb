{
 "cells": [
  {
   "cell_type": "code",
   "execution_count": 1,
   "id": "2dd54b5f-73f0-41ef-a58f-00c543acbdb3",
   "metadata": {},
   "outputs": [],
   "source": [
    "import os\n",
    "import hopsworks\n",
    "import polars as pl"
   ]
  },
  {
   "cell_type": "code",
   "execution_count": 2,
   "id": "8a5d4bee-9601-4e64-9b64-6b705078cf32",
   "metadata": {},
   "outputs": [
    {
     "name": "stdout",
     "output_type": "stream",
     "text": [
      "2024-12-29 19:07:55,883 INFO: Initializing external client\n",
      "2024-12-29 19:07:55,884 INFO: Base URL: https://c.app.hopsworks.ai:443\n",
      "2024-12-29 19:07:57,562 INFO: Python Engine initialized.\n",
      "\n",
      "Logged in to project, explore it here https://c.app.hopsworks.ai:443/p/1159324\n"
     ]
    }
   ],
   "source": [
    "with open('data/hopsworks-api-key.txt', 'r') as file:\n",
    "    os.environ[\"HOPSWORKS_API_KEY\"] = file.read().rstrip()\n",
    "    \n",
    "project = hopsworks.login()"
   ]
  },
  {
   "cell_type": "markdown",
   "id": "6620f0cd-3897-463b-98df-0695de3b81b1",
   "metadata": {},
   "source": [
    "## Get data"
   ]
  },
  {
   "cell_type": "code",
   "execution_count": 3,
   "id": "aa708d68-099e-472d-998c-02602b523ca5",
   "metadata": {},
   "outputs": [],
   "source": [
    "from data_collection_preprocessing.load_data import pipeline"
   ]
  },
  {
   "cell_type": "code",
   "execution_count": 4,
   "id": "96ba6484-dd85-4744-9206-8d3c285e6b23",
   "metadata": {},
   "outputs": [
    {
     "name": "stdout",
     "output_type": "stream",
     "text": [
      "shape: (300, 9)\n",
      "┌──────────┬────────────┬────────────┬────────────┬───┬──────────┬───────┬────────────┬────────────┐\n",
      "│ id       ┆ sold_at    ┆ category_p ┆ condition  ┆ … ┆ size     ┆ color ┆ sold_price ┆ designers_ │\n",
      "│ ---      ┆ ---        ┆ ath        ┆ ---        ┆   ┆ ---      ┆ ---   ┆ ---        ┆ title      │\n",
      "│ i64      ┆ datetime[μ ┆ ---        ┆ str        ┆   ┆ str      ┆ str   ┆ i64        ┆ ---        │\n",
      "│          ┆ s]         ┆ str        ┆            ┆   ┆          ┆       ┆            ┆ str        │\n",
      "╞══════════╪════════════╪════════════╪════════════╪═══╪══════════╪═══════╪════════════╪════════════╡\n",
      "│ 58400938 ┆ 2024-12-29 ┆ outerwear. ┆ is_used    ┆ … ┆ s        ┆ black ┆ 175        ┆ Falcon     │\n",
      "│          ┆ 16:11:08.0 ┆ leather_ja ┆            ┆   ┆          ┆       ┆            ┆ Garments:  │\n",
      "│          ┆ 74         ┆ ckets      ┆            ┆   ┆          ┆       ┆            ┆ Falcon     │\n",
      "│          ┆            ┆            ┆            ┆   ┆          ┆       ┆            ┆ Garmen…    │\n",
      "│ 62708822 ┆ 2024-12-29 ┆ bottoms.sw ┆ is_new     ┆ … ┆ 32       ┆ black ┆ 133        ┆ FOG Fear   │\n",
      "│          ┆ 16:10:56.0 ┆ eatpants_j ┆            ┆   ┆          ┆       ┆            ┆ of God:    │\n",
      "│          ┆ 07         ┆ oggers     ┆            ┆   ┆          ┆       ┆            ┆ Fear of    │\n",
      "│          ┆            ┆            ┆            ┆   ┆          ┆       ┆            ┆ God E…     │\n",
      "│ 69613557 ┆ 2024-12-29 ┆ bottoms.de ┆ is_gently_ ┆ … ┆ 32       ┆ black ┆ 8          ┆ Corteiz    │\n",
      "│          ┆ 16:10:13.0 ┆ nim        ┆ used       ┆   ┆          ┆       ┆            ┆ Japanese   │\n",
      "│          ┆ 33         ┆            ┆            ┆   ┆          ┆       ┆            ┆ Brand      │\n",
      "│          ┆            ┆            ┆            ┆   ┆          ┆       ┆            ┆ Other: …   │\n",
      "│ 71289134 ┆ 2024-12-29 ┆ footwear.l ┆ is_new     ┆ … ┆ 14       ┆ blue  ┆ 60         ┆ Nike: Nike │\n",
      "│          ┆ 16:10:04.6 ┆ owtop_snea ┆            ┆   ┆          ┆       ┆            ┆ Mens Zoom  │\n",
      "│          ┆ 14         ┆ kers       ┆            ┆   ┆          ┆       ┆            ┆ Fly 63091… │\n",
      "│ 72120393 ┆ 2024-12-29 ┆ footwear.b ┆ is_gently_ ┆ … ┆ 11       ┆ brown ┆ 40         ┆ Clarks:    │\n",
      "│          ┆ 16:09:29.4 ┆ oots       ┆ used       ┆   ┆          ┆       ┆            ┆ Clarks     │\n",
      "│          ┆ 41         ┆            ┆            ┆   ┆          ┆       ┆            ┆ Buckle     │\n",
      "│          ┆            ┆            ┆            ┆   ┆          ┆       ┆            ┆ Biker Br…  │\n",
      "│ …        ┆ …          ┆ …          ┆ …          ┆ … ┆ …        ┆ …     ┆ …          ┆ …          │\n",
      "│ 50071057 ┆ 2024-12-29 ┆ tops.short ┆ is_used    ┆ … ┆ xl       ┆ white ┆ 40         ┆ Japanese   │\n",
      "│          ┆ 12:25:01.2 ┆ _sleeve_sh ┆            ┆   ┆          ┆       ┆            ┆ Brand      │\n",
      "│          ┆ 63         ┆ irts       ┆            ┆   ┆          ┆       ┆            ┆ Streetwear │\n",
      "│          ┆            ┆            ┆            ┆   ┆          ┆       ┆            ┆ Vint…      │\n",
      "│ 70648522 ┆ 2024-12-29 ┆ tops.short ┆ is_gently_ ┆ … ┆ m        ┆ blue  ┆ 50         ┆ Kith: KITH │\n",
      "│          ┆ 12:24:19.0 ┆ _sleeve_sh ┆ used       ┆   ┆          ┆       ┆            ┆ Giants Tee │\n",
      "│          ┆ 92         ┆ irts       ┆            ┆   ┆          ┆       ┆            ┆            │\n",
      "│ 72114439 ┆ 2024-12-29 ┆ tops.sweat ┆ is_gently_ ┆ … ┆ l        ┆ gray  ┆ 299        ┆ Bape: Bape │\n",
      "│          ┆ 12:20:04.5 ┆ shirts_hoo ┆ used       ┆   ┆          ┆       ┆            ┆ Color Camo │\n",
      "│          ┆ 48         ┆ dies       ┆            ┆   ┆          ┆       ┆            ┆ Full Zip…  │\n",
      "│ 71443508 ┆ 2024-12-29 ┆ accessorie ┆ is_gently_ ┆ … ┆ one size ┆ red   ┆ 59         ┆ Marlboro   │\n",
      "│          ┆ 12:18:16.7 ┆ s.hats     ┆ used       ┆   ┆          ┆       ┆            ┆ Streetwear │\n",
      "│          ┆ 82         ┆            ┆            ┆   ┆          ┆       ┆            ┆ Vintage:   │\n",
      "│          ┆            ┆            ┆            ┆   ┆          ┆       ┆            ┆ M…         │\n",
      "│ 71465338 ┆ 2024-12-29 ┆ bottoms.de ┆ is_used    ┆ … ┆ 38       ┆ black ┆ 78         ┆ Avant      │\n",
      "│          ┆ 12:18:03.2 ┆ nim        ┆            ┆   ┆          ┆       ┆            ┆ Garde      │\n",
      "│          ┆ 86         ┆            ┆            ┆   ┆          ┆       ┆            ┆ Marithe    │\n",
      "│          ┆            ┆            ┆            ┆   ┆          ┆       ┆            ┆ Francois   │\n",
      "│          ┆            ┆            ┆            ┆   ┆          ┆       ┆            ┆ G…         │\n",
      "└──────────┴────────────┴────────────┴────────────┴───┴──────────┴───────┴────────────┴────────────┘\n"
     ]
    }
   ],
   "source": [
    "raw_df = pipeline(no_of_hits=300)"
   ]
  },
  {
   "cell_type": "markdown",
   "id": "e3cef177",
   "metadata": {},
   "source": [
    "### Quick data exploration\n",
    "Taken from https://graildient-descent.streamlit.app/eda, using 10,000 samples.\n",
    "We could do the same using the larger dataset.\n",
    "\n",
    "#### Numerical/quantitative features\n",
    "Target variable (sold_price):\n",
    "- Most sold items are between 35-135$ (consider plotting bins) - consider outliers, since we are far from normal distribution, maybe try a log transformation?\n",
    "\n",
    "Number of photos:\n",
    "- Another numerical feature, could be added\n",
    "- Price increases until 13 photos, then inconsistent\n",
    "\n",
    "#### Categorical/qualitative features\n",
    "- high-cardinality: designer, color, subcategory, size\n",
    "- low-cardinality: category, condition\n",
    "\n",
    "Target encoding more fitting for high-cardinality features. Whereas low-cardinality features could be one-hot encoded.\n",
    "\n",
    "- designer a strong predictor\n",
    "- we skip department, to focus on men's clothing only (it has better representation)\n",
    "- there is good variation of sold prices in different subcategories => probably a good indicator\n",
    "- could be interesting to use embeddings for color instead\n",
    "- condition - perfect for ordinal encoding. The better the condition, the higher the average sold price.\n",
    "\n",
    "##### Text\n",
    "- title/description - should we do any pre-processing?\n",
    "- we could look at sentiment and similar text analysis approaches\n",
    "\n",
    "#### Images\n",
    "- could be interesting to add embedding representation of title image"
   ]
  },
  {
   "cell_type": "code",
   "execution_count": 5,
   "id": "2dac294e-9933-46ea-9e3d-9dfa3650108d",
   "metadata": {},
   "outputs": [
    {
     "data": {
      "text/plain": [
       "((300, 9), (295, 9))"
      ]
     },
     "execution_count": 5,
     "metadata": {},
     "output_type": "execute_result"
    }
   ],
   "source": [
    "# Drop any rows with null values\n",
    "df = raw_df.drop_nulls()\n",
    "raw_df.shape, df.shape"
   ]
  },
  {
   "cell_type": "markdown",
   "id": "331c9062-70aa-4658-ba16-da30eea12f10",
   "metadata": {},
   "source": [
    "## Feature processing"
   ]
  },
  {
   "cell_type": "code",
   "execution_count": 6,
   "id": "701df576-46d6-41be-87be-9f465a0a5a92",
   "metadata": {},
   "outputs": [],
   "source": [
    "from data_collection_preprocessing.embeddings import embed_text\n",
    "from data_collection_preprocessing.load_data import item_condition_to_ordinal"
   ]
  },
  {
   "cell_type": "code",
   "execution_count": 7,
   "id": "99488862-8b40-4d6b-a15f-6a7b2398a918",
   "metadata": {},
   "outputs": [],
   "source": [
    "# Represent designers_title as an embedding\n",
    "df = df.with_columns(\n",
    "    pl.col('designers_title')\n",
    "    .map_elements(embed_text, return_dtype=pl.List(pl.Float32))\n",
    "    .alias('designers_title_embedding')\n",
    ")\n",
    "\n",
    "# Represent condition as an ordinal number?"
   ]
  },
  {
   "cell_type": "code",
   "execution_count": 8,
   "id": "68431924",
   "metadata": {},
   "outputs": [],
   "source": [
    "# Convert condition to ordinal number\n",
    "df = df.with_columns(\n",
    "    pl.col('condition')\n",
    "    .map_elements(item_condition_to_ordinal, return_dtype=pl.UInt32)\n",
    "    .alias('condition_ordinal')\n",
    ")\n",
    "\n",
    "# Drop the old condition column\n",
    "df = df.drop(['condition'])"
   ]
  },
  {
   "cell_type": "code",
   "execution_count": 9,
   "id": "80d488b4-a714-4fcd-b91e-16d4966af211",
   "metadata": {},
   "outputs": [
    {
     "data": {
      "text/html": [
       "<div><style>\n",
       ".dataframe > thead > tr,\n",
       ".dataframe > tbody > tr {\n",
       "  text-align: right;\n",
       "  white-space: pre-wrap;\n",
       "}\n",
       "</style>\n",
       "<small>shape: (295, 10)</small><table border=\"1\" class=\"dataframe\"><thead><tr><th>id</th><th>sold_at</th><th>category_path</th><th>description</th><th>size</th><th>color</th><th>sold_price</th><th>designers_title</th><th>designers_title_embedding</th><th>condition_ordinal</th></tr><tr><td>i64</td><td>datetime[μs]</td><td>str</td><td>str</td><td>str</td><td>str</td><td>i64</td><td>str</td><td>list[f32]</td><td>u32</td></tr></thead><tbody><tr><td>58400938</td><td>2024-12-29 16:11:08.074</td><td>&quot;outerwear.leather_jackets&quot;</td><td>&quot;Worn lightly, in great conditi…</td><td>&quot;s&quot;</td><td>&quot;black&quot;</td><td>175</td><td>&quot;Falcon Garments: Falcon Garmen…</td><td>[0.006814, 0.012294, … -0.029637]</td><td>1</td></tr><tr><td>62708822</td><td>2024-12-29 16:10:56.007</td><td>&quot;bottoms.sweatpants_joggers&quot;</td><td>&quot;Fear Of God Essentials Drawstr…</td><td>&quot;32&quot;</td><td>&quot;black&quot;</td><td>133</td><td>&quot;FOG Fear of God: Fear of God E…</td><td>[0.013592, -0.005749, … -0.024911]</td><td>3</td></tr><tr><td>69613557</td><td>2024-12-29 16:10:13.033</td><td>&quot;bottoms.denim&quot;</td><td>&quot;Brand is Minus two. worn twice…</td><td>&quot;32&quot;</td><td>&quot;black&quot;</td><td>8</td><td>&quot;Corteiz Japanese Brand Other: …</td><td>[0.0089, 0.08929, … -0.00968]</td><td>2</td></tr><tr><td>71289134</td><td>2024-12-29 16:10:04.614</td><td>&quot;footwear.lowtop_sneakers&quot;</td><td>&quot;Nike Performance Zoom Fly 6309…</td><td>&quot;14&quot;</td><td>&quot;blue&quot;</td><td>60</td><td>&quot;Nike: Nike Mens Zoom Fly 63091…</td><td>[-0.015823, 0.01715, … -0.028978]</td><td>3</td></tr><tr><td>72120393</td><td>2024-12-29 16:09:29.441</td><td>&quot;footwear.boots&quot;</td><td>&quot;Elevate your footwear collecti…</td><td>&quot;11&quot;</td><td>&quot;brown&quot;</td><td>40</td><td>&quot;Clarks: Clarks Buckle Biker Br…</td><td>[-0.016412, 0.003058, … -0.054447]</td><td>2</td></tr><tr><td>&hellip;</td><td>&hellip;</td><td>&hellip;</td><td>&hellip;</td><td>&hellip;</td><td>&hellip;</td><td>&hellip;</td><td>&hellip;</td><td>&hellip;</td><td>&hellip;</td></tr><tr><td>50071057</td><td>2024-12-29 12:25:01.263</td><td>&quot;tops.short_sleeve_shirts&quot;</td><td>&quot;Vintage Archie comic character…</td><td>&quot;xl&quot;</td><td>&quot;white&quot;</td><td>40</td><td>&quot;Japanese Brand Streetwear Vint…</td><td>[-0.066469, 0.04695, … -0.066343]</td><td>1</td></tr><tr><td>70648522</td><td>2024-12-29 12:24:19.092</td><td>&quot;tops.short_sleeve_shirts&quot;</td><td>&quot;Like NEW. Worn once!&quot;</td><td>&quot;m&quot;</td><td>&quot;blue&quot;</td><td>50</td><td>&quot;Kith: KITH Giants Tee&quot;</td><td>[-0.052704, 0.006904, … 0.014113]</td><td>2</td></tr><tr><td>72114439</td><td>2024-12-29 12:20:04.548</td><td>&quot;tops.sweatshirts_hoodies&quot;</td><td>&quot;barely used, authentic bape sh…</td><td>&quot;l&quot;</td><td>&quot;gray&quot;</td><td>299</td><td>&quot;Bape: Bape Color Camo Full Zip…</td><td>[-0.042123, 0.016466, … -0.06163]</td><td>2</td></tr><tr><td>71443508</td><td>2024-12-29 12:18:16.782</td><td>&quot;accessories.hats&quot;</td><td>&quot;- The cap in perfect condition…</td><td>&quot;one size&quot;</td><td>&quot;red&quot;</td><td>59</td><td>&quot;Marlboro Streetwear Vintage: M…</td><td>[-0.053722, -0.010562, … -0.053374]</td><td>2</td></tr><tr><td>71465338</td><td>2024-12-29 12:18:03.286</td><td>&quot;bottoms.denim&quot;</td><td>&quot;CODE ITEM:&nbsp;&nbsp;&nbsp;P590 (As a refere…</td><td>&quot;38&quot;</td><td>&quot;black&quot;</td><td>78</td><td>&quot;Avant Garde Marithe Francois G…</td><td>[-0.029516, -0.014017, … -0.058128]</td><td>1</td></tr></tbody></table></div>"
      ],
      "text/plain": [
       "shape: (295, 10)\n",
       "┌──────────┬───────────┬───────────┬───────────┬───┬───────────┬───────────┬───────────┬───────────┐\n",
       "│ id       ┆ sold_at   ┆ category_ ┆ descripti ┆ … ┆ sold_pric ┆ designers ┆ designers ┆ condition │\n",
       "│ ---      ┆ ---       ┆ path      ┆ on        ┆   ┆ e         ┆ _title    ┆ _title_em ┆ _ordinal  │\n",
       "│ i64      ┆ datetime[ ┆ ---       ┆ ---       ┆   ┆ ---       ┆ ---       ┆ bedding   ┆ ---       │\n",
       "│          ┆ μs]       ┆ str       ┆ str       ┆   ┆ i64       ┆ str       ┆ ---       ┆ u32       │\n",
       "│          ┆           ┆           ┆           ┆   ┆           ┆           ┆ list[f32] ┆           │\n",
       "╞══════════╪═══════════╪═══════════╪═══════════╪═══╪═══════════╪═══════════╪═══════════╪═══════════╡\n",
       "│ 58400938 ┆ 2024-12-2 ┆ outerwear ┆ Worn      ┆ … ┆ 175       ┆ Falcon    ┆ [0.006814 ┆ 1         │\n",
       "│          ┆ 9 16:11:0 ┆ .leather_ ┆ lightly,  ┆   ┆           ┆ Garments: ┆ ,         ┆           │\n",
       "│          ┆ 8.074     ┆ jackets   ┆ in great  ┆   ┆           ┆ Falcon    ┆ 0.012294, ┆           │\n",
       "│          ┆           ┆           ┆ conditi…  ┆   ┆           ┆ Garmen…   ┆ …         ┆           │\n",
       "│          ┆           ┆           ┆           ┆   ┆           ┆           ┆ -0.0296…  ┆           │\n",
       "│ 62708822 ┆ 2024-12-2 ┆ bottoms.s ┆ Fear Of   ┆ … ┆ 133       ┆ FOG Fear  ┆ [0.013592 ┆ 3         │\n",
       "│          ┆ 9 16:10:5 ┆ weatpants ┆ God Essen ┆   ┆           ┆ of God:   ┆ , -0.0057 ┆           │\n",
       "│          ┆ 6.007     ┆ _joggers  ┆ tials     ┆   ┆           ┆ Fear of   ┆ 49, …     ┆           │\n",
       "│          ┆           ┆           ┆ Drawstr…  ┆   ┆           ┆ God E…    ┆ -0.024…   ┆           │\n",
       "│ 69613557 ┆ 2024-12-2 ┆ bottoms.d ┆ Brand is  ┆ … ┆ 8         ┆ Corteiz   ┆ [0.0089,  ┆ 2         │\n",
       "│          ┆ 9 16:10:1 ┆ enim      ┆ Minus     ┆   ┆           ┆ Japanese  ┆ 0.08929,  ┆           │\n",
       "│          ┆ 3.033     ┆           ┆ two. worn ┆   ┆           ┆ Brand     ┆ …         ┆           │\n",
       "│          ┆           ┆           ┆ twice…    ┆   ┆           ┆ Other: …  ┆ -0.00968] ┆           │\n",
       "│ 71289134 ┆ 2024-12-2 ┆ footwear. ┆ Nike Perf ┆ … ┆ 60        ┆ Nike:     ┆ [-0.01582 ┆ 3         │\n",
       "│          ┆ 9 16:10:0 ┆ lowtop_sn ┆ ormance   ┆   ┆           ┆ Nike Mens ┆ 3,        ┆           │\n",
       "│          ┆ 4.614     ┆ eakers    ┆ Zoom Fly  ┆   ┆           ┆ Zoom Fly  ┆ 0.01715,  ┆           │\n",
       "│          ┆           ┆           ┆ 6309…     ┆   ┆           ┆ 63091…    ┆ …         ┆           │\n",
       "│          ┆           ┆           ┆           ┆   ┆           ┆           ┆ -0.0289…  ┆           │\n",
       "│ 72120393 ┆ 2024-12-2 ┆ footwear. ┆ Elevate   ┆ … ┆ 40        ┆ Clarks:   ┆ [-0.01641 ┆ 2         │\n",
       "│          ┆ 9 16:09:2 ┆ boots     ┆ your      ┆   ┆           ┆ Clarks    ┆ 2,        ┆           │\n",
       "│          ┆ 9.441     ┆           ┆ footwear  ┆   ┆           ┆ Buckle    ┆ 0.003058, ┆           │\n",
       "│          ┆           ┆           ┆ collecti… ┆   ┆           ┆ Biker Br… ┆ … -0.054… ┆           │\n",
       "│ …        ┆ …         ┆ …         ┆ …         ┆ … ┆ …         ┆ …         ┆ …         ┆ …         │\n",
       "│ 50071057 ┆ 2024-12-2 ┆ tops.shor ┆ Vintage   ┆ … ┆ 40        ┆ Japanese  ┆ [-0.06646 ┆ 1         │\n",
       "│          ┆ 9 12:25:0 ┆ t_sleeve_ ┆ Archie    ┆   ┆           ┆ Brand Str ┆ 9,        ┆           │\n",
       "│          ┆ 1.263     ┆ shirts    ┆ comic cha ┆   ┆           ┆ eetwear   ┆ 0.04695,  ┆           │\n",
       "│          ┆           ┆           ┆ racter…   ┆   ┆           ┆ Vint…     ┆ …         ┆           │\n",
       "│          ┆           ┆           ┆           ┆   ┆           ┆           ┆ -0.0663…  ┆           │\n",
       "│ 70648522 ┆ 2024-12-2 ┆ tops.shor ┆ Like NEW. ┆ … ┆ 50        ┆ Kith:     ┆ [-0.05270 ┆ 2         │\n",
       "│          ┆ 9 12:24:1 ┆ t_sleeve_ ┆ Worn      ┆   ┆           ┆ KITH      ┆ 4,        ┆           │\n",
       "│          ┆ 9.092     ┆ shirts    ┆ once!     ┆   ┆           ┆ Giants    ┆ 0.006904, ┆           │\n",
       "│          ┆           ┆           ┆           ┆   ┆           ┆ Tee       ┆ … 0.0141… ┆           │\n",
       "│ 72114439 ┆ 2024-12-2 ┆ tops.swea ┆ barely    ┆ … ┆ 299       ┆ Bape:     ┆ [-0.04212 ┆ 2         │\n",
       "│          ┆ 9 12:20:0 ┆ tshirts_h ┆ used,     ┆   ┆           ┆ Bape      ┆ 3,        ┆           │\n",
       "│          ┆ 4.548     ┆ oodies    ┆ authentic ┆   ┆           ┆ Color     ┆ 0.016466, ┆           │\n",
       "│          ┆           ┆           ┆ bape sh…  ┆   ┆           ┆ Camo Full ┆ … -0.061… ┆           │\n",
       "│          ┆           ┆           ┆           ┆   ┆           ┆ Zip…      ┆           ┆           │\n",
       "│ 71443508 ┆ 2024-12-2 ┆ accessori ┆ - The cap ┆ … ┆ 59        ┆ Marlboro  ┆ [-0.05372 ┆ 2         │\n",
       "│          ┆ 9 12:18:1 ┆ es.hats   ┆ in        ┆   ┆           ┆ Streetwea ┆ 2, -0.010 ┆           │\n",
       "│          ┆ 6.782     ┆           ┆ perfect   ┆   ┆           ┆ r         ┆ 562, …    ┆           │\n",
       "│          ┆           ┆           ┆ condition ┆   ┆           ┆ Vintage:  ┆ -0.05…    ┆           │\n",
       "│          ┆           ┆           ┆ …         ┆   ┆           ┆ M…        ┆           ┆           │\n",
       "│ 71465338 ┆ 2024-12-2 ┆ bottoms.d ┆ CODE      ┆ … ┆ 78        ┆ Avant     ┆ [-0.02951 ┆ 1         │\n",
       "│          ┆ 9 12:18:0 ┆ enim      ┆ ITEM:     ┆   ┆           ┆ Garde     ┆ 6, -0.014 ┆           │\n",
       "│          ┆ 3.286     ┆           ┆ P590 (As  ┆   ┆           ┆ Marithe   ┆ 017, …    ┆           │\n",
       "│          ┆           ┆           ┆ a refere… ┆   ┆           ┆ Francois  ┆ -0.05…    ┆           │\n",
       "│          ┆           ┆           ┆           ┆   ┆           ┆ G…        ┆           ┆           │\n",
       "└──────────┴───────────┴───────────┴───────────┴───┴───────────┴───────────┴───────────┴───────────┘"
      ]
     },
     "execution_count": 9,
     "metadata": {},
     "output_type": "execute_result"
    }
   ],
   "source": [
    "df"
   ]
  },
  {
   "cell_type": "markdown",
   "id": "3ca44fc4-3df9-4e14-a1d6-f6163793af11",
   "metadata": {},
   "source": [
    "## Save data"
   ]
  },
  {
   "cell_type": "code",
   "execution_count": 10,
   "id": "1bc76c0d-86ad-48f5-a8e0-929d3005104a",
   "metadata": {},
   "outputs": [],
   "source": [
    "fs = project.get_feature_store() "
   ]
  },
  {
   "cell_type": "code",
   "execution_count": 11,
   "id": "4ba5cf39-a2ad-4adb-8b0d-2ae050009a41",
   "metadata": {},
   "outputs": [],
   "source": [
    "grailed_items_fg = fs.get_or_create_feature_group(\n",
    "    name='grailed_items',\n",
    "    description='Sold Grailed items',\n",
    "    version=2,\n",
    "    primary_key=['id'],\n",
    "    event_time=\"sold_at\",\n",
    "    # expectation_suite=aq_expectation_suite\n",
    ")"
   ]
  },
  {
   "cell_type": "code",
   "execution_count": 12,
   "id": "a1697d1f-7ca7-4e73-a062-35306db365fd",
   "metadata": {},
   "outputs": [
    {
     "name": "stdout",
     "output_type": "stream",
     "text": [
      "Feature Group created successfully, explore it at \n",
      "https://c.app.hopsworks.ai:443/p/1159324/fs/1150027/fg/1394342\n"
     ]
    },
    {
     "name": "stderr",
     "output_type": "stream",
     "text": [
      "Uploading Dataframe: 100.00% |██████| Rows 295/295 | Elapsed Time: 00:01 | Remaining Time: 00:00\n"
     ]
    },
    {
     "name": "stdout",
     "output_type": "stream",
     "text": [
      "Launching job: grailed_items_2_offline_fg_materialization\n",
      "Job started successfully, you can follow the progress at \n",
      "https://c.app.hopsworks.ai:443/p/1159324/jobs/named/grailed_items_2_offline_fg_materialization/executions\n"
     ]
    },
    {
     "data": {
      "text/plain": [
       "(Job('grailed_items_2_offline_fg_materialization', 'SPARK'), None)"
      ]
     },
     "execution_count": 12,
     "metadata": {},
     "output_type": "execute_result"
    }
   ],
   "source": [
    "grailed_items_fg.insert(df)"
   ]
  },
  {
   "cell_type": "code",
   "execution_count": null,
   "id": "db637fd2-3242-4af9-b4a0-2aae96c36a00",
   "metadata": {},
   "outputs": [],
   "source": [
    "# TODO: Update feature description"
   ]
  }
 ],
 "metadata": {
  "kernelspec": {
   "display_name": "Python 3 (ipykernel)",
   "language": "python",
   "name": "python3"
  },
  "language_info": {
   "codemirror_mode": {
    "name": "ipython",
    "version": 3
   },
   "file_extension": ".py",
   "mimetype": "text/x-python",
   "name": "python",
   "nbconvert_exporter": "python",
   "pygments_lexer": "ipython3",
   "version": "3.11.9"
  }
 },
 "nbformat": 4,
 "nbformat_minor": 5
}
